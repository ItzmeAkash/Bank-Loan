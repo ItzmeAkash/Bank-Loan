{
  "nbformat": 4,
  "nbformat_minor": 0,
  "metadata": {
    "colab": {
      "provenance": [],
      "mount_file_id": "1smBgJEutTO0ypDRoZgnLCVuCn9MhBmyH",
      "authorship_tag": "ABX9TyP82I1FEpEsq7pSXhOdBPH7",
      "include_colab_link": true
    },
    "kernelspec": {
      "name": "python3",
      "display_name": "Python 3"
    },
    "language_info": {
      "name": "python"
    }
  },
  "cells": [
    {
      "cell_type": "markdown",
      "metadata": {
        "id": "view-in-github",
        "colab_type": "text"
      },
      "source": [
        "<a href=\"https://colab.research.google.com/github/ItzmeAkash/Bank-Loan-EDA/blob/main/Eda_Using_SweetViz.ipynb\" target=\"_parent\"><img src=\"https://colab.research.google.com/assets/colab-badge.svg\" alt=\"Open In Colab\"/></a>"
      ]
    },
    {
      "cell_type": "markdown",
      "source": [
        "# **Powerfull EDA Using(SweetViz)**"
      ],
      "metadata": {
        "id": "n0JOFQxE0Lgc"
      }
    },
    {
      "cell_type": "markdown",
      "source": [
        "## **Import Libraries**"
      ],
      "metadata": {
        "id": "Ghi7CwEH0cAy"
      }
    },
    {
      "cell_type": "code",
      "source": [
        "import pandas as pd\n",
        "import sweetviz as sv"
      ],
      "metadata": {
        "id": "eVvdhLSx0lcL"
      },
      "execution_count": 4,
      "outputs": []
    },
    {
      "cell_type": "code",
      "execution_count": 6,
      "metadata": {
        "id": "10vO8KXQzfMz"
      },
      "outputs": [],
      "source": [
        "### Dataset link: https://www.kaggle.com/c/house-prices-advanced-regression-techniques\n",
        "\n",
        "train = pd.read_csv(\"/content/drive/MyDrive/Self Projects/Eda/Eda Using SweetViz/train.csv\")\n",
        "test = pd.read_csv(\"/content/drive/MyDrive/Self Projects/Eda/Eda Using SweetViz/test.csv\")"
      ]
    },
    {
      "cell_type": "code",
      "source": [],
      "metadata": {
        "id": "laRb10cM0-ap"
      },
      "execution_count": null,
      "outputs": []
    }
  ]
}