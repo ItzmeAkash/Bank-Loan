{
  "nbformat": 4,
  "nbformat_minor": 0,
  "metadata": {
    "colab": {
      "provenance": [],
      "collapsed_sections": [
        "mYI-MgboXibS"
      ],
      "mount_file_id": "1NmxqN8Fa4Bay7UbNEMIQJ1rBFviuZZ70",
      "authorship_tag": "ABX9TyNMZkNzSrMLDKVS8ok8NF6i",
      "include_colab_link": true
    },
    "kernelspec": {
      "name": "python3",
      "display_name": "Python 3"
    },
    "language_info": {
      "name": "python"
    }
  },
  "cells": [
    {
      "cell_type": "markdown",
      "metadata": {
        "id": "view-in-github",
        "colab_type": "text"
      },
      "source": [
        "<a href=\"https://colab.research.google.com/github/ItzmeAkash/Bank-Loan-EDA/blob/main/Bank_Loan_Exploratory_Data_Analysis.ipynb\" target=\"_parent\"><img src=\"https://colab.research.google.com/assets/colab-badge.svg\" alt=\"Open In Colab\"/></a>"
      ]
    },
    {
      "cell_type": "markdown",
      "source": [
        "#**Bank Loan Exploratory Data Analysis**"
      ],
      "metadata": {
        "id": "62p8cz6XIK1o"
      }
    },
    {
      "cell_type": "markdown",
      "source": [
        "#**Project Summary**"
      ],
      "metadata": {
        "id": "FpIg5d44IbU2"
      }
    },
    {
      "cell_type": "markdown",
      "source": [],
      "metadata": {
        "id": "YCq_xE4VJR1W"
      }
    },
    {
      "cell_type": "markdown",
      "source": [
        "#**Let's Begin!**"
      ],
      "metadata": {
        "id": "YtDSgh0AJSIO"
      }
    },
    {
      "cell_type": "markdown",
      "source": [
        "##**1.Import Libraries**"
      ],
      "metadata": {
        "id": "noupqERKJbO1"
      }
    },
    {
      "cell_type": "code",
      "source": [
        "#Import Libraries\n",
        "import pandas as pd\n",
        "import numpy as np\n",
        "import matplotlib.pyplot as plt\n",
        "import matplotlib.style as style\n",
        "%matplotlib inline\n",
        "import seaborn as sns\n",
        "\n",
        "import warnings\n",
        "warnings.filterwarnings(\"ignore\")"
      ],
      "metadata": {
        "id": "NYbsoTD4JiNX"
      },
      "execution_count": 1,
      "outputs": []
    },
    {
      "cell_type": "code",
      "source": [],
      "metadata": {
        "id": "gqnzLdkHKEju"
      },
      "execution_count": 1,
      "outputs": []
    },
    {
      "cell_type": "markdown",
      "source": [
        "##**2.Dataset Loading**"
      ],
      "metadata": {
        "id": "1rS98XU-KGOj"
      }
    },
    {
      "cell_type": "code",
      "source": [
        "#Mounting the data set\n",
        "from google.colab import drive\n",
        "drive.mount('/content/drive')"
      ],
      "metadata": {
        "colab": {
          "base_uri": "https://localhost:8080/"
        },
        "id": "zz2Vk3u7KIsb",
        "outputId": "17e2edb1-cbf7-4691-f799-863e1341cef0"
      },
      "execution_count": 2,
      "outputs": [
        {
          "output_type": "stream",
          "name": "stdout",
          "text": [
            "Drive already mounted at /content/drive; to attempt to forcibly remount, call drive.mount(\"/content/drive\", force_remount=True).\n"
          ]
        }
      ]
    },
    {
      "cell_type": "code",
      "source": [
        "#Data set paths\n",
        "colum_path=('/content/drive/MyDrive/Self Projects/Eda/Bank Loan/columns_description.csv')\n",
        "app_path=('/content/drive/MyDrive/Self Projects/Eda/Bank Loan/application_data.csv')\n",
        "pre_path=('/content/drive/MyDrive/Self Projects/Eda/Bank Loan/previous_application.csv')"
      ],
      "metadata": {
        "id": "MPXvoELuKNZa"
      },
      "execution_count": 3,
      "outputs": []
    },
    {
      "cell_type": "code",
      "source": [
        "#load Dataset\n",
        "column_descrp_data=pd.read_csv(colum_path,encoding='cp1252')\n"
      ],
      "metadata": {
        "id": "yFZ1mU-rJ4u9"
      },
      "execution_count": 4,
      "outputs": []
    },
    {
      "cell_type": "code",
      "source": [
        "application_df=pd.read_csv(app_path)\n"
      ],
      "metadata": {
        "id": "2ec6HMKITYx3"
      },
      "execution_count": 5,
      "outputs": []
    },
    {
      "cell_type": "code",
      "source": [
        "previous_app_df=pd.read_csv(pre_path)"
      ],
      "metadata": {
        "id": "WJ4CUcLQTZ54"
      },
      "execution_count": 6,
      "outputs": []
    },
    {
      "cell_type": "markdown",
      "source": [
        "##**Dataset First View**"
      ],
      "metadata": {
        "id": "Zw-xCWlfKaPj"
      }
    },
    {
      "cell_type": "markdown",
      "source": [
        "###Understaning Datasets"
      ],
      "metadata": {
        "id": "H892b6DXOLmv"
      }
    },
    {
      "cell_type": "code",
      "source": [
        "#Application dataset First View\n",
        "application_df.head()"
      ],
      "metadata": {
        "colab": {
          "base_uri": "https://localhost:8080/",
          "height": 299
        },
        "id": "x67RdMDSHIsM",
        "outputId": "3b0b2e16-f27b-4815-d120-2cca73fd3d04"
      },
      "execution_count": 7,
      "outputs": [
        {
          "output_type": "execute_result",
          "data": {
            "text/plain": [
              "   SK_ID_CURR  TARGET NAME_CONTRACT_TYPE CODE_GENDER FLAG_OWN_CAR  \\\n",
              "0      100002       1         Cash loans           M            N   \n",
              "1      100003       0         Cash loans           F            N   \n",
              "2      100004       0    Revolving loans           M            Y   \n",
              "3      100006       0         Cash loans           F            N   \n",
              "4      100007       0         Cash loans           M            N   \n",
              "\n",
              "  FLAG_OWN_REALTY  CNT_CHILDREN  AMT_INCOME_TOTAL  AMT_CREDIT  AMT_ANNUITY  \\\n",
              "0               Y             0          202500.0    406597.5      24700.5   \n",
              "1               N             0          270000.0   1293502.5      35698.5   \n",
              "2               Y             0           67500.0    135000.0       6750.0   \n",
              "3               Y             0          135000.0    312682.5      29686.5   \n",
              "4               Y             0          121500.0    513000.0      21865.5   \n",
              "\n",
              "   ...  FLAG_DOCUMENT_18 FLAG_DOCUMENT_19 FLAG_DOCUMENT_20 FLAG_DOCUMENT_21  \\\n",
              "0  ...                 0                0                0                0   \n",
              "1  ...                 0                0                0                0   \n",
              "2  ...                 0                0                0                0   \n",
              "3  ...                 0                0                0                0   \n",
              "4  ...                 0                0                0                0   \n",
              "\n",
              "  AMT_REQ_CREDIT_BUREAU_HOUR AMT_REQ_CREDIT_BUREAU_DAY  \\\n",
              "0                        0.0                       0.0   \n",
              "1                        0.0                       0.0   \n",
              "2                        0.0                       0.0   \n",
              "3                        NaN                       NaN   \n",
              "4                        0.0                       0.0   \n",
              "\n",
              "   AMT_REQ_CREDIT_BUREAU_WEEK  AMT_REQ_CREDIT_BUREAU_MON  \\\n",
              "0                         0.0                        0.0   \n",
              "1                         0.0                        0.0   \n",
              "2                         0.0                        0.0   \n",
              "3                         NaN                        NaN   \n",
              "4                         0.0                        0.0   \n",
              "\n",
              "   AMT_REQ_CREDIT_BUREAU_QRT  AMT_REQ_CREDIT_BUREAU_YEAR  \n",
              "0                        0.0                         1.0  \n",
              "1                        0.0                         0.0  \n",
              "2                        0.0                         0.0  \n",
              "3                        NaN                         NaN  \n",
              "4                        0.0                         0.0  \n",
              "\n",
              "[5 rows x 122 columns]"
            ],
            "text/html": [
              "\n",
              "  <div id=\"df-90b2edfe-6656-40c1-a6ed-d2b90ce9d39f\">\n",
              "    <div class=\"colab-df-container\">\n",
              "      <div>\n",
              "<style scoped>\n",
              "    .dataframe tbody tr th:only-of-type {\n",
              "        vertical-align: middle;\n",
              "    }\n",
              "\n",
              "    .dataframe tbody tr th {\n",
              "        vertical-align: top;\n",
              "    }\n",
              "\n",
              "    .dataframe thead th {\n",
              "        text-align: right;\n",
              "    }\n",
              "</style>\n",
              "<table border=\"1\" class=\"dataframe\">\n",
              "  <thead>\n",
              "    <tr style=\"text-align: right;\">\n",
              "      <th></th>\n",
              "      <th>SK_ID_CURR</th>\n",
              "      <th>TARGET</th>\n",
              "      <th>NAME_CONTRACT_TYPE</th>\n",
              "      <th>CODE_GENDER</th>\n",
              "      <th>FLAG_OWN_CAR</th>\n",
              "      <th>FLAG_OWN_REALTY</th>\n",
              "      <th>CNT_CHILDREN</th>\n",
              "      <th>AMT_INCOME_TOTAL</th>\n",
              "      <th>AMT_CREDIT</th>\n",
              "      <th>AMT_ANNUITY</th>\n",
              "      <th>...</th>\n",
              "      <th>FLAG_DOCUMENT_18</th>\n",
              "      <th>FLAG_DOCUMENT_19</th>\n",
              "      <th>FLAG_DOCUMENT_20</th>\n",
              "      <th>FLAG_DOCUMENT_21</th>\n",
              "      <th>AMT_REQ_CREDIT_BUREAU_HOUR</th>\n",
              "      <th>AMT_REQ_CREDIT_BUREAU_DAY</th>\n",
              "      <th>AMT_REQ_CREDIT_BUREAU_WEEK</th>\n",
              "      <th>AMT_REQ_CREDIT_BUREAU_MON</th>\n",
              "      <th>AMT_REQ_CREDIT_BUREAU_QRT</th>\n",
              "      <th>AMT_REQ_CREDIT_BUREAU_YEAR</th>\n",
              "    </tr>\n",
              "  </thead>\n",
              "  <tbody>\n",
              "    <tr>\n",
              "      <th>0</th>\n",
              "      <td>100002</td>\n",
              "      <td>1</td>\n",
              "      <td>Cash loans</td>\n",
              "      <td>M</td>\n",
              "      <td>N</td>\n",
              "      <td>Y</td>\n",
              "      <td>0</td>\n",
              "      <td>202500.0</td>\n",
              "      <td>406597.5</td>\n",
              "      <td>24700.5</td>\n",
              "      <td>...</td>\n",
              "      <td>0</td>\n",
              "      <td>0</td>\n",
              "      <td>0</td>\n",
              "      <td>0</td>\n",
              "      <td>0.0</td>\n",
              "      <td>0.0</td>\n",
              "      <td>0.0</td>\n",
              "      <td>0.0</td>\n",
              "      <td>0.0</td>\n",
              "      <td>1.0</td>\n",
              "    </tr>\n",
              "    <tr>\n",
              "      <th>1</th>\n",
              "      <td>100003</td>\n",
              "      <td>0</td>\n",
              "      <td>Cash loans</td>\n",
              "      <td>F</td>\n",
              "      <td>N</td>\n",
              "      <td>N</td>\n",
              "      <td>0</td>\n",
              "      <td>270000.0</td>\n",
              "      <td>1293502.5</td>\n",
              "      <td>35698.5</td>\n",
              "      <td>...</td>\n",
              "      <td>0</td>\n",
              "      <td>0</td>\n",
              "      <td>0</td>\n",
              "      <td>0</td>\n",
              "      <td>0.0</td>\n",
              "      <td>0.0</td>\n",
              "      <td>0.0</td>\n",
              "      <td>0.0</td>\n",
              "      <td>0.0</td>\n",
              "      <td>0.0</td>\n",
              "    </tr>\n",
              "    <tr>\n",
              "      <th>2</th>\n",
              "      <td>100004</td>\n",
              "      <td>0</td>\n",
              "      <td>Revolving loans</td>\n",
              "      <td>M</td>\n",
              "      <td>Y</td>\n",
              "      <td>Y</td>\n",
              "      <td>0</td>\n",
              "      <td>67500.0</td>\n",
              "      <td>135000.0</td>\n",
              "      <td>6750.0</td>\n",
              "      <td>...</td>\n",
              "      <td>0</td>\n",
              "      <td>0</td>\n",
              "      <td>0</td>\n",
              "      <td>0</td>\n",
              "      <td>0.0</td>\n",
              "      <td>0.0</td>\n",
              "      <td>0.0</td>\n",
              "      <td>0.0</td>\n",
              "      <td>0.0</td>\n",
              "      <td>0.0</td>\n",
              "    </tr>\n",
              "    <tr>\n",
              "      <th>3</th>\n",
              "      <td>100006</td>\n",
              "      <td>0</td>\n",
              "      <td>Cash loans</td>\n",
              "      <td>F</td>\n",
              "      <td>N</td>\n",
              "      <td>Y</td>\n",
              "      <td>0</td>\n",
              "      <td>135000.0</td>\n",
              "      <td>312682.5</td>\n",
              "      <td>29686.5</td>\n",
              "      <td>...</td>\n",
              "      <td>0</td>\n",
              "      <td>0</td>\n",
              "      <td>0</td>\n",
              "      <td>0</td>\n",
              "      <td>NaN</td>\n",
              "      <td>NaN</td>\n",
              "      <td>NaN</td>\n",
              "      <td>NaN</td>\n",
              "      <td>NaN</td>\n",
              "      <td>NaN</td>\n",
              "    </tr>\n",
              "    <tr>\n",
              "      <th>4</th>\n",
              "      <td>100007</td>\n",
              "      <td>0</td>\n",
              "      <td>Cash loans</td>\n",
              "      <td>M</td>\n",
              "      <td>N</td>\n",
              "      <td>Y</td>\n",
              "      <td>0</td>\n",
              "      <td>121500.0</td>\n",
              "      <td>513000.0</td>\n",
              "      <td>21865.5</td>\n",
              "      <td>...</td>\n",
              "      <td>0</td>\n",
              "      <td>0</td>\n",
              "      <td>0</td>\n",
              "      <td>0</td>\n",
              "      <td>0.0</td>\n",
              "      <td>0.0</td>\n",
              "      <td>0.0</td>\n",
              "      <td>0.0</td>\n",
              "      <td>0.0</td>\n",
              "      <td>0.0</td>\n",
              "    </tr>\n",
              "  </tbody>\n",
              "</table>\n",
              "<p>5 rows × 122 columns</p>\n",
              "</div>\n",
              "      <button class=\"colab-df-convert\" onclick=\"convertToInteractive('df-90b2edfe-6656-40c1-a6ed-d2b90ce9d39f')\"\n",
              "              title=\"Convert this dataframe to an interactive table.\"\n",
              "              style=\"display:none;\">\n",
              "        \n",
              "  <svg xmlns=\"http://www.w3.org/2000/svg\" height=\"24px\"viewBox=\"0 0 24 24\"\n",
              "       width=\"24px\">\n",
              "    <path d=\"M0 0h24v24H0V0z\" fill=\"none\"/>\n",
              "    <path d=\"M18.56 5.44l.94 2.06.94-2.06 2.06-.94-2.06-.94-.94-2.06-.94 2.06-2.06.94zm-11 1L8.5 8.5l.94-2.06 2.06-.94-2.06-.94L8.5 2.5l-.94 2.06-2.06.94zm10 10l.94 2.06.94-2.06 2.06-.94-2.06-.94-.94-2.06-.94 2.06-2.06.94z\"/><path d=\"M17.41 7.96l-1.37-1.37c-.4-.4-.92-.59-1.43-.59-.52 0-1.04.2-1.43.59L10.3 9.45l-7.72 7.72c-.78.78-.78 2.05 0 2.83L4 21.41c.39.39.9.59 1.41.59.51 0 1.02-.2 1.41-.59l7.78-7.78 2.81-2.81c.8-.78.8-2.07 0-2.86zM5.41 20L4 18.59l7.72-7.72 1.47 1.35L5.41 20z\"/>\n",
              "  </svg>\n",
              "      </button>\n",
              "      \n",
              "  <style>\n",
              "    .colab-df-container {\n",
              "      display:flex;\n",
              "      flex-wrap:wrap;\n",
              "      gap: 12px;\n",
              "    }\n",
              "\n",
              "    .colab-df-convert {\n",
              "      background-color: #E8F0FE;\n",
              "      border: none;\n",
              "      border-radius: 50%;\n",
              "      cursor: pointer;\n",
              "      display: none;\n",
              "      fill: #1967D2;\n",
              "      height: 32px;\n",
              "      padding: 0 0 0 0;\n",
              "      width: 32px;\n",
              "    }\n",
              "\n",
              "    .colab-df-convert:hover {\n",
              "      background-color: #E2EBFA;\n",
              "      box-shadow: 0px 1px 2px rgba(60, 64, 67, 0.3), 0px 1px 3px 1px rgba(60, 64, 67, 0.15);\n",
              "      fill: #174EA6;\n",
              "    }\n",
              "\n",
              "    [theme=dark] .colab-df-convert {\n",
              "      background-color: #3B4455;\n",
              "      fill: #D2E3FC;\n",
              "    }\n",
              "\n",
              "    [theme=dark] .colab-df-convert:hover {\n",
              "      background-color: #434B5C;\n",
              "      box-shadow: 0px 1px 3px 1px rgba(0, 0, 0, 0.15);\n",
              "      filter: drop-shadow(0px 1px 2px rgba(0, 0, 0, 0.3));\n",
              "      fill: #FFFFFF;\n",
              "    }\n",
              "  </style>\n",
              "\n",
              "      <script>\n",
              "        const buttonEl =\n",
              "          document.querySelector('#df-90b2edfe-6656-40c1-a6ed-d2b90ce9d39f button.colab-df-convert');\n",
              "        buttonEl.style.display =\n",
              "          google.colab.kernel.accessAllowed ? 'block' : 'none';\n",
              "\n",
              "        async function convertToInteractive(key) {\n",
              "          const element = document.querySelector('#df-90b2edfe-6656-40c1-a6ed-d2b90ce9d39f');\n",
              "          const dataTable =\n",
              "            await google.colab.kernel.invokeFunction('convertToInteractive',\n",
              "                                                     [key], {});\n",
              "          if (!dataTable) return;\n",
              "\n",
              "          const docLinkHtml = 'Like what you see? Visit the ' +\n",
              "            '<a target=\"_blank\" href=https://colab.research.google.com/notebooks/data_table.ipynb>data table notebook</a>'\n",
              "            + ' to learn more about interactive tables.';\n",
              "          element.innerHTML = '';\n",
              "          dataTable['output_type'] = 'display_data';\n",
              "          await google.colab.output.renderOutput(dataTable, element);\n",
              "          const docLink = document.createElement('div');\n",
              "          docLink.innerHTML = docLinkHtml;\n",
              "          element.appendChild(docLink);\n",
              "        }\n",
              "      </script>\n",
              "    </div>\n",
              "  </div>\n",
              "  "
            ]
          },
          "metadata": {},
          "execution_count": 7
        }
      ]
    },
    {
      "cell_type": "code",
      "source": [
        "# Previous application dataset first view\n",
        "previous_app_df.sample(5)"
      ],
      "metadata": {
        "colab": {
          "base_uri": "https://localhost:8080/",
          "height": 351
        },
        "id": "QqBiK4IjOu0m",
        "outputId": "db0f24d9-03ab-487e-9710-badae58b9e80"
      },
      "execution_count": 8,
      "outputs": [
        {
          "output_type": "execute_result",
          "data": {
            "text/plain": [
              "         SK_ID_PREV  SK_ID_CURR NAME_CONTRACT_TYPE  AMT_ANNUITY  \\\n",
              "21442       2419849      418054     Consumer loans          NaN   \n",
              "848343      1822686      298886    Revolving loans     22500.00   \n",
              "403836      2512055      111020     Consumer loans     26774.46   \n",
              "1297843     1316581      198286         Cash loans     22772.34   \n",
              "221319      1412775      401826     Consumer loans     13494.60   \n",
              "\n",
              "         AMT_APPLICATION  AMT_CREDIT  AMT_DOWN_PAYMENT  AMT_GOODS_PRICE  \\\n",
              "21442           105705.0    105705.0               0.0         105705.0   \n",
              "848343          450000.0    450000.0               NaN         450000.0   \n",
              "403836          170910.0    149913.0           27346.5         170910.0   \n",
              "1297843         180000.0    191880.0               NaN         180000.0   \n",
              "221319           94324.5     90850.5            9450.0          94324.5   \n",
              "\n",
              "        WEEKDAY_APPR_PROCESS_START  HOUR_APPR_PROCESS_START  ...  \\\n",
              "21442                     SATURDAY                       16  ...   \n",
              "848343                      MONDAY                       16  ...   \n",
              "403836                      FRIDAY                       13  ...   \n",
              "1297843                     FRIDAY                        6  ...   \n",
              "221319                      SUNDAY                       15  ...   \n",
              "\n",
              "         NAME_SELLER_INDUSTRY  CNT_PAYMENT  NAME_YIELD_GROUP  \\\n",
              "21442            Connectivity          NaN               XNA   \n",
              "848343                    XNA          0.0               XNA   \n",
              "403836   Consumer electronics          6.0        low_normal   \n",
              "1297843                   XNA         12.0              high   \n",
              "221319   Consumer electronics          8.0            middle   \n",
              "\n",
              "                    PRODUCT_COMBINATION  DAYS_FIRST_DRAWING DAYS_FIRST_DUE  \\\n",
              "21442          POS mobile with interest                 NaN            NaN   \n",
              "848343                      Card X-Sell              -380.0         -350.0   \n",
              "403836   POS household without interest            365243.0        -2395.0   \n",
              "1297843               Cash Street: high            365243.0         -394.0   \n",
              "221319      POS household with interest            365243.0         -849.0   \n",
              "\n",
              "        DAYS_LAST_DUE_1ST_VERSION  DAYS_LAST_DUE DAYS_TERMINATION  \\\n",
              "21442                         NaN            NaN              NaN   \n",
              "848343                   365243.0       365243.0         365243.0   \n",
              "403836                    -2245.0        -2245.0          -2235.0   \n",
              "1297843                     -64.0         -124.0           -121.0   \n",
              "221319                     -639.0         -669.0           -662.0   \n",
              "\n",
              "        NFLAG_INSURED_ON_APPROVAL  \n",
              "21442                         NaN  \n",
              "848343                        0.0  \n",
              "403836                        1.0  \n",
              "1297843                       1.0  \n",
              "221319                        0.0  \n",
              "\n",
              "[5 rows x 37 columns]"
            ],
            "text/html": [
              "\n",
              "  <div id=\"df-56909d36-c03a-441c-a605-98f01440165c\">\n",
              "    <div class=\"colab-df-container\">\n",
              "      <div>\n",
              "<style scoped>\n",
              "    .dataframe tbody tr th:only-of-type {\n",
              "        vertical-align: middle;\n",
              "    }\n",
              "\n",
              "    .dataframe tbody tr th {\n",
              "        vertical-align: top;\n",
              "    }\n",
              "\n",
              "    .dataframe thead th {\n",
              "        text-align: right;\n",
              "    }\n",
              "</style>\n",
              "<table border=\"1\" class=\"dataframe\">\n",
              "  <thead>\n",
              "    <tr style=\"text-align: right;\">\n",
              "      <th></th>\n",
              "      <th>SK_ID_PREV</th>\n",
              "      <th>SK_ID_CURR</th>\n",
              "      <th>NAME_CONTRACT_TYPE</th>\n",
              "      <th>AMT_ANNUITY</th>\n",
              "      <th>AMT_APPLICATION</th>\n",
              "      <th>AMT_CREDIT</th>\n",
              "      <th>AMT_DOWN_PAYMENT</th>\n",
              "      <th>AMT_GOODS_PRICE</th>\n",
              "      <th>WEEKDAY_APPR_PROCESS_START</th>\n",
              "      <th>HOUR_APPR_PROCESS_START</th>\n",
              "      <th>...</th>\n",
              "      <th>NAME_SELLER_INDUSTRY</th>\n",
              "      <th>CNT_PAYMENT</th>\n",
              "      <th>NAME_YIELD_GROUP</th>\n",
              "      <th>PRODUCT_COMBINATION</th>\n",
              "      <th>DAYS_FIRST_DRAWING</th>\n",
              "      <th>DAYS_FIRST_DUE</th>\n",
              "      <th>DAYS_LAST_DUE_1ST_VERSION</th>\n",
              "      <th>DAYS_LAST_DUE</th>\n",
              "      <th>DAYS_TERMINATION</th>\n",
              "      <th>NFLAG_INSURED_ON_APPROVAL</th>\n",
              "    </tr>\n",
              "  </thead>\n",
              "  <tbody>\n",
              "    <tr>\n",
              "      <th>21442</th>\n",
              "      <td>2419849</td>\n",
              "      <td>418054</td>\n",
              "      <td>Consumer loans</td>\n",
              "      <td>NaN</td>\n",
              "      <td>105705.0</td>\n",
              "      <td>105705.0</td>\n",
              "      <td>0.0</td>\n",
              "      <td>105705.0</td>\n",
              "      <td>SATURDAY</td>\n",
              "      <td>16</td>\n",
              "      <td>...</td>\n",
              "      <td>Connectivity</td>\n",
              "      <td>NaN</td>\n",
              "      <td>XNA</td>\n",
              "      <td>POS mobile with interest</td>\n",
              "      <td>NaN</td>\n",
              "      <td>NaN</td>\n",
              "      <td>NaN</td>\n",
              "      <td>NaN</td>\n",
              "      <td>NaN</td>\n",
              "      <td>NaN</td>\n",
              "    </tr>\n",
              "    <tr>\n",
              "      <th>848343</th>\n",
              "      <td>1822686</td>\n",
              "      <td>298886</td>\n",
              "      <td>Revolving loans</td>\n",
              "      <td>22500.00</td>\n",
              "      <td>450000.0</td>\n",
              "      <td>450000.0</td>\n",
              "      <td>NaN</td>\n",
              "      <td>450000.0</td>\n",
              "      <td>MONDAY</td>\n",
              "      <td>16</td>\n",
              "      <td>...</td>\n",
              "      <td>XNA</td>\n",
              "      <td>0.0</td>\n",
              "      <td>XNA</td>\n",
              "      <td>Card X-Sell</td>\n",
              "      <td>-380.0</td>\n",
              "      <td>-350.0</td>\n",
              "      <td>365243.0</td>\n",
              "      <td>365243.0</td>\n",
              "      <td>365243.0</td>\n",
              "      <td>0.0</td>\n",
              "    </tr>\n",
              "    <tr>\n",
              "      <th>403836</th>\n",
              "      <td>2512055</td>\n",
              "      <td>111020</td>\n",
              "      <td>Consumer loans</td>\n",
              "      <td>26774.46</td>\n",
              "      <td>170910.0</td>\n",
              "      <td>149913.0</td>\n",
              "      <td>27346.5</td>\n",
              "      <td>170910.0</td>\n",
              "      <td>FRIDAY</td>\n",
              "      <td>13</td>\n",
              "      <td>...</td>\n",
              "      <td>Consumer electronics</td>\n",
              "      <td>6.0</td>\n",
              "      <td>low_normal</td>\n",
              "      <td>POS household without interest</td>\n",
              "      <td>365243.0</td>\n",
              "      <td>-2395.0</td>\n",
              "      <td>-2245.0</td>\n",
              "      <td>-2245.0</td>\n",
              "      <td>-2235.0</td>\n",
              "      <td>1.0</td>\n",
              "    </tr>\n",
              "    <tr>\n",
              "      <th>1297843</th>\n",
              "      <td>1316581</td>\n",
              "      <td>198286</td>\n",
              "      <td>Cash loans</td>\n",
              "      <td>22772.34</td>\n",
              "      <td>180000.0</td>\n",
              "      <td>191880.0</td>\n",
              "      <td>NaN</td>\n",
              "      <td>180000.0</td>\n",
              "      <td>FRIDAY</td>\n",
              "      <td>6</td>\n",
              "      <td>...</td>\n",
              "      <td>XNA</td>\n",
              "      <td>12.0</td>\n",
              "      <td>high</td>\n",
              "      <td>Cash Street: high</td>\n",
              "      <td>365243.0</td>\n",
              "      <td>-394.0</td>\n",
              "      <td>-64.0</td>\n",
              "      <td>-124.0</td>\n",
              "      <td>-121.0</td>\n",
              "      <td>1.0</td>\n",
              "    </tr>\n",
              "    <tr>\n",
              "      <th>221319</th>\n",
              "      <td>1412775</td>\n",
              "      <td>401826</td>\n",
              "      <td>Consumer loans</td>\n",
              "      <td>13494.60</td>\n",
              "      <td>94324.5</td>\n",
              "      <td>90850.5</td>\n",
              "      <td>9450.0</td>\n",
              "      <td>94324.5</td>\n",
              "      <td>SUNDAY</td>\n",
              "      <td>15</td>\n",
              "      <td>...</td>\n",
              "      <td>Consumer electronics</td>\n",
              "      <td>8.0</td>\n",
              "      <td>middle</td>\n",
              "      <td>POS household with interest</td>\n",
              "      <td>365243.0</td>\n",
              "      <td>-849.0</td>\n",
              "      <td>-639.0</td>\n",
              "      <td>-669.0</td>\n",
              "      <td>-662.0</td>\n",
              "      <td>0.0</td>\n",
              "    </tr>\n",
              "  </tbody>\n",
              "</table>\n",
              "<p>5 rows × 37 columns</p>\n",
              "</div>\n",
              "      <button class=\"colab-df-convert\" onclick=\"convertToInteractive('df-56909d36-c03a-441c-a605-98f01440165c')\"\n",
              "              title=\"Convert this dataframe to an interactive table.\"\n",
              "              style=\"display:none;\">\n",
              "        \n",
              "  <svg xmlns=\"http://www.w3.org/2000/svg\" height=\"24px\"viewBox=\"0 0 24 24\"\n",
              "       width=\"24px\">\n",
              "    <path d=\"M0 0h24v24H0V0z\" fill=\"none\"/>\n",
              "    <path d=\"M18.56 5.44l.94 2.06.94-2.06 2.06-.94-2.06-.94-.94-2.06-.94 2.06-2.06.94zm-11 1L8.5 8.5l.94-2.06 2.06-.94-2.06-.94L8.5 2.5l-.94 2.06-2.06.94zm10 10l.94 2.06.94-2.06 2.06-.94-2.06-.94-.94-2.06-.94 2.06-2.06.94z\"/><path d=\"M17.41 7.96l-1.37-1.37c-.4-.4-.92-.59-1.43-.59-.52 0-1.04.2-1.43.59L10.3 9.45l-7.72 7.72c-.78.78-.78 2.05 0 2.83L4 21.41c.39.39.9.59 1.41.59.51 0 1.02-.2 1.41-.59l7.78-7.78 2.81-2.81c.8-.78.8-2.07 0-2.86zM5.41 20L4 18.59l7.72-7.72 1.47 1.35L5.41 20z\"/>\n",
              "  </svg>\n",
              "      </button>\n",
              "      \n",
              "  <style>\n",
              "    .colab-df-container {\n",
              "      display:flex;\n",
              "      flex-wrap:wrap;\n",
              "      gap: 12px;\n",
              "    }\n",
              "\n",
              "    .colab-df-convert {\n",
              "      background-color: #E8F0FE;\n",
              "      border: none;\n",
              "      border-radius: 50%;\n",
              "      cursor: pointer;\n",
              "      display: none;\n",
              "      fill: #1967D2;\n",
              "      height: 32px;\n",
              "      padding: 0 0 0 0;\n",
              "      width: 32px;\n",
              "    }\n",
              "\n",
              "    .colab-df-convert:hover {\n",
              "      background-color: #E2EBFA;\n",
              "      box-shadow: 0px 1px 2px rgba(60, 64, 67, 0.3), 0px 1px 3px 1px rgba(60, 64, 67, 0.15);\n",
              "      fill: #174EA6;\n",
              "    }\n",
              "\n",
              "    [theme=dark] .colab-df-convert {\n",
              "      background-color: #3B4455;\n",
              "      fill: #D2E3FC;\n",
              "    }\n",
              "\n",
              "    [theme=dark] .colab-df-convert:hover {\n",
              "      background-color: #434B5C;\n",
              "      box-shadow: 0px 1px 3px 1px rgba(0, 0, 0, 0.15);\n",
              "      filter: drop-shadow(0px 1px 2px rgba(0, 0, 0, 0.3));\n",
              "      fill: #FFFFFF;\n",
              "    }\n",
              "  </style>\n",
              "\n",
              "      <script>\n",
              "        const buttonEl =\n",
              "          document.querySelector('#df-56909d36-c03a-441c-a605-98f01440165c button.colab-df-convert');\n",
              "        buttonEl.style.display =\n",
              "          google.colab.kernel.accessAllowed ? 'block' : 'none';\n",
              "\n",
              "        async function convertToInteractive(key) {\n",
              "          const element = document.querySelector('#df-56909d36-c03a-441c-a605-98f01440165c');\n",
              "          const dataTable =\n",
              "            await google.colab.kernel.invokeFunction('convertToInteractive',\n",
              "                                                     [key], {});\n",
              "          if (!dataTable) return;\n",
              "\n",
              "          const docLinkHtml = 'Like what you see? Visit the ' +\n",
              "            '<a target=\"_blank\" href=https://colab.research.google.com/notebooks/data_table.ipynb>data table notebook</a>'\n",
              "            + ' to learn more about interactive tables.';\n",
              "          element.innerHTML = '';\n",
              "          dataTable['output_type'] = 'display_data';\n",
              "          await google.colab.output.renderOutput(dataTable, element);\n",
              "          const docLink = document.createElement('div');\n",
              "          docLink.innerHTML = docLinkHtml;\n",
              "          element.appendChild(docLink);\n",
              "        }\n",
              "      </script>\n",
              "    </div>\n",
              "  </div>\n",
              "  "
            ]
          },
          "metadata": {},
          "execution_count": 8
        }
      ]
    },
    {
      "cell_type": "code",
      "source": [
        "#Checking Rows and Columns\n",
        "print(f\"Shape of the Application dataset is : {application_df.shape}\")\n",
        "print(f\"Shape of the Previous application dataset is : {previous_app_df.shape}\")"
      ],
      "metadata": {
        "colab": {
          "base_uri": "https://localhost:8080/"
        },
        "id": "qx8NjQWdOe37",
        "outputId": "6a3b457f-483e-42c4-8a4d-f7b819bf1bb1"
      },
      "execution_count": 9,
      "outputs": [
        {
          "output_type": "stream",
          "name": "stdout",
          "text": [
            "Shape of the Application dataset is : (307511, 122)\n",
            "Shape of the Previous application dataset is : (1670214, 37)\n"
          ]
        }
      ]
    },
    {
      "cell_type": "code",
      "source": [
        "#Size of the Dataset\n",
        "print(f\"Size of the Application dataset is {application_df.size}\")\n",
        "print(f\"Size of the Previous application dataset is {previous_app_df.size}\")"
      ],
      "metadata": {
        "colab": {
          "base_uri": "https://localhost:8080/"
        },
        "id": "EiGrzEqVPMfG",
        "outputId": "45ffc4b1-febf-4a8a-ac9d-da380fc6d6c2"
      },
      "execution_count": 10,
      "outputs": [
        {
          "output_type": "stream",
          "name": "stdout",
          "text": [
            "Size of the Application dataset is 37516342\n",
            "Size of the Previous application dataset is 61797918\n"
          ]
        }
      ]
    },
    {
      "cell_type": "code",
      "source": [
        "#Checking info of columns\n",
        "application_df.info('all')"
      ],
      "metadata": {
        "colab": {
          "base_uri": "https://localhost:8080/"
        },
        "id": "LUWkYtKxO3fD",
        "outputId": "9e7a67b8-a1f9-40a8-9f13-1d4ab15574c0"
      },
      "execution_count": 11,
      "outputs": [
        {
          "output_type": "stream",
          "name": "stdout",
          "text": [
            "<class 'pandas.core.frame.DataFrame'>\n",
            "RangeIndex: 307511 entries, 0 to 307510\n",
            "Data columns (total 122 columns):\n",
            " #    Column                        Dtype  \n",
            "---   ------                        -----  \n",
            " 0    SK_ID_CURR                    int64  \n",
            " 1    TARGET                        int64  \n",
            " 2    NAME_CONTRACT_TYPE            object \n",
            " 3    CODE_GENDER                   object \n",
            " 4    FLAG_OWN_CAR                  object \n",
            " 5    FLAG_OWN_REALTY               object \n",
            " 6    CNT_CHILDREN                  int64  \n",
            " 7    AMT_INCOME_TOTAL              float64\n",
            " 8    AMT_CREDIT                    float64\n",
            " 9    AMT_ANNUITY                   float64\n",
            " 10   AMT_GOODS_PRICE               float64\n",
            " 11   NAME_TYPE_SUITE               object \n",
            " 12   NAME_INCOME_TYPE              object \n",
            " 13   NAME_EDUCATION_TYPE           object \n",
            " 14   NAME_FAMILY_STATUS            object \n",
            " 15   NAME_HOUSING_TYPE             object \n",
            " 16   REGION_POPULATION_RELATIVE    float64\n",
            " 17   DAYS_BIRTH                    int64  \n",
            " 18   DAYS_EMPLOYED                 int64  \n",
            " 19   DAYS_REGISTRATION             float64\n",
            " 20   DAYS_ID_PUBLISH               int64  \n",
            " 21   OWN_CAR_AGE                   float64\n",
            " 22   FLAG_MOBIL                    int64  \n",
            " 23   FLAG_EMP_PHONE                int64  \n",
            " 24   FLAG_WORK_PHONE               int64  \n",
            " 25   FLAG_CONT_MOBILE              int64  \n",
            " 26   FLAG_PHONE                    int64  \n",
            " 27   FLAG_EMAIL                    int64  \n",
            " 28   OCCUPATION_TYPE               object \n",
            " 29   CNT_FAM_MEMBERS               float64\n",
            " 30   REGION_RATING_CLIENT          int64  \n",
            " 31   REGION_RATING_CLIENT_W_CITY   int64  \n",
            " 32   WEEKDAY_APPR_PROCESS_START    object \n",
            " 33   HOUR_APPR_PROCESS_START       int64  \n",
            " 34   REG_REGION_NOT_LIVE_REGION    int64  \n",
            " 35   REG_REGION_NOT_WORK_REGION    int64  \n",
            " 36   LIVE_REGION_NOT_WORK_REGION   int64  \n",
            " 37   REG_CITY_NOT_LIVE_CITY        int64  \n",
            " 38   REG_CITY_NOT_WORK_CITY        int64  \n",
            " 39   LIVE_CITY_NOT_WORK_CITY       int64  \n",
            " 40   ORGANIZATION_TYPE             object \n",
            " 41   EXT_SOURCE_1                  float64\n",
            " 42   EXT_SOURCE_2                  float64\n",
            " 43   EXT_SOURCE_3                  float64\n",
            " 44   APARTMENTS_AVG                float64\n",
            " 45   BASEMENTAREA_AVG              float64\n",
            " 46   YEARS_BEGINEXPLUATATION_AVG   float64\n",
            " 47   YEARS_BUILD_AVG               float64\n",
            " 48   COMMONAREA_AVG                float64\n",
            " 49   ELEVATORS_AVG                 float64\n",
            " 50   ENTRANCES_AVG                 float64\n",
            " 51   FLOORSMAX_AVG                 float64\n",
            " 52   FLOORSMIN_AVG                 float64\n",
            " 53   LANDAREA_AVG                  float64\n",
            " 54   LIVINGAPARTMENTS_AVG          float64\n",
            " 55   LIVINGAREA_AVG                float64\n",
            " 56   NONLIVINGAPARTMENTS_AVG       float64\n",
            " 57   NONLIVINGAREA_AVG             float64\n",
            " 58   APARTMENTS_MODE               float64\n",
            " 59   BASEMENTAREA_MODE             float64\n",
            " 60   YEARS_BEGINEXPLUATATION_MODE  float64\n",
            " 61   YEARS_BUILD_MODE              float64\n",
            " 62   COMMONAREA_MODE               float64\n",
            " 63   ELEVATORS_MODE                float64\n",
            " 64   ENTRANCES_MODE                float64\n",
            " 65   FLOORSMAX_MODE                float64\n",
            " 66   FLOORSMIN_MODE                float64\n",
            " 67   LANDAREA_MODE                 float64\n",
            " 68   LIVINGAPARTMENTS_MODE         float64\n",
            " 69   LIVINGAREA_MODE               float64\n",
            " 70   NONLIVINGAPARTMENTS_MODE      float64\n",
            " 71   NONLIVINGAREA_MODE            float64\n",
            " 72   APARTMENTS_MEDI               float64\n",
            " 73   BASEMENTAREA_MEDI             float64\n",
            " 74   YEARS_BEGINEXPLUATATION_MEDI  float64\n",
            " 75   YEARS_BUILD_MEDI              float64\n",
            " 76   COMMONAREA_MEDI               float64\n",
            " 77   ELEVATORS_MEDI                float64\n",
            " 78   ENTRANCES_MEDI                float64\n",
            " 79   FLOORSMAX_MEDI                float64\n",
            " 80   FLOORSMIN_MEDI                float64\n",
            " 81   LANDAREA_MEDI                 float64\n",
            " 82   LIVINGAPARTMENTS_MEDI         float64\n",
            " 83   LIVINGAREA_MEDI               float64\n",
            " 84   NONLIVINGAPARTMENTS_MEDI      float64\n",
            " 85   NONLIVINGAREA_MEDI            float64\n",
            " 86   FONDKAPREMONT_MODE            object \n",
            " 87   HOUSETYPE_MODE                object \n",
            " 88   TOTALAREA_MODE                float64\n",
            " 89   WALLSMATERIAL_MODE            object \n",
            " 90   EMERGENCYSTATE_MODE           object \n",
            " 91   OBS_30_CNT_SOCIAL_CIRCLE      float64\n",
            " 92   DEF_30_CNT_SOCIAL_CIRCLE      float64\n",
            " 93   OBS_60_CNT_SOCIAL_CIRCLE      float64\n",
            " 94   DEF_60_CNT_SOCIAL_CIRCLE      float64\n",
            " 95   DAYS_LAST_PHONE_CHANGE        float64\n",
            " 96   FLAG_DOCUMENT_2               int64  \n",
            " 97   FLAG_DOCUMENT_3               int64  \n",
            " 98   FLAG_DOCUMENT_4               int64  \n",
            " 99   FLAG_DOCUMENT_5               int64  \n",
            " 100  FLAG_DOCUMENT_6               int64  \n",
            " 101  FLAG_DOCUMENT_7               int64  \n",
            " 102  FLAG_DOCUMENT_8               int64  \n",
            " 103  FLAG_DOCUMENT_9               int64  \n",
            " 104  FLAG_DOCUMENT_10              int64  \n",
            " 105  FLAG_DOCUMENT_11              int64  \n",
            " 106  FLAG_DOCUMENT_12              int64  \n",
            " 107  FLAG_DOCUMENT_13              int64  \n",
            " 108  FLAG_DOCUMENT_14              int64  \n",
            " 109  FLAG_DOCUMENT_15              int64  \n",
            " 110  FLAG_DOCUMENT_16              int64  \n",
            " 111  FLAG_DOCUMENT_17              int64  \n",
            " 112  FLAG_DOCUMENT_18              int64  \n",
            " 113  FLAG_DOCUMENT_19              int64  \n",
            " 114  FLAG_DOCUMENT_20              int64  \n",
            " 115  FLAG_DOCUMENT_21              int64  \n",
            " 116  AMT_REQ_CREDIT_BUREAU_HOUR    float64\n",
            " 117  AMT_REQ_CREDIT_BUREAU_DAY     float64\n",
            " 118  AMT_REQ_CREDIT_BUREAU_WEEK    float64\n",
            " 119  AMT_REQ_CREDIT_BUREAU_MON     float64\n",
            " 120  AMT_REQ_CREDIT_BUREAU_QRT     float64\n",
            " 121  AMT_REQ_CREDIT_BUREAU_YEAR    float64\n",
            "dtypes: float64(65), int64(41), object(16)\n",
            "memory usage: 286.2+ MB\n"
          ]
        }
      ]
    },
    {
      "cell_type": "code",
      "source": [
        "# Previous Application info\n",
        "previous_app_df.info()"
      ],
      "metadata": {
        "colab": {
          "base_uri": "https://localhost:8080/"
        },
        "id": "n7s_c41LPge1",
        "outputId": "8efa4eb8-139c-49dc-cb51-5b7ca093e36a"
      },
      "execution_count": 12,
      "outputs": [
        {
          "output_type": "stream",
          "name": "stdout",
          "text": [
            "<class 'pandas.core.frame.DataFrame'>\n",
            "RangeIndex: 1670214 entries, 0 to 1670213\n",
            "Data columns (total 37 columns):\n",
            " #   Column                       Non-Null Count    Dtype  \n",
            "---  ------                       --------------    -----  \n",
            " 0   SK_ID_PREV                   1670214 non-null  int64  \n",
            " 1   SK_ID_CURR                   1670214 non-null  int64  \n",
            " 2   NAME_CONTRACT_TYPE           1670214 non-null  object \n",
            " 3   AMT_ANNUITY                  1297979 non-null  float64\n",
            " 4   AMT_APPLICATION              1670214 non-null  float64\n",
            " 5   AMT_CREDIT                   1670213 non-null  float64\n",
            " 6   AMT_DOWN_PAYMENT             774370 non-null   float64\n",
            " 7   AMT_GOODS_PRICE              1284699 non-null  float64\n",
            " 8   WEEKDAY_APPR_PROCESS_START   1670214 non-null  object \n",
            " 9   HOUR_APPR_PROCESS_START      1670214 non-null  int64  \n",
            " 10  FLAG_LAST_APPL_PER_CONTRACT  1670214 non-null  object \n",
            " 11  NFLAG_LAST_APPL_IN_DAY       1670214 non-null  int64  \n",
            " 12  RATE_DOWN_PAYMENT            774370 non-null   float64\n",
            " 13  RATE_INTEREST_PRIMARY        5951 non-null     float64\n",
            " 14  RATE_INTEREST_PRIVILEGED     5951 non-null     float64\n",
            " 15  NAME_CASH_LOAN_PURPOSE       1670214 non-null  object \n",
            " 16  NAME_CONTRACT_STATUS         1670214 non-null  object \n",
            " 17  DAYS_DECISION                1670214 non-null  int64  \n",
            " 18  NAME_PAYMENT_TYPE            1670214 non-null  object \n",
            " 19  CODE_REJECT_REASON           1670214 non-null  object \n",
            " 20  NAME_TYPE_SUITE              849809 non-null   object \n",
            " 21  NAME_CLIENT_TYPE             1670214 non-null  object \n",
            " 22  NAME_GOODS_CATEGORY          1670214 non-null  object \n",
            " 23  NAME_PORTFOLIO               1670214 non-null  object \n",
            " 24  NAME_PRODUCT_TYPE            1670214 non-null  object \n",
            " 25  CHANNEL_TYPE                 1670214 non-null  object \n",
            " 26  SELLERPLACE_AREA             1670214 non-null  int64  \n",
            " 27  NAME_SELLER_INDUSTRY         1670214 non-null  object \n",
            " 28  CNT_PAYMENT                  1297984 non-null  float64\n",
            " 29  NAME_YIELD_GROUP             1670214 non-null  object \n",
            " 30  PRODUCT_COMBINATION          1669868 non-null  object \n",
            " 31  DAYS_FIRST_DRAWING           997149 non-null   float64\n",
            " 32  DAYS_FIRST_DUE               997149 non-null   float64\n",
            " 33  DAYS_LAST_DUE_1ST_VERSION    997149 non-null   float64\n",
            " 34  DAYS_LAST_DUE                997149 non-null   float64\n",
            " 35  DAYS_TERMINATION             997149 non-null   float64\n",
            " 36  NFLAG_INSURED_ON_APPROVAL    997149 non-null   float64\n",
            "dtypes: float64(15), int64(6), object(16)\n",
            "memory usage: 471.5+ MB\n"
          ]
        }
      ]
    },
    {
      "cell_type": "code",
      "source": [
        "# Checking the numeric variables of the application dataset\n",
        "application_df.describe()"
      ],
      "metadata": {
        "colab": {
          "base_uri": "https://localhost:8080/",
          "height": 393
        },
        "id": "61kJZngWPOae",
        "outputId": "f5359abb-ab04-4db2-bd19-c51483306382"
      },
      "execution_count": 13,
      "outputs": [
        {
          "output_type": "execute_result",
          "data": {
            "text/plain": [
              "          SK_ID_CURR         TARGET   CNT_CHILDREN  AMT_INCOME_TOTAL  \\\n",
              "count  307511.000000  307511.000000  307511.000000      3.075110e+05   \n",
              "mean   278180.518577       0.080729       0.417052      1.687979e+05   \n",
              "std    102790.175348       0.272419       0.722121      2.371231e+05   \n",
              "min    100002.000000       0.000000       0.000000      2.565000e+04   \n",
              "25%    189145.500000       0.000000       0.000000      1.125000e+05   \n",
              "50%    278202.000000       0.000000       0.000000      1.471500e+05   \n",
              "75%    367142.500000       0.000000       1.000000      2.025000e+05   \n",
              "max    456255.000000       1.000000      19.000000      1.170000e+08   \n",
              "\n",
              "         AMT_CREDIT    AMT_ANNUITY  AMT_GOODS_PRICE  \\\n",
              "count  3.075110e+05  307499.000000     3.072330e+05   \n",
              "mean   5.990260e+05   27108.573909     5.383962e+05   \n",
              "std    4.024908e+05   14493.737315     3.694465e+05   \n",
              "min    4.500000e+04    1615.500000     4.050000e+04   \n",
              "25%    2.700000e+05   16524.000000     2.385000e+05   \n",
              "50%    5.135310e+05   24903.000000     4.500000e+05   \n",
              "75%    8.086500e+05   34596.000000     6.795000e+05   \n",
              "max    4.050000e+06  258025.500000     4.050000e+06   \n",
              "\n",
              "       REGION_POPULATION_RELATIVE     DAYS_BIRTH  DAYS_EMPLOYED  ...  \\\n",
              "count               307511.000000  307511.000000  307511.000000  ...   \n",
              "mean                     0.020868  -16036.995067   63815.045904  ...   \n",
              "std                      0.013831    4363.988632  141275.766519  ...   \n",
              "min                      0.000290  -25229.000000  -17912.000000  ...   \n",
              "25%                      0.010006  -19682.000000   -2760.000000  ...   \n",
              "50%                      0.018850  -15750.000000   -1213.000000  ...   \n",
              "75%                      0.028663  -12413.000000    -289.000000  ...   \n",
              "max                      0.072508   -7489.000000  365243.000000  ...   \n",
              "\n",
              "       FLAG_DOCUMENT_18  FLAG_DOCUMENT_19  FLAG_DOCUMENT_20  FLAG_DOCUMENT_21  \\\n",
              "count     307511.000000     307511.000000     307511.000000     307511.000000   \n",
              "mean           0.008130          0.000595          0.000507          0.000335   \n",
              "std            0.089798          0.024387          0.022518          0.018299   \n",
              "min            0.000000          0.000000          0.000000          0.000000   \n",
              "25%            0.000000          0.000000          0.000000          0.000000   \n",
              "50%            0.000000          0.000000          0.000000          0.000000   \n",
              "75%            0.000000          0.000000          0.000000          0.000000   \n",
              "max            1.000000          1.000000          1.000000          1.000000   \n",
              "\n",
              "       AMT_REQ_CREDIT_BUREAU_HOUR  AMT_REQ_CREDIT_BUREAU_DAY  \\\n",
              "count               265992.000000              265992.000000   \n",
              "mean                     0.006402                   0.007000   \n",
              "std                      0.083849                   0.110757   \n",
              "min                      0.000000                   0.000000   \n",
              "25%                      0.000000                   0.000000   \n",
              "50%                      0.000000                   0.000000   \n",
              "75%                      0.000000                   0.000000   \n",
              "max                      4.000000                   9.000000   \n",
              "\n",
              "       AMT_REQ_CREDIT_BUREAU_WEEK  AMT_REQ_CREDIT_BUREAU_MON  \\\n",
              "count               265992.000000              265992.000000   \n",
              "mean                     0.034362                   0.267395   \n",
              "std                      0.204685                   0.916002   \n",
              "min                      0.000000                   0.000000   \n",
              "25%                      0.000000                   0.000000   \n",
              "50%                      0.000000                   0.000000   \n",
              "75%                      0.000000                   0.000000   \n",
              "max                      8.000000                  27.000000   \n",
              "\n",
              "       AMT_REQ_CREDIT_BUREAU_QRT  AMT_REQ_CREDIT_BUREAU_YEAR  \n",
              "count              265992.000000               265992.000000  \n",
              "mean                    0.265474                    1.899974  \n",
              "std                     0.794056                    1.869295  \n",
              "min                     0.000000                    0.000000  \n",
              "25%                     0.000000                    0.000000  \n",
              "50%                     0.000000                    1.000000  \n",
              "75%                     0.000000                    3.000000  \n",
              "max                   261.000000                   25.000000  \n",
              "\n",
              "[8 rows x 106 columns]"
            ],
            "text/html": [
              "\n",
              "  <div id=\"df-0aa8090c-a3f0-4c26-bc39-c49736bd7ed8\">\n",
              "    <div class=\"colab-df-container\">\n",
              "      <div>\n",
              "<style scoped>\n",
              "    .dataframe tbody tr th:only-of-type {\n",
              "        vertical-align: middle;\n",
              "    }\n",
              "\n",
              "    .dataframe tbody tr th {\n",
              "        vertical-align: top;\n",
              "    }\n",
              "\n",
              "    .dataframe thead th {\n",
              "        text-align: right;\n",
              "    }\n",
              "</style>\n",
              "<table border=\"1\" class=\"dataframe\">\n",
              "  <thead>\n",
              "    <tr style=\"text-align: right;\">\n",
              "      <th></th>\n",
              "      <th>SK_ID_CURR</th>\n",
              "      <th>TARGET</th>\n",
              "      <th>CNT_CHILDREN</th>\n",
              "      <th>AMT_INCOME_TOTAL</th>\n",
              "      <th>AMT_CREDIT</th>\n",
              "      <th>AMT_ANNUITY</th>\n",
              "      <th>AMT_GOODS_PRICE</th>\n",
              "      <th>REGION_POPULATION_RELATIVE</th>\n",
              "      <th>DAYS_BIRTH</th>\n",
              "      <th>DAYS_EMPLOYED</th>\n",
              "      <th>...</th>\n",
              "      <th>FLAG_DOCUMENT_18</th>\n",
              "      <th>FLAG_DOCUMENT_19</th>\n",
              "      <th>FLAG_DOCUMENT_20</th>\n",
              "      <th>FLAG_DOCUMENT_21</th>\n",
              "      <th>AMT_REQ_CREDIT_BUREAU_HOUR</th>\n",
              "      <th>AMT_REQ_CREDIT_BUREAU_DAY</th>\n",
              "      <th>AMT_REQ_CREDIT_BUREAU_WEEK</th>\n",
              "      <th>AMT_REQ_CREDIT_BUREAU_MON</th>\n",
              "      <th>AMT_REQ_CREDIT_BUREAU_QRT</th>\n",
              "      <th>AMT_REQ_CREDIT_BUREAU_YEAR</th>\n",
              "    </tr>\n",
              "  </thead>\n",
              "  <tbody>\n",
              "    <tr>\n",
              "      <th>count</th>\n",
              "      <td>307511.000000</td>\n",
              "      <td>307511.000000</td>\n",
              "      <td>307511.000000</td>\n",
              "      <td>3.075110e+05</td>\n",
              "      <td>3.075110e+05</td>\n",
              "      <td>307499.000000</td>\n",
              "      <td>3.072330e+05</td>\n",
              "      <td>307511.000000</td>\n",
              "      <td>307511.000000</td>\n",
              "      <td>307511.000000</td>\n",
              "      <td>...</td>\n",
              "      <td>307511.000000</td>\n",
              "      <td>307511.000000</td>\n",
              "      <td>307511.000000</td>\n",
              "      <td>307511.000000</td>\n",
              "      <td>265992.000000</td>\n",
              "      <td>265992.000000</td>\n",
              "      <td>265992.000000</td>\n",
              "      <td>265992.000000</td>\n",
              "      <td>265992.000000</td>\n",
              "      <td>265992.000000</td>\n",
              "    </tr>\n",
              "    <tr>\n",
              "      <th>mean</th>\n",
              "      <td>278180.518577</td>\n",
              "      <td>0.080729</td>\n",
              "      <td>0.417052</td>\n",
              "      <td>1.687979e+05</td>\n",
              "      <td>5.990260e+05</td>\n",
              "      <td>27108.573909</td>\n",
              "      <td>5.383962e+05</td>\n",
              "      <td>0.020868</td>\n",
              "      <td>-16036.995067</td>\n",
              "      <td>63815.045904</td>\n",
              "      <td>...</td>\n",
              "      <td>0.008130</td>\n",
              "      <td>0.000595</td>\n",
              "      <td>0.000507</td>\n",
              "      <td>0.000335</td>\n",
              "      <td>0.006402</td>\n",
              "      <td>0.007000</td>\n",
              "      <td>0.034362</td>\n",
              "      <td>0.267395</td>\n",
              "      <td>0.265474</td>\n",
              "      <td>1.899974</td>\n",
              "    </tr>\n",
              "    <tr>\n",
              "      <th>std</th>\n",
              "      <td>102790.175348</td>\n",
              "      <td>0.272419</td>\n",
              "      <td>0.722121</td>\n",
              "      <td>2.371231e+05</td>\n",
              "      <td>4.024908e+05</td>\n",
              "      <td>14493.737315</td>\n",
              "      <td>3.694465e+05</td>\n",
              "      <td>0.013831</td>\n",
              "      <td>4363.988632</td>\n",
              "      <td>141275.766519</td>\n",
              "      <td>...</td>\n",
              "      <td>0.089798</td>\n",
              "      <td>0.024387</td>\n",
              "      <td>0.022518</td>\n",
              "      <td>0.018299</td>\n",
              "      <td>0.083849</td>\n",
              "      <td>0.110757</td>\n",
              "      <td>0.204685</td>\n",
              "      <td>0.916002</td>\n",
              "      <td>0.794056</td>\n",
              "      <td>1.869295</td>\n",
              "    </tr>\n",
              "    <tr>\n",
              "      <th>min</th>\n",
              "      <td>100002.000000</td>\n",
              "      <td>0.000000</td>\n",
              "      <td>0.000000</td>\n",
              "      <td>2.565000e+04</td>\n",
              "      <td>4.500000e+04</td>\n",
              "      <td>1615.500000</td>\n",
              "      <td>4.050000e+04</td>\n",
              "      <td>0.000290</td>\n",
              "      <td>-25229.000000</td>\n",
              "      <td>-17912.000000</td>\n",
              "      <td>...</td>\n",
              "      <td>0.000000</td>\n",
              "      <td>0.000000</td>\n",
              "      <td>0.000000</td>\n",
              "      <td>0.000000</td>\n",
              "      <td>0.000000</td>\n",
              "      <td>0.000000</td>\n",
              "      <td>0.000000</td>\n",
              "      <td>0.000000</td>\n",
              "      <td>0.000000</td>\n",
              "      <td>0.000000</td>\n",
              "    </tr>\n",
              "    <tr>\n",
              "      <th>25%</th>\n",
              "      <td>189145.500000</td>\n",
              "      <td>0.000000</td>\n",
              "      <td>0.000000</td>\n",
              "      <td>1.125000e+05</td>\n",
              "      <td>2.700000e+05</td>\n",
              "      <td>16524.000000</td>\n",
              "      <td>2.385000e+05</td>\n",
              "      <td>0.010006</td>\n",
              "      <td>-19682.000000</td>\n",
              "      <td>-2760.000000</td>\n",
              "      <td>...</td>\n",
              "      <td>0.000000</td>\n",
              "      <td>0.000000</td>\n",
              "      <td>0.000000</td>\n",
              "      <td>0.000000</td>\n",
              "      <td>0.000000</td>\n",
              "      <td>0.000000</td>\n",
              "      <td>0.000000</td>\n",
              "      <td>0.000000</td>\n",
              "      <td>0.000000</td>\n",
              "      <td>0.000000</td>\n",
              "    </tr>\n",
              "    <tr>\n",
              "      <th>50%</th>\n",
              "      <td>278202.000000</td>\n",
              "      <td>0.000000</td>\n",
              "      <td>0.000000</td>\n",
              "      <td>1.471500e+05</td>\n",
              "      <td>5.135310e+05</td>\n",
              "      <td>24903.000000</td>\n",
              "      <td>4.500000e+05</td>\n",
              "      <td>0.018850</td>\n",
              "      <td>-15750.000000</td>\n",
              "      <td>-1213.000000</td>\n",
              "      <td>...</td>\n",
              "      <td>0.000000</td>\n",
              "      <td>0.000000</td>\n",
              "      <td>0.000000</td>\n",
              "      <td>0.000000</td>\n",
              "      <td>0.000000</td>\n",
              "      <td>0.000000</td>\n",
              "      <td>0.000000</td>\n",
              "      <td>0.000000</td>\n",
              "      <td>0.000000</td>\n",
              "      <td>1.000000</td>\n",
              "    </tr>\n",
              "    <tr>\n",
              "      <th>75%</th>\n",
              "      <td>367142.500000</td>\n",
              "      <td>0.000000</td>\n",
              "      <td>1.000000</td>\n",
              "      <td>2.025000e+05</td>\n",
              "      <td>8.086500e+05</td>\n",
              "      <td>34596.000000</td>\n",
              "      <td>6.795000e+05</td>\n",
              "      <td>0.028663</td>\n",
              "      <td>-12413.000000</td>\n",
              "      <td>-289.000000</td>\n",
              "      <td>...</td>\n",
              "      <td>0.000000</td>\n",
              "      <td>0.000000</td>\n",
              "      <td>0.000000</td>\n",
              "      <td>0.000000</td>\n",
              "      <td>0.000000</td>\n",
              "      <td>0.000000</td>\n",
              "      <td>0.000000</td>\n",
              "      <td>0.000000</td>\n",
              "      <td>0.000000</td>\n",
              "      <td>3.000000</td>\n",
              "    </tr>\n",
              "    <tr>\n",
              "      <th>max</th>\n",
              "      <td>456255.000000</td>\n",
              "      <td>1.000000</td>\n",
              "      <td>19.000000</td>\n",
              "      <td>1.170000e+08</td>\n",
              "      <td>4.050000e+06</td>\n",
              "      <td>258025.500000</td>\n",
              "      <td>4.050000e+06</td>\n",
              "      <td>0.072508</td>\n",
              "      <td>-7489.000000</td>\n",
              "      <td>365243.000000</td>\n",
              "      <td>...</td>\n",
              "      <td>1.000000</td>\n",
              "      <td>1.000000</td>\n",
              "      <td>1.000000</td>\n",
              "      <td>1.000000</td>\n",
              "      <td>4.000000</td>\n",
              "      <td>9.000000</td>\n",
              "      <td>8.000000</td>\n",
              "      <td>27.000000</td>\n",
              "      <td>261.000000</td>\n",
              "      <td>25.000000</td>\n",
              "    </tr>\n",
              "  </tbody>\n",
              "</table>\n",
              "<p>8 rows × 106 columns</p>\n",
              "</div>\n",
              "      <button class=\"colab-df-convert\" onclick=\"convertToInteractive('df-0aa8090c-a3f0-4c26-bc39-c49736bd7ed8')\"\n",
              "              title=\"Convert this dataframe to an interactive table.\"\n",
              "              style=\"display:none;\">\n",
              "        \n",
              "  <svg xmlns=\"http://www.w3.org/2000/svg\" height=\"24px\"viewBox=\"0 0 24 24\"\n",
              "       width=\"24px\">\n",
              "    <path d=\"M0 0h24v24H0V0z\" fill=\"none\"/>\n",
              "    <path d=\"M18.56 5.44l.94 2.06.94-2.06 2.06-.94-2.06-.94-.94-2.06-.94 2.06-2.06.94zm-11 1L8.5 8.5l.94-2.06 2.06-.94-2.06-.94L8.5 2.5l-.94 2.06-2.06.94zm10 10l.94 2.06.94-2.06 2.06-.94-2.06-.94-.94-2.06-.94 2.06-2.06.94z\"/><path d=\"M17.41 7.96l-1.37-1.37c-.4-.4-.92-.59-1.43-.59-.52 0-1.04.2-1.43.59L10.3 9.45l-7.72 7.72c-.78.78-.78 2.05 0 2.83L4 21.41c.39.39.9.59 1.41.59.51 0 1.02-.2 1.41-.59l7.78-7.78 2.81-2.81c.8-.78.8-2.07 0-2.86zM5.41 20L4 18.59l7.72-7.72 1.47 1.35L5.41 20z\"/>\n",
              "  </svg>\n",
              "      </button>\n",
              "      \n",
              "  <style>\n",
              "    .colab-df-container {\n",
              "      display:flex;\n",
              "      flex-wrap:wrap;\n",
              "      gap: 12px;\n",
              "    }\n",
              "\n",
              "    .colab-df-convert {\n",
              "      background-color: #E8F0FE;\n",
              "      border: none;\n",
              "      border-radius: 50%;\n",
              "      cursor: pointer;\n",
              "      display: none;\n",
              "      fill: #1967D2;\n",
              "      height: 32px;\n",
              "      padding: 0 0 0 0;\n",
              "      width: 32px;\n",
              "    }\n",
              "\n",
              "    .colab-df-convert:hover {\n",
              "      background-color: #E2EBFA;\n",
              "      box-shadow: 0px 1px 2px rgba(60, 64, 67, 0.3), 0px 1px 3px 1px rgba(60, 64, 67, 0.15);\n",
              "      fill: #174EA6;\n",
              "    }\n",
              "\n",
              "    [theme=dark] .colab-df-convert {\n",
              "      background-color: #3B4455;\n",
              "      fill: #D2E3FC;\n",
              "    }\n",
              "\n",
              "    [theme=dark] .colab-df-convert:hover {\n",
              "      background-color: #434B5C;\n",
              "      box-shadow: 0px 1px 3px 1px rgba(0, 0, 0, 0.15);\n",
              "      filter: drop-shadow(0px 1px 2px rgba(0, 0, 0, 0.3));\n",
              "      fill: #FFFFFF;\n",
              "    }\n",
              "  </style>\n",
              "\n",
              "      <script>\n",
              "        const buttonEl =\n",
              "          document.querySelector('#df-0aa8090c-a3f0-4c26-bc39-c49736bd7ed8 button.colab-df-convert');\n",
              "        buttonEl.style.display =\n",
              "          google.colab.kernel.accessAllowed ? 'block' : 'none';\n",
              "\n",
              "        async function convertToInteractive(key) {\n",
              "          const element = document.querySelector('#df-0aa8090c-a3f0-4c26-bc39-c49736bd7ed8');\n",
              "          const dataTable =\n",
              "            await google.colab.kernel.invokeFunction('convertToInteractive',\n",
              "                                                     [key], {});\n",
              "          if (!dataTable) return;\n",
              "\n",
              "          const docLinkHtml = 'Like what you see? Visit the ' +\n",
              "            '<a target=\"_blank\" href=https://colab.research.google.com/notebooks/data_table.ipynb>data table notebook</a>'\n",
              "            + ' to learn more about interactive tables.';\n",
              "          element.innerHTML = '';\n",
              "          dataTable['output_type'] = 'display_data';\n",
              "          await google.colab.output.renderOutput(dataTable, element);\n",
              "          const docLink = document.createElement('div');\n",
              "          docLink.innerHTML = docLinkHtml;\n",
              "          element.appendChild(docLink);\n",
              "        }\n",
              "      </script>\n",
              "    </div>\n",
              "  </div>\n",
              "  "
            ]
          },
          "metadata": {},
          "execution_count": 13
        }
      ]
    },
    {
      "cell_type": "code",
      "source": [
        "# Checking the numeric variables of the application dataset\n",
        "previous_app_df.describe()"
      ],
      "metadata": {
        "colab": {
          "base_uri": "https://localhost:8080/",
          "height": 393
        },
        "id": "IVS2qu2YQT3a",
        "outputId": "3e92c9be-034b-4b59-b349-a393baa2d268"
      },
      "execution_count": 14,
      "outputs": [
        {
          "output_type": "execute_result",
          "data": {
            "text/plain": [
              "         SK_ID_PREV    SK_ID_CURR   AMT_ANNUITY  AMT_APPLICATION  \\\n",
              "count  1.670214e+06  1.670214e+06  1.297979e+06     1.670214e+06   \n",
              "mean   1.923089e+06  2.783572e+05  1.595512e+04     1.752339e+05   \n",
              "std    5.325980e+05  1.028148e+05  1.478214e+04     2.927798e+05   \n",
              "min    1.000001e+06  1.000010e+05  0.000000e+00     0.000000e+00   \n",
              "25%    1.461857e+06  1.893290e+05  6.321780e+03     1.872000e+04   \n",
              "50%    1.923110e+06  2.787145e+05  1.125000e+04     7.104600e+04   \n",
              "75%    2.384280e+06  3.675140e+05  2.065842e+04     1.803600e+05   \n",
              "max    2.845382e+06  4.562550e+05  4.180581e+05     6.905160e+06   \n",
              "\n",
              "         AMT_CREDIT  AMT_DOWN_PAYMENT  AMT_GOODS_PRICE  \\\n",
              "count  1.670213e+06      7.743700e+05     1.284699e+06   \n",
              "mean   1.961140e+05      6.697402e+03     2.278473e+05   \n",
              "std    3.185746e+05      2.092150e+04     3.153966e+05   \n",
              "min    0.000000e+00     -9.000000e-01     0.000000e+00   \n",
              "25%    2.416050e+04      0.000000e+00     5.084100e+04   \n",
              "50%    8.054100e+04      1.638000e+03     1.123200e+05   \n",
              "75%    2.164185e+05      7.740000e+03     2.340000e+05   \n",
              "max    6.905160e+06      3.060045e+06     6.905160e+06   \n",
              "\n",
              "       HOUR_APPR_PROCESS_START  NFLAG_LAST_APPL_IN_DAY  RATE_DOWN_PAYMENT  \\\n",
              "count             1.670214e+06            1.670214e+06      774370.000000   \n",
              "mean              1.248418e+01            9.964675e-01           0.079637   \n",
              "std               3.334028e+00            5.932963e-02           0.107823   \n",
              "min               0.000000e+00            0.000000e+00          -0.000015   \n",
              "25%               1.000000e+01            1.000000e+00           0.000000   \n",
              "50%               1.200000e+01            1.000000e+00           0.051605   \n",
              "75%               1.500000e+01            1.000000e+00           0.108909   \n",
              "max               2.300000e+01            1.000000e+00           1.000000   \n",
              "\n",
              "       ...  RATE_INTEREST_PRIVILEGED  DAYS_DECISION  SELLERPLACE_AREA  \\\n",
              "count  ...               5951.000000   1.670214e+06      1.670214e+06   \n",
              "mean   ...                  0.773503  -8.806797e+02      3.139511e+02   \n",
              "std    ...                  0.100879   7.790997e+02      7.127443e+03   \n",
              "min    ...                  0.373150  -2.922000e+03     -1.000000e+00   \n",
              "25%    ...                  0.715645  -1.300000e+03     -1.000000e+00   \n",
              "50%    ...                  0.835095  -5.810000e+02      3.000000e+00   \n",
              "75%    ...                  0.852537  -2.800000e+02      8.200000e+01   \n",
              "max    ...                  1.000000  -1.000000e+00      4.000000e+06   \n",
              "\n",
              "        CNT_PAYMENT  DAYS_FIRST_DRAWING  DAYS_FIRST_DUE  \\\n",
              "count  1.297984e+06       997149.000000   997149.000000   \n",
              "mean   1.605408e+01       342209.855039    13826.269337   \n",
              "std    1.456729e+01        88916.115833    72444.869708   \n",
              "min    0.000000e+00        -2922.000000    -2892.000000   \n",
              "25%    6.000000e+00       365243.000000    -1628.000000   \n",
              "50%    1.200000e+01       365243.000000     -831.000000   \n",
              "75%    2.400000e+01       365243.000000     -411.000000   \n",
              "max    8.400000e+01       365243.000000   365243.000000   \n",
              "\n",
              "       DAYS_LAST_DUE_1ST_VERSION  DAYS_LAST_DUE  DAYS_TERMINATION  \\\n",
              "count              997149.000000  997149.000000     997149.000000   \n",
              "mean                33767.774054   76582.403064      81992.343838   \n",
              "std                106857.034789  149647.415123     153303.516729   \n",
              "min                 -2801.000000   -2889.000000      -2874.000000   \n",
              "25%                 -1242.000000   -1314.000000      -1270.000000   \n",
              "50%                  -361.000000    -537.000000       -499.000000   \n",
              "75%                   129.000000     -74.000000        -44.000000   \n",
              "max                365243.000000  365243.000000     365243.000000   \n",
              "\n",
              "       NFLAG_INSURED_ON_APPROVAL  \n",
              "count              997149.000000  \n",
              "mean                    0.332570  \n",
              "std                     0.471134  \n",
              "min                     0.000000  \n",
              "25%                     0.000000  \n",
              "50%                     0.000000  \n",
              "75%                     1.000000  \n",
              "max                     1.000000  \n",
              "\n",
              "[8 rows x 21 columns]"
            ],
            "text/html": [
              "\n",
              "  <div id=\"df-8469d8e8-7504-4ce3-8579-cb4253fbaa72\">\n",
              "    <div class=\"colab-df-container\">\n",
              "      <div>\n",
              "<style scoped>\n",
              "    .dataframe tbody tr th:only-of-type {\n",
              "        vertical-align: middle;\n",
              "    }\n",
              "\n",
              "    .dataframe tbody tr th {\n",
              "        vertical-align: top;\n",
              "    }\n",
              "\n",
              "    .dataframe thead th {\n",
              "        text-align: right;\n",
              "    }\n",
              "</style>\n",
              "<table border=\"1\" class=\"dataframe\">\n",
              "  <thead>\n",
              "    <tr style=\"text-align: right;\">\n",
              "      <th></th>\n",
              "      <th>SK_ID_PREV</th>\n",
              "      <th>SK_ID_CURR</th>\n",
              "      <th>AMT_ANNUITY</th>\n",
              "      <th>AMT_APPLICATION</th>\n",
              "      <th>AMT_CREDIT</th>\n",
              "      <th>AMT_DOWN_PAYMENT</th>\n",
              "      <th>AMT_GOODS_PRICE</th>\n",
              "      <th>HOUR_APPR_PROCESS_START</th>\n",
              "      <th>NFLAG_LAST_APPL_IN_DAY</th>\n",
              "      <th>RATE_DOWN_PAYMENT</th>\n",
              "      <th>...</th>\n",
              "      <th>RATE_INTEREST_PRIVILEGED</th>\n",
              "      <th>DAYS_DECISION</th>\n",
              "      <th>SELLERPLACE_AREA</th>\n",
              "      <th>CNT_PAYMENT</th>\n",
              "      <th>DAYS_FIRST_DRAWING</th>\n",
              "      <th>DAYS_FIRST_DUE</th>\n",
              "      <th>DAYS_LAST_DUE_1ST_VERSION</th>\n",
              "      <th>DAYS_LAST_DUE</th>\n",
              "      <th>DAYS_TERMINATION</th>\n",
              "      <th>NFLAG_INSURED_ON_APPROVAL</th>\n",
              "    </tr>\n",
              "  </thead>\n",
              "  <tbody>\n",
              "    <tr>\n",
              "      <th>count</th>\n",
              "      <td>1.670214e+06</td>\n",
              "      <td>1.670214e+06</td>\n",
              "      <td>1.297979e+06</td>\n",
              "      <td>1.670214e+06</td>\n",
              "      <td>1.670213e+06</td>\n",
              "      <td>7.743700e+05</td>\n",
              "      <td>1.284699e+06</td>\n",
              "      <td>1.670214e+06</td>\n",
              "      <td>1.670214e+06</td>\n",
              "      <td>774370.000000</td>\n",
              "      <td>...</td>\n",
              "      <td>5951.000000</td>\n",
              "      <td>1.670214e+06</td>\n",
              "      <td>1.670214e+06</td>\n",
              "      <td>1.297984e+06</td>\n",
              "      <td>997149.000000</td>\n",
              "      <td>997149.000000</td>\n",
              "      <td>997149.000000</td>\n",
              "      <td>997149.000000</td>\n",
              "      <td>997149.000000</td>\n",
              "      <td>997149.000000</td>\n",
              "    </tr>\n",
              "    <tr>\n",
              "      <th>mean</th>\n",
              "      <td>1.923089e+06</td>\n",
              "      <td>2.783572e+05</td>\n",
              "      <td>1.595512e+04</td>\n",
              "      <td>1.752339e+05</td>\n",
              "      <td>1.961140e+05</td>\n",
              "      <td>6.697402e+03</td>\n",
              "      <td>2.278473e+05</td>\n",
              "      <td>1.248418e+01</td>\n",
              "      <td>9.964675e-01</td>\n",
              "      <td>0.079637</td>\n",
              "      <td>...</td>\n",
              "      <td>0.773503</td>\n",
              "      <td>-8.806797e+02</td>\n",
              "      <td>3.139511e+02</td>\n",
              "      <td>1.605408e+01</td>\n",
              "      <td>342209.855039</td>\n",
              "      <td>13826.269337</td>\n",
              "      <td>33767.774054</td>\n",
              "      <td>76582.403064</td>\n",
              "      <td>81992.343838</td>\n",
              "      <td>0.332570</td>\n",
              "    </tr>\n",
              "    <tr>\n",
              "      <th>std</th>\n",
              "      <td>5.325980e+05</td>\n",
              "      <td>1.028148e+05</td>\n",
              "      <td>1.478214e+04</td>\n",
              "      <td>2.927798e+05</td>\n",
              "      <td>3.185746e+05</td>\n",
              "      <td>2.092150e+04</td>\n",
              "      <td>3.153966e+05</td>\n",
              "      <td>3.334028e+00</td>\n",
              "      <td>5.932963e-02</td>\n",
              "      <td>0.107823</td>\n",
              "      <td>...</td>\n",
              "      <td>0.100879</td>\n",
              "      <td>7.790997e+02</td>\n",
              "      <td>7.127443e+03</td>\n",
              "      <td>1.456729e+01</td>\n",
              "      <td>88916.115833</td>\n",
              "      <td>72444.869708</td>\n",
              "      <td>106857.034789</td>\n",
              "      <td>149647.415123</td>\n",
              "      <td>153303.516729</td>\n",
              "      <td>0.471134</td>\n",
              "    </tr>\n",
              "    <tr>\n",
              "      <th>min</th>\n",
              "      <td>1.000001e+06</td>\n",
              "      <td>1.000010e+05</td>\n",
              "      <td>0.000000e+00</td>\n",
              "      <td>0.000000e+00</td>\n",
              "      <td>0.000000e+00</td>\n",
              "      <td>-9.000000e-01</td>\n",
              "      <td>0.000000e+00</td>\n",
              "      <td>0.000000e+00</td>\n",
              "      <td>0.000000e+00</td>\n",
              "      <td>-0.000015</td>\n",
              "      <td>...</td>\n",
              "      <td>0.373150</td>\n",
              "      <td>-2.922000e+03</td>\n",
              "      <td>-1.000000e+00</td>\n",
              "      <td>0.000000e+00</td>\n",
              "      <td>-2922.000000</td>\n",
              "      <td>-2892.000000</td>\n",
              "      <td>-2801.000000</td>\n",
              "      <td>-2889.000000</td>\n",
              "      <td>-2874.000000</td>\n",
              "      <td>0.000000</td>\n",
              "    </tr>\n",
              "    <tr>\n",
              "      <th>25%</th>\n",
              "      <td>1.461857e+06</td>\n",
              "      <td>1.893290e+05</td>\n",
              "      <td>6.321780e+03</td>\n",
              "      <td>1.872000e+04</td>\n",
              "      <td>2.416050e+04</td>\n",
              "      <td>0.000000e+00</td>\n",
              "      <td>5.084100e+04</td>\n",
              "      <td>1.000000e+01</td>\n",
              "      <td>1.000000e+00</td>\n",
              "      <td>0.000000</td>\n",
              "      <td>...</td>\n",
              "      <td>0.715645</td>\n",
              "      <td>-1.300000e+03</td>\n",
              "      <td>-1.000000e+00</td>\n",
              "      <td>6.000000e+00</td>\n",
              "      <td>365243.000000</td>\n",
              "      <td>-1628.000000</td>\n",
              "      <td>-1242.000000</td>\n",
              "      <td>-1314.000000</td>\n",
              "      <td>-1270.000000</td>\n",
              "      <td>0.000000</td>\n",
              "    </tr>\n",
              "    <tr>\n",
              "      <th>50%</th>\n",
              "      <td>1.923110e+06</td>\n",
              "      <td>2.787145e+05</td>\n",
              "      <td>1.125000e+04</td>\n",
              "      <td>7.104600e+04</td>\n",
              "      <td>8.054100e+04</td>\n",
              "      <td>1.638000e+03</td>\n",
              "      <td>1.123200e+05</td>\n",
              "      <td>1.200000e+01</td>\n",
              "      <td>1.000000e+00</td>\n",
              "      <td>0.051605</td>\n",
              "      <td>...</td>\n",
              "      <td>0.835095</td>\n",
              "      <td>-5.810000e+02</td>\n",
              "      <td>3.000000e+00</td>\n",
              "      <td>1.200000e+01</td>\n",
              "      <td>365243.000000</td>\n",
              "      <td>-831.000000</td>\n",
              "      <td>-361.000000</td>\n",
              "      <td>-537.000000</td>\n",
              "      <td>-499.000000</td>\n",
              "      <td>0.000000</td>\n",
              "    </tr>\n",
              "    <tr>\n",
              "      <th>75%</th>\n",
              "      <td>2.384280e+06</td>\n",
              "      <td>3.675140e+05</td>\n",
              "      <td>2.065842e+04</td>\n",
              "      <td>1.803600e+05</td>\n",
              "      <td>2.164185e+05</td>\n",
              "      <td>7.740000e+03</td>\n",
              "      <td>2.340000e+05</td>\n",
              "      <td>1.500000e+01</td>\n",
              "      <td>1.000000e+00</td>\n",
              "      <td>0.108909</td>\n",
              "      <td>...</td>\n",
              "      <td>0.852537</td>\n",
              "      <td>-2.800000e+02</td>\n",
              "      <td>8.200000e+01</td>\n",
              "      <td>2.400000e+01</td>\n",
              "      <td>365243.000000</td>\n",
              "      <td>-411.000000</td>\n",
              "      <td>129.000000</td>\n",
              "      <td>-74.000000</td>\n",
              "      <td>-44.000000</td>\n",
              "      <td>1.000000</td>\n",
              "    </tr>\n",
              "    <tr>\n",
              "      <th>max</th>\n",
              "      <td>2.845382e+06</td>\n",
              "      <td>4.562550e+05</td>\n",
              "      <td>4.180581e+05</td>\n",
              "      <td>6.905160e+06</td>\n",
              "      <td>6.905160e+06</td>\n",
              "      <td>3.060045e+06</td>\n",
              "      <td>6.905160e+06</td>\n",
              "      <td>2.300000e+01</td>\n",
              "      <td>1.000000e+00</td>\n",
              "      <td>1.000000</td>\n",
              "      <td>...</td>\n",
              "      <td>1.000000</td>\n",
              "      <td>-1.000000e+00</td>\n",
              "      <td>4.000000e+06</td>\n",
              "      <td>8.400000e+01</td>\n",
              "      <td>365243.000000</td>\n",
              "      <td>365243.000000</td>\n",
              "      <td>365243.000000</td>\n",
              "      <td>365243.000000</td>\n",
              "      <td>365243.000000</td>\n",
              "      <td>1.000000</td>\n",
              "    </tr>\n",
              "  </tbody>\n",
              "</table>\n",
              "<p>8 rows × 21 columns</p>\n",
              "</div>\n",
              "      <button class=\"colab-df-convert\" onclick=\"convertToInteractive('df-8469d8e8-7504-4ce3-8579-cb4253fbaa72')\"\n",
              "              title=\"Convert this dataframe to an interactive table.\"\n",
              "              style=\"display:none;\">\n",
              "        \n",
              "  <svg xmlns=\"http://www.w3.org/2000/svg\" height=\"24px\"viewBox=\"0 0 24 24\"\n",
              "       width=\"24px\">\n",
              "    <path d=\"M0 0h24v24H0V0z\" fill=\"none\"/>\n",
              "    <path d=\"M18.56 5.44l.94 2.06.94-2.06 2.06-.94-2.06-.94-.94-2.06-.94 2.06-2.06.94zm-11 1L8.5 8.5l.94-2.06 2.06-.94-2.06-.94L8.5 2.5l-.94 2.06-2.06.94zm10 10l.94 2.06.94-2.06 2.06-.94-2.06-.94-.94-2.06-.94 2.06-2.06.94z\"/><path d=\"M17.41 7.96l-1.37-1.37c-.4-.4-.92-.59-1.43-.59-.52 0-1.04.2-1.43.59L10.3 9.45l-7.72 7.72c-.78.78-.78 2.05 0 2.83L4 21.41c.39.39.9.59 1.41.59.51 0 1.02-.2 1.41-.59l7.78-7.78 2.81-2.81c.8-.78.8-2.07 0-2.86zM5.41 20L4 18.59l7.72-7.72 1.47 1.35L5.41 20z\"/>\n",
              "  </svg>\n",
              "      </button>\n",
              "      \n",
              "  <style>\n",
              "    .colab-df-container {\n",
              "      display:flex;\n",
              "      flex-wrap:wrap;\n",
              "      gap: 12px;\n",
              "    }\n",
              "\n",
              "    .colab-df-convert {\n",
              "      background-color: #E8F0FE;\n",
              "      border: none;\n",
              "      border-radius: 50%;\n",
              "      cursor: pointer;\n",
              "      display: none;\n",
              "      fill: #1967D2;\n",
              "      height: 32px;\n",
              "      padding: 0 0 0 0;\n",
              "      width: 32px;\n",
              "    }\n",
              "\n",
              "    .colab-df-convert:hover {\n",
              "      background-color: #E2EBFA;\n",
              "      box-shadow: 0px 1px 2px rgba(60, 64, 67, 0.3), 0px 1px 3px 1px rgba(60, 64, 67, 0.15);\n",
              "      fill: #174EA6;\n",
              "    }\n",
              "\n",
              "    [theme=dark] .colab-df-convert {\n",
              "      background-color: #3B4455;\n",
              "      fill: #D2E3FC;\n",
              "    }\n",
              "\n",
              "    [theme=dark] .colab-df-convert:hover {\n",
              "      background-color: #434B5C;\n",
              "      box-shadow: 0px 1px 3px 1px rgba(0, 0, 0, 0.15);\n",
              "      filter: drop-shadow(0px 1px 2px rgba(0, 0, 0, 0.3));\n",
              "      fill: #FFFFFF;\n",
              "    }\n",
              "  </style>\n",
              "\n",
              "      <script>\n",
              "        const buttonEl =\n",
              "          document.querySelector('#df-8469d8e8-7504-4ce3-8579-cb4253fbaa72 button.colab-df-convert');\n",
              "        buttonEl.style.display =\n",
              "          google.colab.kernel.accessAllowed ? 'block' : 'none';\n",
              "\n",
              "        async function convertToInteractive(key) {\n",
              "          const element = document.querySelector('#df-8469d8e8-7504-4ce3-8579-cb4253fbaa72');\n",
              "          const dataTable =\n",
              "            await google.colab.kernel.invokeFunction('convertToInteractive',\n",
              "                                                     [key], {});\n",
              "          if (!dataTable) return;\n",
              "\n",
              "          const docLinkHtml = 'Like what you see? Visit the ' +\n",
              "            '<a target=\"_blank\" href=https://colab.research.google.com/notebooks/data_table.ipynb>data table notebook</a>'\n",
              "            + ' to learn more about interactive tables.';\n",
              "          element.innerHTML = '';\n",
              "          dataTable['output_type'] = 'display_data';\n",
              "          await google.colab.output.renderOutput(dataTable, element);\n",
              "          const docLink = document.createElement('div');\n",
              "          docLink.innerHTML = docLinkHtml;\n",
              "          element.appendChild(docLink);\n",
              "        }\n",
              "      </script>\n",
              "    </div>\n",
              "  </div>\n",
              "  "
            ]
          },
          "metadata": {},
          "execution_count": 14
        }
      ]
    },
    {
      "cell_type": "markdown",
      "source": [
        "## **Data Cleaning & Manipulation**"
      ],
      "metadata": {
        "id": "XuwFtt1QQl5U"
      }
    },
    {
      "cell_type": "markdown",
      "source": [
        "###**Application Missing Values**"
      ],
      "metadata": {
        "id": "SQwWTs-VVaPi"
      }
    },
    {
      "cell_type": "code",
      "source": [
        "#Function to checking the null values\n",
        "def find_null_values(df):\n",
        "    return round((df.isnull().sum()*100/len(df)).sort_values(ascending=False),2)"
      ],
      "metadata": {
        "id": "1KUmr0sgQXMe"
      },
      "execution_count": 15,
      "outputs": []
    },
    {
      "cell_type": "code",
      "source": [
        "find_null_values(application_df)"
      ],
      "metadata": {
        "colab": {
          "base_uri": "https://localhost:8080/"
        },
        "id": "CvwRZ8IcQaI4",
        "outputId": "01ed3412-e904-498f-c908-1ff28a7b62ab"
      },
      "execution_count": 16,
      "outputs": [
        {
          "output_type": "execute_result",
          "data": {
            "text/plain": [
              "COMMONAREA_MEDI             69.87\n",
              "COMMONAREA_AVG              69.87\n",
              "COMMONAREA_MODE             69.87\n",
              "NONLIVINGAPARTMENTS_MODE    69.43\n",
              "NONLIVINGAPARTMENTS_AVG     69.43\n",
              "                            ...  \n",
              "NAME_HOUSING_TYPE            0.00\n",
              "NAME_FAMILY_STATUS           0.00\n",
              "NAME_EDUCATION_TYPE          0.00\n",
              "NAME_INCOME_TYPE             0.00\n",
              "SK_ID_CURR                   0.00\n",
              "Length: 122, dtype: float64"
            ]
          },
          "metadata": {},
          "execution_count": 16
        }
      ]
    },
    {
      "cell_type": "code",
      "source": [
        "#Visualizing the null values\n",
        "fig = plt.figure(figsize=(18,6))\n",
        "miss_data = pd.DataFrame((application_df.isnull().sum())*100/application_df.shape[0]).reset_index()\n",
        "miss_data[\"type\"] = \"application_df\"\n",
        "ax = sns.pointplot(x=\"index\",y=0,data=miss_data,hue=\"type\")\n",
        "plt.xticks(rotation =90,fontsize =7)\n",
        "ax.axhline(40, ls='--',color='white')\n",
        "plt.title(\"Percentage of Missing values in application_data\")\n",
        "plt.ylabel(\"PERCENTAGE\")\n",
        "plt.xlabel(\"COLUMNS\")\n",
        "ax.set_facecolor(\"k\")\n",
        "fig.set_facecolor(\"lightgrey\")"
      ],
      "metadata": {
        "colab": {
          "base_uri": "https://localhost:8080/",
          "height": 329
        },
        "id": "dC-o6I5dQe9m",
        "outputId": "34a85707-96df-43df-8610-ef2d229bcead"
      },
      "execution_count": 17,
      "outputs": [
        {
          "output_type": "display_data",
          "data": {
            "text/plain": [
              "<Figure size 1800x600 with 1 Axes>"
            ],
            "image/png": "[encoded data removed]"
          },
          "metadata": {}
        }
      ]
    },
    {
      "cell_type": "markdown",
      "source": [
        "**Observation**\n",
        "\n",
        "   * from the plot we can see the columns in which percentage of null values more than 40% are marked above the white line and the columns which have less than 40 % null values below the white line. Let's check the columns which has more than 40% missing values"
      ],
      "metadata": {
        "id": "9kvTvXt6R32E"
      }
    },
    {
      "cell_type": "code",
      "source": [
        "#creating a variable null_col_40 for storing null columns having missing values more than 40%\n",
        "app_null_col_40 = find_null_values(application_df)[find_null_values(application_df)>40]\n",
        "print(\"following columns have null value more than 40%\")\n",
        "print(app_null_col_40.index)\n",
        "print(\"No. of columns with more than 40% missing value:\",len(app_null_col_40.index))"
      ],
      "metadata": {
        "colab": {
          "base_uri": "https://localhost:8080/"
        },
        "id": "axrzGX1kQ5e-",
        "outputId": "9ec4f43b-6506-403b-c821-cb83a1b86c3f"
      },
      "execution_count": 18,
      "outputs": [
        {
          "output_type": "stream",
          "name": "stdout",
          "text": [
            "following columns have null value more than 40%\n",
            "Index(['COMMONAREA_MEDI', 'COMMONAREA_AVG', 'COMMONAREA_MODE',\n",
            "       'NONLIVINGAPARTMENTS_MODE', 'NONLIVINGAPARTMENTS_AVG',\n",
            "       'NONLIVINGAPARTMENTS_MEDI', 'FONDKAPREMONT_MODE',\n",
            "       'LIVINGAPARTMENTS_MODE', 'LIVINGAPARTMENTS_AVG',\n",
            "       'LIVINGAPARTMENTS_MEDI', 'FLOORSMIN_AVG', 'FLOORSMIN_MODE',\n",
            "       'FLOORSMIN_MEDI', 'YEARS_BUILD_MEDI', 'YEARS_BUILD_MODE',\n",
            "       'YEARS_BUILD_AVG', 'OWN_CAR_AGE', 'LANDAREA_MEDI', 'LANDAREA_MODE',\n",
            "       'LANDAREA_AVG', 'BASEMENTAREA_MEDI', 'BASEMENTAREA_AVG',\n",
            "       'BASEMENTAREA_MODE', 'EXT_SOURCE_1', 'NONLIVINGAREA_MODE',\n",
            "       'NONLIVINGAREA_AVG', 'NONLIVINGAREA_MEDI', 'ELEVATORS_MEDI',\n",
            "       'ELEVATORS_AVG', 'ELEVATORS_MODE', 'WALLSMATERIAL_MODE',\n",
            "       'APARTMENTS_MEDI', 'APARTMENTS_AVG', 'APARTMENTS_MODE',\n",
            "       'ENTRANCES_MEDI', 'ENTRANCES_AVG', 'ENTRANCES_MODE', 'LIVINGAREA_AVG',\n",
            "       'LIVINGAREA_MODE', 'LIVINGAREA_MEDI', 'HOUSETYPE_MODE',\n",
            "       'FLOORSMAX_MODE', 'FLOORSMAX_MEDI', 'FLOORSMAX_AVG',\n",
            "       'YEARS_BEGINEXPLUATATION_MODE', 'YEARS_BEGINEXPLUATATION_MEDI',\n",
            "       'YEARS_BEGINEXPLUATATION_AVG', 'TOTALAREA_MODE', 'EMERGENCYSTATE_MODE'],\n",
            "      dtype='object')\n",
            "No. of columns with more than 40% missing value: 49\n"
          ]
        }
      ]
    },
    {
      "cell_type": "markdown",
      "source": [
        "**Observation**\n",
        "\n",
        "Total of 49 columns are there which have more than  40% null values.Seem like most of the column with high missing values are related to different type of apartments owned and there belongs like car age ,bulid age and there properties related"
      ],
      "metadata": {
        "id": "WGMfg4leSzhw"
      }
    },
    {
      "cell_type": "markdown",
      "source": [
        "###**Previous Application Missing Values**"
      ],
      "metadata": {
        "id": "SF1PzTg_VX2c"
      }
    },
    {
      "cell_type": "code",
      "source": [
        "find_null_values(previous_app_df)"
      ],
      "metadata": {
        "colab": {
          "base_uri": "https://localhost:8080/"
        },
        "id": "A92DU9rwVsfz",
        "outputId": "73c6bc5a-97fa-4c7a-f662-19c8c79ac7ab"
      },
      "execution_count": 19,
      "outputs": [
        {
          "output_type": "execute_result",
          "data": {
            "text/plain": [
              "RATE_INTEREST_PRIVILEGED       99.64\n",
              "RATE_INTEREST_PRIMARY          99.64\n",
              "AMT_DOWN_PAYMENT               53.64\n",
              "RATE_DOWN_PAYMENT              53.64\n",
              "NAME_TYPE_SUITE                49.12\n",
              "NFLAG_INSURED_ON_APPROVAL      40.30\n",
              "DAYS_TERMINATION               40.30\n",
              "DAYS_LAST_DUE                  40.30\n",
              "DAYS_LAST_DUE_1ST_VERSION      40.30\n",
              "DAYS_FIRST_DUE                 40.30\n",
              "DAYS_FIRST_DRAWING             40.30\n",
              "AMT_GOODS_PRICE                23.08\n",
              "AMT_ANNUITY                    22.29\n",
              "CNT_PAYMENT                    22.29\n",
              "PRODUCT_COMBINATION             0.02\n",
              "AMT_CREDIT                      0.00\n",
              "NAME_YIELD_GROUP                0.00\n",
              "NAME_PORTFOLIO                  0.00\n",
              "NAME_SELLER_INDUSTRY            0.00\n",
              "SELLERPLACE_AREA                0.00\n",
              "CHANNEL_TYPE                    0.00\n",
              "NAME_PRODUCT_TYPE               0.00\n",
              "SK_ID_PREV                      0.00\n",
              "NAME_GOODS_CATEGORY             0.00\n",
              "NAME_CLIENT_TYPE                0.00\n",
              "CODE_REJECT_REASON              0.00\n",
              "SK_ID_CURR                      0.00\n",
              "DAYS_DECISION                   0.00\n",
              "NAME_CONTRACT_STATUS            0.00\n",
              "NAME_CASH_LOAN_PURPOSE          0.00\n",
              "NFLAG_LAST_APPL_IN_DAY          0.00\n",
              "FLAG_LAST_APPL_PER_CONTRACT     0.00\n",
              "HOUR_APPR_PROCESS_START         0.00\n",
              "WEEKDAY_APPR_PROCESS_START      0.00\n",
              "AMT_APPLICATION                 0.00\n",
              "NAME_CONTRACT_TYPE              0.00\n",
              "NAME_PAYMENT_TYPE               0.00\n",
              "dtype: float64"
            ]
          },
          "metadata": {},
          "execution_count": 19
        }
      ]
    },
    {
      "cell_type": "code",
      "source": [
        "#Visualizing the null values\n",
        "fig = plt.figure(figsize=(18,6))\n",
        "miss_data = pd.DataFrame((previous_app_df.isnull().sum())*100/previous_app_df.shape[0]).reset_index()\n",
        "miss_data[\"type\"] = \"previous_app_df\"\n",
        "ax = sns.pointplot(x=\"index\",y=0,data=miss_data,hue=\"type\")\n",
        "plt.xticks(rotation =90,fontsize =7)\n",
        "ax.axhline(40, ls='--',color='white')\n",
        "plt.title(\"Percentage of Missing values in previous Application Dataset\")\n",
        "plt.ylabel(\"PERCENTAGE\")\n",
        "plt.xlabel(\"COLUMNS\")\n",
        "ax.set_facecolor(\"k\")\n",
        "fig.set_facecolor(\"lightgrey\")"
      ],
      "metadata": {
        "colab": {
          "base_uri": "https://localhost:8080/",
          "height": 324
        },
        "id": "QijoHPGWV9SC",
        "outputId": "79fa8973-c8ad-45d0-ebd2-9f5bc602f5a8"
      },
      "execution_count": 20,
      "outputs": [
        {
          "output_type": "display_data",
          "data": {
            "text/plain": [
              "<Figure size 1800x600 with 1 Axes>"
            ],
            "image/png": "[encoded data removed]"
          },
          "metadata": {}
        }
      ]
    },
    {
      "cell_type": "markdown",
      "source": [
        "**Observation**\n",
        "\n",
        "From the plot we can see the white line in above white line the percentage of null values more than 40%"
      ],
      "metadata": {
        "id": "Zfr20H6sWbWx"
      }
    },
    {
      "cell_type": "code",
      "source": [
        "#creating a variable null_col_40 for storing null columns having missing values more than 40%\n",
        "null_col_40 = find_null_values(previous_app_df)[find_null_values(previous_app_df)>40]\n",
        "print(\"following columns have null value more than 40%\")\n",
        "print(null_col_40.index)\n",
        "print(\"No. of columns with more than 40% missing value:\",len(null_col_40.index))"
      ],
      "metadata": {
        "colab": {
          "base_uri": "https://localhost:8080/"
        },
        "id": "wgoD-e5RXACU",
        "outputId": "7477dc13-a5f3-4b02-80d1-7e25b9276d2d"
      },
      "execution_count": 21,
      "outputs": [
        {
          "output_type": "stream",
          "name": "stdout",
          "text": [
            "following columns have null value more than 40%\n",
            "Index(['RATE_INTEREST_PRIVILEGED', 'RATE_INTEREST_PRIMARY', 'AMT_DOWN_PAYMENT',\n",
            "       'RATE_DOWN_PAYMENT', 'NAME_TYPE_SUITE', 'NFLAG_INSURED_ON_APPROVAL',\n",
            "       'DAYS_TERMINATION', 'DAYS_LAST_DUE', 'DAYS_LAST_DUE_1ST_VERSION',\n",
            "       'DAYS_FIRST_DUE', 'DAYS_FIRST_DRAWING'],\n",
            "      dtype='object')\n",
            "No. of columns with more than 40% missing value: 11\n"
          ]
        }
      ]
    },
    {
      "cell_type": "markdown",
      "source": [
        "##**Analyze & Delete columns**\n"
      ],
      "metadata": {
        "id": "WZHZ1gteVrh6"
      }
    },
    {
      "cell_type": "markdown",
      "source": [
        "###Delete Unnecessary Columns of Application dataset"
      ],
      "metadata": {
        "id": "mYI-MgboXibS"
      }
    },
    {
      "cell_type": "code",
      "source": [
        "application_df.drop(columns = app_null_col_40.index, inplace = True)"
      ],
      "metadata": {
        "id": "PNDGo8WwRG1f"
      },
      "execution_count": 22,
      "outputs": []
    },
    {
      "cell_type": "code",
      "source": [
        "application_df.shape"
      ],
      "metadata": {
        "colab": {
          "base_uri": "https://localhost:8080/"
        },
        "id": "NTRPVjkiRLC2",
        "outputId": "99047355-6ada-4c5e-be07-9312645ce221"
      },
      "execution_count": 23,
      "outputs": [
        {
          "output_type": "execute_result",
          "data": {
            "text/plain": [
              "(307511, 73)"
            ]
          },
          "metadata": {},
          "execution_count": 23
        }
      ]
    },
    {
      "cell_type": "code",
      "source": [
        "find_null_values(application_df)[find_null_values(application_df)>0]"
      ],
      "metadata": {
        "colab": {
          "base_uri": "https://localhost:8080/"
        },
        "id": "7d8Y-lY1RPM0",
        "outputId": "9be1aad5-4292-487d-caf7-bed256baca99"
      },
      "execution_count": 24,
      "outputs": [
        {
          "output_type": "execute_result",
          "data": {
            "text/plain": [
              "OCCUPATION_TYPE               31.35\n",
              "EXT_SOURCE_3                  19.83\n",
              "AMT_REQ_CREDIT_BUREAU_YEAR    13.50\n",
              "AMT_REQ_CREDIT_BUREAU_QRT     13.50\n",
              "AMT_REQ_CREDIT_BUREAU_MON     13.50\n",
              "AMT_REQ_CREDIT_BUREAU_WEEK    13.50\n",
              "AMT_REQ_CREDIT_BUREAU_DAY     13.50\n",
              "AMT_REQ_CREDIT_BUREAU_HOUR    13.50\n",
              "NAME_TYPE_SUITE                0.42\n",
              "OBS_30_CNT_SOCIAL_CIRCLE       0.33\n",
              "DEF_30_CNT_SOCIAL_CIRCLE       0.33\n",
              "OBS_60_CNT_SOCIAL_CIRCLE       0.33\n",
              "DEF_60_CNT_SOCIAL_CIRCLE       0.33\n",
              "EXT_SOURCE_2                   0.21\n",
              "AMT_GOODS_PRICE                0.09\n",
              "dtype: float64"
            ]
          },
          "metadata": {},
          "execution_count": 24
        }
      ]
    },
    {
      "cell_type": "code",
      "source": [
        "application_df['EXT_SOURCE_3'].sample()"
      ],
      "metadata": {
        "colab": {
          "base_uri": "https://localhost:8080/"
        },
        "id": "fDOyFzNQW8kk",
        "outputId": "42f32165-55d2-44bb-b90e-9a20f4d291e0"
      },
      "execution_count": 25,
      "outputs": [
        {
          "output_type": "execute_result",
          "data": {
            "text/plain": [
              "203125   NaN\n",
              "Name: EXT_SOURCE_3, dtype: float64"
            ]
          },
          "metadata": {},
          "execution_count": 25
        }
      ]
    },
    {
      "cell_type": "code",
      "source": [
        "#removing extra columns\n",
        "#putting irrelevent columns in 1 variable\n",
        "irrev = [\"EXT_SOURCE_3\",\"EXT_SOURCE_2\"]\n",
        "#making a heatmap to identify the coorelation\n",
        "plt.figure(figsize= [3,1])\n",
        "sns.heatmap(application_df[irrev+[\"TARGET\"]].corr(), cmap=\"Reds\",annot=True)\n",
        "plt.title(\"Correlation between EXT_SOURCE_3, EXT_SOURCE_2, TARGET\", fontdict={\"fontsize\":10}, pad=12)\n",
        "plt.show()"
      ],
      "metadata": {
        "colab": {
          "base_uri": "https://localhost:8080/",
          "height": 0
        },
        "id": "OFhy9UudRTlF",
        "outputId": "107abb0f-e7d9-445d-c4b6-c26095cf1e88"
      },
      "execution_count": 26,
      "outputs": [
        {
          "output_type": "display_data",
          "data": {
            "text/plain": [
              "<Figure size 300x100 with 2 Axes>"
            ],
            "image/png": "[encoded data removed]"
          },
          "metadata": {}
        }
      ]
    },
    {
      "cell_type": "markdown",
      "source": [
        "**Observation**\n",
        "\n",
        "In this above Heatmap,we can see there is no correlation between those columns"
      ],
      "metadata": {
        "id": "hMnDfE3XYC4L"
      }
    },
    {
      "cell_type": "code",
      "source": [
        "application_df.drop(irrev, axis=1, inplace= True)"
      ],
      "metadata": {
        "id": "-Rm2DxKxRY7d"
      },
      "execution_count": 27,
      "outputs": []
    },
    {
      "cell_type": "code",
      "source": [
        "application_df.shape"
      ],
      "metadata": {
        "colab": {
          "base_uri": "https://localhost:8080/"
        },
        "id": "elBTgS7yRat8",
        "outputId": "6486de43-818d-4679-b1f5-e1e33962166e"
      },
      "execution_count": 28,
      "outputs": [
        {
          "output_type": "execute_result",
          "data": {
            "text/plain": [
              "(307511, 71)"
            ]
          },
          "metadata": {},
          "execution_count": 28
        }
      ]
    },
    {
      "cell_type": "markdown",
      "source": [
        "###"
      ],
      "metadata": {
        "id": "Klek_H2kaEGg"
      }
    },
    {
      "cell_type": "markdown",
      "source": [
        "**Flag Document**"
      ],
      "metadata": {
        "id": "I6U91RcdZ-ZZ"
      }
    },
    {
      "cell_type": "code",
      "source": [
        "flag=[col for col in application_df.columns if \"FLAG\" in col]\n",
        "flag"
      ],
      "metadata": {
        "colab": {
          "base_uri": "https://localhost:8080/"
        },
        "id": "UldXFjy4RxON",
        "outputId": "7a80f6de-12df-419d-f6c7-5d3300a5edae"
      },
      "execution_count": 29,
      "outputs": [
        {
          "output_type": "execute_result",
          "data": {
            "text/plain": [
              "['FLAG_OWN_CAR',\n",
              " 'FLAG_OWN_REALTY',\n",
              " 'FLAG_MOBIL',\n",
              " 'FLAG_EMP_PHONE',\n",
              " 'FLAG_WORK_PHONE',\n",
              " 'FLAG_CONT_MOBILE',\n",
              " 'FLAG_PHONE',\n",
              " 'FLAG_EMAIL',\n",
              " 'FLAG_DOCUMENT_2',\n",
              " 'FLAG_DOCUMENT_3',\n",
              " 'FLAG_DOCUMENT_4',\n",
              " 'FLAG_DOCUMENT_5',\n",
              " 'FLAG_DOCUMENT_6',\n",
              " 'FLAG_DOCUMENT_7',\n",
              " 'FLAG_DOCUMENT_8',\n",
              " 'FLAG_DOCUMENT_9',\n",
              " 'FLAG_DOCUMENT_10',\n",
              " 'FLAG_DOCUMENT_11',\n",
              " 'FLAG_DOCUMENT_12',\n",
              " 'FLAG_DOCUMENT_13',\n",
              " 'FLAG_DOCUMENT_14',\n",
              " 'FLAG_DOCUMENT_15',\n",
              " 'FLAG_DOCUMENT_16',\n",
              " 'FLAG_DOCUMENT_17',\n",
              " 'FLAG_DOCUMENT_18',\n",
              " 'FLAG_DOCUMENT_19',\n",
              " 'FLAG_DOCUMENT_20',\n",
              " 'FLAG_DOCUMENT_21']"
            ]
          },
          "metadata": {},
          "execution_count": 29
        }
      ]
    },
    {
      "cell_type": "code",
      "source": [
        "flag_df=application_df[flag+[\"TARGET\"]]"
      ],
      "metadata": {
        "id": "wck7GO90R2Hc"
      },
      "execution_count": 30,
      "outputs": []
    },
    {
      "cell_type": "code",
      "source": [
        "flag_df.head()"
      ],
      "metadata": {
        "colab": {
          "base_uri": "https://localhost:8080/",
          "height": 0
        },
        "id": "7DgKQiZhXawn",
        "outputId": "3ab0d48a-b6a1-4b66-92b1-b986ed11a459"
      },
      "execution_count": 31,
      "outputs": [
        {
          "output_type": "execute_result",
          "data": {
            "text/plain": [
              "  FLAG_OWN_CAR FLAG_OWN_REALTY  FLAG_MOBIL  FLAG_EMP_PHONE  FLAG_WORK_PHONE  \\\n",
              "0            N               Y           1               1                0   \n",
              "1            N               N           1               1                0   \n",
              "2            Y               Y           1               1                1   \n",
              "3            N               Y           1               1                0   \n",
              "4            N               Y           1               1                0   \n",
              "\n",
              "   FLAG_CONT_MOBILE  FLAG_PHONE  FLAG_EMAIL  FLAG_DOCUMENT_2  FLAG_DOCUMENT_3  \\\n",
              "0                 1           1           0                0                1   \n",
              "1                 1           1           0                0                1   \n",
              "2                 1           1           0                0                0   \n",
              "3                 1           0           0                0                1   \n",
              "4                 1           0           0                0                0   \n",
              "\n",
              "   ...  FLAG_DOCUMENT_13  FLAG_DOCUMENT_14  FLAG_DOCUMENT_15  \\\n",
              "0  ...                 0                 0                 0   \n",
              "1  ...                 0                 0                 0   \n",
              "2  ...                 0                 0                 0   \n",
              "3  ...                 0                 0                 0   \n",
              "4  ...                 0                 0                 0   \n",
              "\n",
              "   FLAG_DOCUMENT_16  FLAG_DOCUMENT_17  FLAG_DOCUMENT_18  FLAG_DOCUMENT_19  \\\n",
              "0                 0                 0                 0                 0   \n",
              "1                 0                 0                 0                 0   \n",
              "2                 0                 0                 0                 0   \n",
              "3                 0                 0                 0                 0   \n",
              "4                 0                 0                 0                 0   \n",
              "\n",
              "   FLAG_DOCUMENT_20  FLAG_DOCUMENT_21  TARGET  \n",
              "0                 0                 0       1  \n",
              "1                 0                 0       0  \n",
              "2                 0                 0       0  \n",
              "3                 0                 0       0  \n",
              "4                 0                 0       0  \n",
              "\n",
              "[5 rows x 29 columns]"
            ],
            "text/html": [
              "\n",
              "  <div id=\"df-90c53a38-6c3d-4273-a24b-0361d000f612\">\n",
              "    <div class=\"colab-df-container\">\n",
              "      <div>\n",
              "<style scoped>\n",
              "    .dataframe tbody tr th:only-of-type {\n",
              "        vertical-align: middle;\n",
              "    }\n",
              "\n",
              "    .dataframe tbody tr th {\n",
              "        vertical-align: top;\n",
              "    }\n",
              "\n",
              "    .dataframe thead th {\n",
              "        text-align: right;\n",
              "    }\n",
              "</style>\n",
              "<table border=\"1\" class=\"dataframe\">\n",
              "  <thead>\n",
              "    <tr style=\"text-align: right;\">\n",
              "      <th></th>\n",
              "      <th>FLAG_OWN_CAR</th>\n",
              "      <th>FLAG_OWN_REALTY</th>\n",
              "      <th>FLAG_MOBIL</th>\n",
              "      <th>FLAG_EMP_PHONE</th>\n",
              "      <th>FLAG_WORK_PHONE</th>\n",
              "      <th>FLAG_CONT_MOBILE</th>\n",
              "      <th>FLAG_PHONE</th>\n",
              "      <th>FLAG_EMAIL</th>\n",
              "      <th>FLAG_DOCUMENT_2</th>\n",
              "      <th>FLAG_DOCUMENT_3</th>\n",
              "      <th>...</th>\n",
              "      <th>FLAG_DOCUMENT_13</th>\n",
              "      <th>FLAG_DOCUMENT_14</th>\n",
              "      <th>FLAG_DOCUMENT_15</th>\n",
              "      <th>FLAG_DOCUMENT_16</th>\n",
              "      <th>FLAG_DOCUMENT_17</th>\n",
              "      <th>FLAG_DOCUMENT_18</th>\n",
              "      <th>FLAG_DOCUMENT_19</th>\n",
              "      <th>FLAG_DOCUMENT_20</th>\n",
              "      <th>FLAG_DOCUMENT_21</th>\n",
              "      <th>TARGET</th>\n",
              "    </tr>\n",
              "  </thead>\n",
              "  <tbody>\n",
              "    <tr>\n",
              "      <th>0</th>\n",
              "      <td>N</td>\n",
              "      <td>Y</td>\n",
              "      <td>1</td>\n",
              "      <td>1</td>\n",
              "      <td>0</td>\n",
              "      <td>1</td>\n",
              "      <td>1</td>\n",
              "      <td>0</td>\n",
              "      <td>0</td>\n",
              "      <td>1</td>\n",
              "      <td>...</td>\n",
              "      <td>0</td>\n",
              "      <td>0</td>\n",
              "      <td>0</td>\n",
              "      <td>0</td>\n",
              "      <td>0</td>\n",
              "      <td>0</td>\n",
              "      <td>0</td>\n",
              "      <td>0</td>\n",
              "      <td>0</td>\n",
              "      <td>1</td>\n",
              "    </tr>\n",
              "    <tr>\n",
              "      <th>1</th>\n",
              "      <td>N</td>\n",
              "      <td>N</td>\n",
              "      <td>1</td>\n",
              "      <td>1</td>\n",
              "      <td>0</td>\n",
              "      <td>1</td>\n",
              "      <td>1</td>\n",
              "      <td>0</td>\n",
              "      <td>0</td>\n",
              "      <td>1</td>\n",
              "      <td>...</td>\n",
              "      <td>0</td>\n",
              "      <td>0</td>\n",
              "      <td>0</td>\n",
              "      <td>0</td>\n",
              "      <td>0</td>\n",
              "      <td>0</td>\n",
              "      <td>0</td>\n",
              "      <td>0</td>\n",
              "      <td>0</td>\n",
              "      <td>0</td>\n",
              "    </tr>\n",
              "    <tr>\n",
              "      <th>2</th>\n",
              "      <td>Y</td>\n",
              "      <td>Y</td>\n",
              "      <td>1</td>\n",
              "      <td>1</td>\n",
              "      <td>1</td>\n",
              "      <td>1</td>\n",
              "      <td>1</td>\n",
              "      <td>0</td>\n",
              "      <td>0</td>\n",
              "      <td>0</td>\n",
              "      <td>...</td>\n",
              "      <td>0</td>\n",
              "      <td>0</td>\n",
              "      <td>0</td>\n",
              "      <td>0</td>\n",
              "      <td>0</td>\n",
              "      <td>0</td>\n",
              "      <td>0</td>\n",
              "      <td>0</td>\n",
              "      <td>0</td>\n",
              "      <td>0</td>\n",
              "    </tr>\n",
              "    <tr>\n",
              "      <th>3</th>\n",
              "      <td>N</td>\n",
              "      <td>Y</td>\n",
              "      <td>1</td>\n",
              "      <td>1</td>\n",
              "      <td>0</td>\n",
              "      <td>1</td>\n",
              "      <td>0</td>\n",
              "      <td>0</td>\n",
              "      <td>0</td>\n",
              "      <td>1</td>\n",
              "      <td>...</td>\n",
              "      <td>0</td>\n",
              "      <td>0</td>\n",
              "      <td>0</td>\n",
              "      <td>0</td>\n",
              "      <td>0</td>\n",
              "      <td>0</td>\n",
              "      <td>0</td>\n",
              "      <td>0</td>\n",
              "      <td>0</td>\n",
              "      <td>0</td>\n",
              "    </tr>\n",
              "    <tr>\n",
              "      <th>4</th>\n",
              "      <td>N</td>\n",
              "      <td>Y</td>\n",
              "      <td>1</td>\n",
              "      <td>1</td>\n",
              "      <td>0</td>\n",
              "      <td>1</td>\n",
              "      <td>0</td>\n",
              "      <td>0</td>\n",
              "      <td>0</td>\n",
              "      <td>0</td>\n",
              "      <td>...</td>\n",
              "      <td>0</td>\n",
              "      <td>0</td>\n",
              "      <td>0</td>\n",
              "      <td>0</td>\n",
              "      <td>0</td>\n",
              "      <td>0</td>\n",
              "      <td>0</td>\n",
              "      <td>0</td>\n",
              "      <td>0</td>\n",
              "      <td>0</td>\n",
              "    </tr>\n",
              "  </tbody>\n",
              "</table>\n",
              "<p>5 rows × 29 columns</p>\n",
              "</div>\n",
              "      <button class=\"colab-df-convert\" onclick=\"convertToInteractive('df-90c53a38-6c3d-4273-a24b-0361d000f612')\"\n",
              "              title=\"Convert this dataframe to an interactive table.\"\n",
              "              style=\"display:none;\">\n",
              "        \n",
              "  <svg xmlns=\"http://www.w3.org/2000/svg\" height=\"24px\"viewBox=\"0 0 24 24\"\n",
              "       width=\"24px\">\n",
              "    <path d=\"M0 0h24v24H0V0z\" fill=\"none\"/>\n",
              "    <path d=\"M18.56 5.44l.94 2.06.94-2.06 2.06-.94-2.06-.94-.94-2.06-.94 2.06-2.06.94zm-11 1L8.5 8.5l.94-2.06 2.06-.94-2.06-.94L8.5 2.5l-.94 2.06-2.06.94zm10 10l.94 2.06.94-2.06 2.06-.94-2.06-.94-.94-2.06-.94 2.06-2.06.94z\"/><path d=\"M17.41 7.96l-1.37-1.37c-.4-.4-.92-.59-1.43-.59-.52 0-1.04.2-1.43.59L10.3 9.45l-7.72 7.72c-.78.78-.78 2.05 0 2.83L4 21.41c.39.39.9.59 1.41.59.51 0 1.02-.2 1.41-.59l7.78-7.78 2.81-2.81c.8-.78.8-2.07 0-2.86zM5.41 20L4 18.59l7.72-7.72 1.47 1.35L5.41 20z\"/>\n",
              "  </svg>\n",
              "      </button>\n",
              "      \n",
              "  <style>\n",
              "    .colab-df-container {\n",
              "      display:flex;\n",
              "      flex-wrap:wrap;\n",
              "      gap: 12px;\n",
              "    }\n",
              "\n",
              "    .colab-df-convert {\n",
              "      background-color: #E8F0FE;\n",
              "      border: none;\n",
              "      border-radius: 50%;\n",
              "      cursor: pointer;\n",
              "      display: none;\n",
              "      fill: #1967D2;\n",
              "      height: 32px;\n",
              "      padding: 0 0 0 0;\n",
              "      width: 32px;\n",
              "    }\n",
              "\n",
              "    .colab-df-convert:hover {\n",
              "      background-color: #E2EBFA;\n",
              "      box-shadow: 0px 1px 2px rgba(60, 64, 67, 0.3), 0px 1px 3px 1px rgba(60, 64, 67, 0.15);\n",
              "      fill: #174EA6;\n",
              "    }\n",
              "\n",
              "    [theme=dark] .colab-df-convert {\n",
              "      background-color: #3B4455;\n",
              "      fill: #D2E3FC;\n",
              "    }\n",
              "\n",
              "    [theme=dark] .colab-df-convert:hover {\n",
              "      background-color: #434B5C;\n",
              "      box-shadow: 0px 1px 3px 1px rgba(0, 0, 0, 0.15);\n",
              "      filter: drop-shadow(0px 1px 2px rgba(0, 0, 0, 0.3));\n",
              "      fill: #FFFFFF;\n",
              "    }\n",
              "  </style>\n",
              "\n",
              "      <script>\n",
              "        const buttonEl =\n",
              "          document.querySelector('#df-90c53a38-6c3d-4273-a24b-0361d000f612 button.colab-df-convert');\n",
              "        buttonEl.style.display =\n",
              "          google.colab.kernel.accessAllowed ? 'block' : 'none';\n",
              "\n",
              "        async function convertToInteractive(key) {\n",
              "          const element = document.querySelector('#df-90c53a38-6c3d-4273-a24b-0361d000f612');\n",
              "          const dataTable =\n",
              "            await google.colab.kernel.invokeFunction('convertToInteractive',\n",
              "                                                     [key], {});\n",
              "          if (!dataTable) return;\n",
              "\n",
              "          const docLinkHtml = 'Like what you see? Visit the ' +\n",
              "            '<a target=\"_blank\" href=https://colab.research.google.com/notebooks/data_table.ipynb>data table notebook</a>'\n",
              "            + ' to learn more about interactive tables.';\n",
              "          element.innerHTML = '';\n",
              "          dataTable['output_type'] = 'display_data';\n",
              "          await google.colab.output.renderOutput(dataTable, element);\n",
              "          const docLink = document.createElement('div');\n",
              "          docLink.innerHTML = docLinkHtml;\n",
              "          element.appendChild(docLink);\n",
              "        }\n",
              "      </script>\n",
              "    </div>\n",
              "  </div>\n",
              "  "
            ]
          },
          "metadata": {},
          "execution_count": 31
        }
      ]
    },
    {
      "cell_type": "code",
      "source": [
        "#according to column description ->1 implies defaulter, 0 implies repayer\n",
        "flag_df[\"TARGET\"] = flag_df[\"TARGET\"].replace({1:\"Defaulter\", 0:\"Repayer\"})"
      ],
      "metadata": {
        "id": "4UHwZS60R6Ul"
      },
      "execution_count": 32,
      "outputs": []
    },
    {
      "cell_type": "code",
      "source": [
        "# as stated in columnn description replacing \"1\" as Y being TRUE and \"0\" as N being False\n",
        "\n",
        "for i in flag_df:\n",
        "    if i!= \"TARGET\":\n",
        "        flag_df[i] = flag_df[i].replace({1:\"Y\", 0:\"N\"})"
      ],
      "metadata": {
        "id": "N0NQP2fXR9y2"
      },
      "execution_count": 33,
      "outputs": []
    },
    {
      "cell_type": "code",
      "source": [
        "flag_df.head()"
      ],
      "metadata": {
        "colab": {
          "base_uri": "https://localhost:8080/",
          "height": 0
        },
        "id": "471oBdSTSAiV",
        "outputId": "c12672fa-f803-4939-9af9-174cb2d94b38"
      },
      "execution_count": 34,
      "outputs": [
        {
          "output_type": "execute_result",
          "data": {
            "text/plain": [
              "  FLAG_OWN_CAR FLAG_OWN_REALTY FLAG_MOBIL FLAG_EMP_PHONE FLAG_WORK_PHONE  \\\n",
              "0            N               Y          Y              Y               N   \n",
              "1            N               N          Y              Y               N   \n",
              "2            Y               Y          Y              Y               Y   \n",
              "3            N               Y          Y              Y               N   \n",
              "4            N               Y          Y              Y               N   \n",
              "\n",
              "  FLAG_CONT_MOBILE FLAG_PHONE FLAG_EMAIL FLAG_DOCUMENT_2 FLAG_DOCUMENT_3  ...  \\\n",
              "0                Y          Y          N               N               Y  ...   \n",
              "1                Y          Y          N               N               Y  ...   \n",
              "2                Y          Y          N               N               N  ...   \n",
              "3                Y          N          N               N               Y  ...   \n",
              "4                Y          N          N               N               N  ...   \n",
              "\n",
              "  FLAG_DOCUMENT_13 FLAG_DOCUMENT_14 FLAG_DOCUMENT_15 FLAG_DOCUMENT_16  \\\n",
              "0                N                N                N                N   \n",
              "1                N                N                N                N   \n",
              "2                N                N                N                N   \n",
              "3                N                N                N                N   \n",
              "4                N                N                N                N   \n",
              "\n",
              "  FLAG_DOCUMENT_17 FLAG_DOCUMENT_18 FLAG_DOCUMENT_19 FLAG_DOCUMENT_20  \\\n",
              "0                N                N                N                N   \n",
              "1                N                N                N                N   \n",
              "2                N                N                N                N   \n",
              "3                N                N                N                N   \n",
              "4                N                N                N                N   \n",
              "\n",
              "  FLAG_DOCUMENT_21     TARGET  \n",
              "0                N  Defaulter  \n",
              "1                N    Repayer  \n",
              "2                N    Repayer  \n",
              "3                N    Repayer  \n",
              "4                N    Repayer  \n",
              "\n",
              "[5 rows x 29 columns]"
            ],
            "text/html": [
              "\n",
              "  <div id=\"df-31142b83-13cd-4de2-96c7-242cb53f6d1a\">\n",
              "    <div class=\"colab-df-container\">\n",
              "      <div>\n",
              "<style scoped>\n",
              "    .dataframe tbody tr th:only-of-type {\n",
              "        vertical-align: middle;\n",
              "    }\n",
              "\n",
              "    .dataframe tbody tr th {\n",
              "        vertical-align: top;\n",
              "    }\n",
              "\n",
              "    .dataframe thead th {\n",
              "        text-align: right;\n",
              "    }\n",
              "</style>\n",
              "<table border=\"1\" class=\"dataframe\">\n",
              "  <thead>\n",
              "    <tr style=\"text-align: right;\">\n",
              "      <th></th>\n",
              "      <th>FLAG_OWN_CAR</th>\n",
              "      <th>FLAG_OWN_REALTY</th>\n",
              "      <th>FLAG_MOBIL</th>\n",
              "      <th>FLAG_EMP_PHONE</th>\n",
              "      <th>FLAG_WORK_PHONE</th>\n",
              "      <th>FLAG_CONT_MOBILE</th>\n",
              "      <th>FLAG_PHONE</th>\n",
              "      <th>FLAG_EMAIL</th>\n",
              "      <th>FLAG_DOCUMENT_2</th>\n",
              "      <th>FLAG_DOCUMENT_3</th>\n",
              "      <th>...</th>\n",
              "      <th>FLAG_DOCUMENT_13</th>\n",
              "      <th>FLAG_DOCUMENT_14</th>\n",
              "      <th>FLAG_DOCUMENT_15</th>\n",
              "      <th>FLAG_DOCUMENT_16</th>\n",
              "      <th>FLAG_DOCUMENT_17</th>\n",
              "      <th>FLAG_DOCUMENT_18</th>\n",
              "      <th>FLAG_DOCUMENT_19</th>\n",
              "      <th>FLAG_DOCUMENT_20</th>\n",
              "      <th>FLAG_DOCUMENT_21</th>\n",
              "      <th>TARGET</th>\n",
              "    </tr>\n",
              "  </thead>\n",
              "  <tbody>\n",
              "    <tr>\n",
              "      <th>0</th>\n",
              "      <td>N</td>\n",
              "      <td>Y</td>\n",
              "      <td>Y</td>\n",
              "      <td>Y</td>\n",
              "      <td>N</td>\n",
              "      <td>Y</td>\n",
              "      <td>Y</td>\n",
              "      <td>N</td>\n",
              "      <td>N</td>\n",
              "      <td>Y</td>\n",
              "      <td>...</td>\n",
              "      <td>N</td>\n",
              "      <td>N</td>\n",
              "      <td>N</td>\n",
              "      <td>N</td>\n",
              "      <td>N</td>\n",
              "      <td>N</td>\n",
              "      <td>N</td>\n",
              "      <td>N</td>\n",
              "      <td>N</td>\n",
              "      <td>Defaulter</td>\n",
              "    </tr>\n",
              "    <tr>\n",
              "      <th>1</th>\n",
              "      <td>N</td>\n",
              "      <td>N</td>\n",
              "      <td>Y</td>\n",
              "      <td>Y</td>\n",
              "      <td>N</td>\n",
              "      <td>Y</td>\n",
              "      <td>Y</td>\n",
              "      <td>N</td>\n",
              "      <td>N</td>\n",
              "      <td>Y</td>\n",
              "      <td>...</td>\n",
              "      <td>N</td>\n",
              "      <td>N</td>\n",
              "      <td>N</td>\n",
              "      <td>N</td>\n",
              "      <td>N</td>\n",
              "      <td>N</td>\n",
              "      <td>N</td>\n",
              "      <td>N</td>\n",
              "      <td>N</td>\n",
              "      <td>Repayer</td>\n",
              "    </tr>\n",
              "    <tr>\n",
              "      <th>2</th>\n",
              "      <td>Y</td>\n",
              "      <td>Y</td>\n",
              "      <td>Y</td>\n",
              "      <td>Y</td>\n",
              "      <td>Y</td>\n",
              "      <td>Y</td>\n",
              "      <td>Y</td>\n",
              "      <td>N</td>\n",
              "      <td>N</td>\n",
              "      <td>N</td>\n",
              "      <td>...</td>\n",
              "      <td>N</td>\n",
              "      <td>N</td>\n",
              "      <td>N</td>\n",
              "      <td>N</td>\n",
              "      <td>N</td>\n",
              "      <td>N</td>\n",
              "      <td>N</td>\n",
              "      <td>N</td>\n",
              "      <td>N</td>\n",
              "      <td>Repayer</td>\n",
              "    </tr>\n",
              "    <tr>\n",
              "      <th>3</th>\n",
              "      <td>N</td>\n",
              "      <td>Y</td>\n",
              "      <td>Y</td>\n",
              "      <td>Y</td>\n",
              "      <td>N</td>\n",
              "      <td>Y</td>\n",
              "      <td>N</td>\n",
              "      <td>N</td>\n",
              "      <td>N</td>\n",
              "      <td>Y</td>\n",
              "      <td>...</td>\n",
              "      <td>N</td>\n",
              "      <td>N</td>\n",
              "      <td>N</td>\n",
              "      <td>N</td>\n",
              "      <td>N</td>\n",
              "      <td>N</td>\n",
              "      <td>N</td>\n",
              "      <td>N</td>\n",
              "      <td>N</td>\n",
              "      <td>Repayer</td>\n",
              "    </tr>\n",
              "    <tr>\n",
              "      <th>4</th>\n",
              "      <td>N</td>\n",
              "      <td>Y</td>\n",
              "      <td>Y</td>\n",
              "      <td>Y</td>\n",
              "      <td>N</td>\n",
              "      <td>Y</td>\n",
              "      <td>N</td>\n",
              "      <td>N</td>\n",
              "      <td>N</td>\n",
              "      <td>N</td>\n",
              "      <td>...</td>\n",
              "      <td>N</td>\n",
              "      <td>N</td>\n",
              "      <td>N</td>\n",
              "      <td>N</td>\n",
              "      <td>N</td>\n",
              "      <td>N</td>\n",
              "      <td>N</td>\n",
              "      <td>N</td>\n",
              "      <td>N</td>\n",
              "      <td>Repayer</td>\n",
              "    </tr>\n",
              "  </tbody>\n",
              "</table>\n",
              "<p>5 rows × 29 columns</p>\n",
              "</div>\n",
              "      <button class=\"colab-df-convert\" onclick=\"convertToInteractive('df-31142b83-13cd-4de2-96c7-242cb53f6d1a')\"\n",
              "              title=\"Convert this dataframe to an interactive table.\"\n",
              "              style=\"display:none;\">\n",
              "        \n",
              "  <svg xmlns=\"http://www.w3.org/2000/svg\" height=\"24px\"viewBox=\"0 0 24 24\"\n",
              "       width=\"24px\">\n",
              "    <path d=\"M0 0h24v24H0V0z\" fill=\"none\"/>\n",
              "    <path d=\"M18.56 5.44l.94 2.06.94-2.06 2.06-.94-2.06-.94-.94-2.06-.94 2.06-2.06.94zm-11 1L8.5 8.5l.94-2.06 2.06-.94-2.06-.94L8.5 2.5l-.94 2.06-2.06.94zm10 10l.94 2.06.94-2.06 2.06-.94-2.06-.94-.94-2.06-.94 2.06-2.06.94z\"/><path d=\"M17.41 7.96l-1.37-1.37c-.4-.4-.92-.59-1.43-.59-.52 0-1.04.2-1.43.59L10.3 9.45l-7.72 7.72c-.78.78-.78 2.05 0 2.83L4 21.41c.39.39.9.59 1.41.59.51 0 1.02-.2 1.41-.59l7.78-7.78 2.81-2.81c.8-.78.8-2.07 0-2.86zM5.41 20L4 18.59l7.72-7.72 1.47 1.35L5.41 20z\"/>\n",
              "  </svg>\n",
              "      </button>\n",
              "      \n",
              "  <style>\n",
              "    .colab-df-container {\n",
              "      display:flex;\n",
              "      flex-wrap:wrap;\n",
              "      gap: 12px;\n",
              "    }\n",
              "\n",
              "    .colab-df-convert {\n",
              "      background-color: #E8F0FE;\n",
              "      border: none;\n",
              "      border-radius: 50%;\n",
              "      cursor: pointer;\n",
              "      display: none;\n",
              "      fill: #1967D2;\n",
              "      height: 32px;\n",
              "      padding: 0 0 0 0;\n",
              "      width: 32px;\n",
              "    }\n",
              "\n",
              "    .colab-df-convert:hover {\n",
              "      background-color: #E2EBFA;\n",
              "      box-shadow: 0px 1px 2px rgba(60, 64, 67, 0.3), 0px 1px 3px 1px rgba(60, 64, 67, 0.15);\n",
              "      fill: #174EA6;\n",
              "    }\n",
              "\n",
              "    [theme=dark] .colab-df-convert {\n",
              "      background-color: #3B4455;\n",
              "      fill: #D2E3FC;\n",
              "    }\n",
              "\n",
              "    [theme=dark] .colab-df-convert:hover {\n",
              "      background-color: #434B5C;\n",
              "      box-shadow: 0px 1px 3px 1px rgba(0, 0, 0, 0.15);\n",
              "      filter: drop-shadow(0px 1px 2px rgba(0, 0, 0, 0.3));\n",
              "      fill: #FFFFFF;\n",
              "    }\n",
              "  </style>\n",
              "\n",
              "      <script>\n",
              "        const buttonEl =\n",
              "          document.querySelector('#df-31142b83-13cd-4de2-96c7-242cb53f6d1a button.colab-df-convert');\n",
              "        buttonEl.style.display =\n",
              "          google.colab.kernel.accessAllowed ? 'block' : 'none';\n",
              "\n",
              "        async function convertToInteractive(key) {\n",
              "          const element = document.querySelector('#df-31142b83-13cd-4de2-96c7-242cb53f6d1a');\n",
              "          const dataTable =\n",
              "            await google.colab.kernel.invokeFunction('convertToInteractive',\n",
              "                                                     [key], {});\n",
              "          if (!dataTable) return;\n",
              "\n",
              "          const docLinkHtml = 'Like what you see? Visit the ' +\n",
              "            '<a target=\"_blank\" href=https://colab.research.google.com/notebooks/data_table.ipynb>data table notebook</a>'\n",
              "            + ' to learn more about interactive tables.';\n",
              "          element.innerHTML = '';\n",
              "          dataTable['output_type'] = 'display_data';\n",
              "          await google.colab.output.renderOutput(dataTable, element);\n",
              "          const docLink = document.createElement('div');\n",
              "          docLink.innerHTML = docLinkHtml;\n",
              "          element.appendChild(docLink);\n",
              "        }\n",
              "      </script>\n",
              "    </div>\n",
              "  </div>\n",
              "  "
            ]
          },
          "metadata": {},
          "execution_count": 34
        }
      ]
    },
    {
      "cell_type": "code",
      "source": [
        "import itertools # using itertools for efficient looping plotting subplots\n",
        "\n",
        "# Plotting all the graph to find the relation and evaluting for dropping such columns\n",
        "\n",
        "plt.figure(figsize = [20,24])\n",
        "\n",
        "for i,j in itertools.zip_longest(flag,range(len(flag))):\n",
        "    plt.subplot(7,4,j+1)\n",
        "    ax = sns.countplot(x=flag_df[i], hue = flag_df[\"TARGET\"], palette = [\"r\",\"b\"])\n",
        "    plt.xlabel(\"\")\n",
        "    plt.ylabel(\"\")\n",
        "    plt.title(i)"
      ],
      "metadata": {
        "colab": {
          "base_uri": "https://localhost:8080/",
          "height": 0
        },
        "id": "WvnSeb1NSFU1",
        "outputId": "db030c59-9bb7-4d5c-f31c-80cc20801224"
      },
      "execution_count": 35,
      "outputs": [
        {
          "output_type": "display_data",
          "data": {
            "text/plain": [
              "<Figure size 2000x2400 with 28 Axes>"
            ],
            "image/png": "[encoded data removed]"
          },
          "metadata": {}
        }
      ]
    },
    {
      "cell_type": "markdown",
      "source": [
        "**Observation**\n",
        "\n",
        "The graph indicates that the majority of loan applicants have not submitted any FLAG_DOCUMENT_X except for FLAG_DOCUMENT_3. Therefore, we can remove all columns except for FLAG_DOCUMENT_3. The data reveals that if a borrower has submitted FLAG_DOCUMENT_3, the likelihood of loan default is reduced"
      ],
      "metadata": {
        "id": "Iuq5_O44cHaw"
      }
    },
    {
      "cell_type": "code",
      "source": [
        "# removing required columns from \"flag_df\" such that we can remove the irrelevent columns from \"application_df\" dataset.\n",
        "\n",
        "flag_df.drop([\"TARGET\",\"FLAG_OWN_REALTY\",\"FLAG_MOBIL\",\"FLAG_DOCUMENT_3\"], axis=1 , inplace = True)"
      ],
      "metadata": {
        "id": "6uNUMPDwSI1v"
      },
      "execution_count": 36,
      "outputs": []
    },
    {
      "cell_type": "code",
      "source": [
        "#Checking the coorelation between mobile phone,work phone etc,email family members and Region rating\n",
        "\n",
        "contacts_columns=[ 'FLAG_EMP_PHONE', 'FLAG_WORK_PHONE', 'FLAG_CONT_MOBILE',\n",
        "       'FLAG_PHONE', 'FLAG_EMAIL','TARGET']\n",
        "contacts_columns_corr=application_df[contacts_columns].corr()\n",
        "flg=plt.figure(figsize=(8,8))\n",
        "ax=sns.heatmap(contacts_columns_corr,annot=True,\n",
        "               cmap='RdYlGn',\n",
        "               linewidth=1)"
      ],
      "metadata": {
        "colab": {
          "base_uri": "https://localhost:8080/",
          "height": 0
        },
        "id": "07gg-L3TcSnk",
        "outputId": "9377c088-421e-4327-8024-18e5c2db5905"
      },
      "execution_count": 37,
      "outputs": [
        {
          "output_type": "display_data",
          "data": {
            "text/plain": [
              "<Figure size 800x800 with 2 Axes>"
            ],
            "image/png": "[encoded data removed]"
          },
          "metadata": {}
        }
      ]
    },
    {
      "cell_type": "markdown",
      "source": [
        "**Observation**\n",
        "\n",
        "We can see that,there is no correlation between those columns"
      ],
      "metadata": {
        "id": "TEEX98xVewEv"
      }
    },
    {
      "cell_type": "code",
      "source": [
        "# dropping the columns of \"flag_df\" dataframe that is removing more 25 columns from \"appl_data\" dataframe\n",
        "\n",
        "application_df.drop(flag_df.columns, axis=1, inplace= True)"
      ],
      "metadata": {
        "id": "4xmLsWdJSP8f"
      },
      "execution_count": 38,
      "outputs": []
    },
    {
      "cell_type": "code",
      "source": [
        "#Function of identify the columns\n",
        "def find_Columns(df):\n",
        "  for col in df.columns:\n",
        "    print(col)\n",
        "  return col"
      ],
      "metadata": {
        "id": "fZJ4W0SYYZXS"
      },
      "execution_count": 39,
      "outputs": []
    },
    {
      "cell_type": "code",
      "source": [
        "find_Columns(application_df)"
      ],
      "metadata": {
        "colab": {
          "base_uri": "https://localhost:8080/",
          "height": 0
        },
        "id": "HOAp9KLYYwN8",
        "outputId": "fcda24ad-bc0a-4e9c-c14f-f0216e540364"
      },
      "execution_count": 40,
      "outputs": [
        {
          "output_type": "stream",
          "name": "stdout",
          "text": [
            "SK_ID_CURR\n",
            "TARGET\n",
            "NAME_CONTRACT_TYPE\n",
            "CODE_GENDER\n",
            "FLAG_OWN_REALTY\n",
            "CNT_CHILDREN\n",
            "AMT_INCOME_TOTAL\n",
            "AMT_CREDIT\n",
            "AMT_ANNUITY\n",
            "AMT_GOODS_PRICE\n",
            "NAME_TYPE_SUITE\n",
            "NAME_INCOME_TYPE\n",
            "NAME_EDUCATION_TYPE\n",
            "NAME_FAMILY_STATUS\n",
            "NAME_HOUSING_TYPE\n",
            "REGION_POPULATION_RELATIVE\n",
            "DAYS_BIRTH\n",
            "DAYS_EMPLOYED\n",
            "DAYS_REGISTRATION\n",
            "DAYS_ID_PUBLISH\n",
            "FLAG_MOBIL\n",
            "OCCUPATION_TYPE\n",
            "CNT_FAM_MEMBERS\n",
            "REGION_RATING_CLIENT\n",
            "REGION_RATING_CLIENT_W_CITY\n",
            "WEEKDAY_APPR_PROCESS_START\n",
            "HOUR_APPR_PROCESS_START\n",
            "REG_REGION_NOT_LIVE_REGION\n",
            "REG_REGION_NOT_WORK_REGION\n",
            "LIVE_REGION_NOT_WORK_REGION\n",
            "REG_CITY_NOT_LIVE_CITY\n",
            "REG_CITY_NOT_WORK_CITY\n",
            "LIVE_CITY_NOT_WORK_CITY\n",
            "ORGANIZATION_TYPE\n",
            "OBS_30_CNT_SOCIAL_CIRCLE\n",
            "DEF_30_CNT_SOCIAL_CIRCLE\n",
            "OBS_60_CNT_SOCIAL_CIRCLE\n",
            "DEF_60_CNT_SOCIAL_CIRCLE\n",
            "DAYS_LAST_PHONE_CHANGE\n",
            "FLAG_DOCUMENT_3\n",
            "AMT_REQ_CREDIT_BUREAU_HOUR\n",
            "AMT_REQ_CREDIT_BUREAU_DAY\n",
            "AMT_REQ_CREDIT_BUREAU_WEEK\n",
            "AMT_REQ_CREDIT_BUREAU_MON\n",
            "AMT_REQ_CREDIT_BUREAU_QRT\n",
            "AMT_REQ_CREDIT_BUREAU_YEAR\n"
          ]
        },
        {
          "output_type": "execute_result",
          "data": {
            "text/plain": [
              "'AMT_REQ_CREDIT_BUREAU_YEAR'"
            ],
            "application/vnd.google.colaboratory.intrinsic+json": {
              "type": "string"
            }
          },
          "metadata": {},
          "execution_count": 40
        }
      ]
    },
    {
      "cell_type": "code",
      "source": [
        "#After removed the unwanted columns final application dataset\n",
        "application_df.shape"
      ],
      "metadata": {
        "colab": {
          "base_uri": "https://localhost:8080/"
        },
        "id": "46RJ7UWnSTi3",
        "outputId": "214db4a0-d7c5-403b-e452-c6b04b335704"
      },
      "execution_count": 41,
      "outputs": [
        {
          "output_type": "execute_result",
          "data": {
            "text/plain": [
              "(307511, 46)"
            ]
          },
          "metadata": {},
          "execution_count": 41
        }
      ]
    },
    {
      "cell_type": "markdown",
      "source": [
        "###Delete Unnecessary Columns of Previous dataset"
      ],
      "metadata": {
        "id": "Nj_8Kv35fUmo"
      }
    },
    {
      "cell_type": "code",
      "source": [
        "#11 Columns which have more than 40 % null values\n",
        "Unnecessary_previous=null_col_40.index.tolist()\n",
        "Unnecessary_previous"
      ],
      "metadata": {
        "id": "kTiBOCOgfXtL",
        "colab": {
          "base_uri": "https://localhost:8080/"
        },
        "outputId": "68e88367-6647-4657-ff4a-fe1cbfab1708"
      },
      "execution_count": 42,
      "outputs": [
        {
          "output_type": "execute_result",
          "data": {
            "text/plain": [
              "['RATE_INTEREST_PRIVILEGED',\n",
              " 'RATE_INTEREST_PRIMARY',\n",
              " 'AMT_DOWN_PAYMENT',\n",
              " 'RATE_DOWN_PAYMENT',\n",
              " 'NAME_TYPE_SUITE',\n",
              " 'NFLAG_INSURED_ON_APPROVAL',\n",
              " 'DAYS_TERMINATION',\n",
              " 'DAYS_LAST_DUE',\n",
              " 'DAYS_LAST_DUE_1ST_VERSION',\n",
              " 'DAYS_FIRST_DUE',\n",
              " 'DAYS_FIRST_DRAWING']"
            ]
          },
          "metadata": {},
          "execution_count": 42
        }
      ]
    },
    {
      "cell_type": "code",
      "source": [
        "# Listing down columns which are not needed\n",
        "Unwanted_previous = ['WEEKDAY_APPR_PROCESS_START','HOUR_APPR_PROCESS_START',\n",
        "                        'FLAG_LAST_APPL_PER_CONTRACT','NFLAG_LAST_APPL_IN_DAY']"
      ],
      "metadata": {
        "id": "VeDoNyZyYObd"
      },
      "execution_count": 43,
      "outputs": []
    },
    {
      "cell_type": "code",
      "source": [
        "unwanted_previous=Unwanted_previous+Unnecessary_previous\n",
        "len(unwanted_previous)"
      ],
      "metadata": {
        "colab": {
          "base_uri": "https://localhost:8080/"
        },
        "id": "B6uh9TDPYj3S",
        "outputId": "b859a6f4-4ee4-44b3-d43a-f8e93eaaee90"
      },
      "execution_count": 44,
      "outputs": [
        {
          "output_type": "execute_result",
          "data": {
            "text/plain": [
              "15"
            ]
          },
          "metadata": {},
          "execution_count": 44
        }
      ]
    },
    {
      "cell_type": "markdown",
      "source": [
        "**Observation**\n",
        "\n",
        "- In the previous dataset there are total 15 columns can be deleted"
      ],
      "metadata": {
        "id": "2emYx_fkYtSL"
      }
    },
    {
      "cell_type": "code",
      "source": [
        "#Droping the unwanted columns\n",
        "previous_app_df.drop(labels=unwanted_previous,axis=1,inplace=True)\n",
        "\n",
        "\n"
      ],
      "metadata": {
        "id": "be_r48NaY8ZM"
      },
      "execution_count": 45,
      "outputs": []
    },
    {
      "cell_type": "code",
      "source": [
        "#Inspecting the dataframe after removal of unwanted columns\n",
        "previous_app_df.shape"
      ],
      "metadata": {
        "colab": {
          "base_uri": "https://localhost:8080/"
        },
        "id": "7ran3J3wY4_x",
        "outputId": "8bcb7a1c-c629-4df9-9931-d68115e2f461"
      },
      "execution_count": 46,
      "outputs": [
        {
          "output_type": "execute_result",
          "data": {
            "text/plain": [
              "(1670214, 22)"
            ]
          },
          "metadata": {},
          "execution_count": 46
        }
      ]
    },
    {
      "cell_type": "code",
      "source": [
        "previous_app_df.info()"
      ],
      "metadata": {
        "colab": {
          "base_uri": "https://localhost:8080/"
        },
        "id": "abHibyEjaC3U",
        "outputId": "4ccdf758-0047-4676-99d4-cd3649fb7da2"
      },
      "execution_count": 47,
      "outputs": [
        {
          "output_type": "stream",
          "name": "stdout",
          "text": [
            "<class 'pandas.core.frame.DataFrame'>\n",
            "RangeIndex: 1670214 entries, 0 to 1670213\n",
            "Data columns (total 22 columns):\n",
            " #   Column                  Non-Null Count    Dtype  \n",
            "---  ------                  --------------    -----  \n",
            " 0   SK_ID_PREV              1670214 non-null  int64  \n",
            " 1   SK_ID_CURR              1670214 non-null  int64  \n",
            " 2   NAME_CONTRACT_TYPE      1670214 non-null  object \n",
            " 3   AMT_ANNUITY             1297979 non-null  float64\n",
            " 4   AMT_APPLICATION         1670214 non-null  float64\n",
            " 5   AMT_CREDIT              1670213 non-null  float64\n",
            " 6   AMT_GOODS_PRICE         1284699 non-null  float64\n",
            " 7   NAME_CASH_LOAN_PURPOSE  1670214 non-null  object \n",
            " 8   NAME_CONTRACT_STATUS    1670214 non-null  object \n",
            " 9   DAYS_DECISION           1670214 non-null  int64  \n",
            " 10  NAME_PAYMENT_TYPE       1670214 non-null  object \n",
            " 11  CODE_REJECT_REASON      1670214 non-null  object \n",
            " 12  NAME_CLIENT_TYPE        1670214 non-null  object \n",
            " 13  NAME_GOODS_CATEGORY     1670214 non-null  object \n",
            " 14  NAME_PORTFOLIO          1670214 non-null  object \n",
            " 15  NAME_PRODUCT_TYPE       1670214 non-null  object \n",
            " 16  CHANNEL_TYPE            1670214 non-null  object \n",
            " 17  SELLERPLACE_AREA        1670214 non-null  int64  \n",
            " 18  NAME_SELLER_INDUSTRY    1670214 non-null  object \n",
            " 19  CNT_PAYMENT             1297984 non-null  float64\n",
            " 20  NAME_YIELD_GROUP        1670214 non-null  object \n",
            " 21  PRODUCT_COMBINATION     1669868 non-null  object \n",
            "dtypes: float64(5), int64(4), object(13)\n",
            "memory usage: 280.3+ MB\n"
          ]
        }
      ]
    },
    {
      "cell_type": "markdown",
      "source": [
        "#**Standardize Values**\n",
        "\n",
        "\n"
      ],
      "metadata": {
        "id": "_5LqxgVXUSjA"
      }
    },
    {
      "cell_type": "markdown",
      "source": [
        "##**Standardize Values of application dataset**"
      ],
      "metadata": {
        "id": "AUzsYORQG5o5"
      }
    },
    {
      "cell_type": "code",
      "source": [
        "application_df.info()"
      ],
      "metadata": {
        "colab": {
          "base_uri": "https://localhost:8080/"
        },
        "id": "h4n0yNOcVRTS",
        "outputId": "69a1035d-498d-419a-c62c-9ae407bfdefb"
      },
      "execution_count": 48,
      "outputs": [
        {
          "output_type": "stream",
          "name": "stdout",
          "text": [
            "<class 'pandas.core.frame.DataFrame'>\n",
            "RangeIndex: 307511 entries, 0 to 307510\n",
            "Data columns (total 46 columns):\n",
            " #   Column                       Non-Null Count   Dtype  \n",
            "---  ------                       --------------   -----  \n",
            " 0   SK_ID_CURR                   307511 non-null  int64  \n",
            " 1   TARGET                       307511 non-null  int64  \n",
            " 2   NAME_CONTRACT_TYPE           307511 non-null  object \n",
            " 3   CODE_GENDER                  307511 non-null  object \n",
            " 4   FLAG_OWN_REALTY              307511 non-null  object \n",
            " 5   CNT_CHILDREN                 307511 non-null  int64  \n",
            " 6   AMT_INCOME_TOTAL             307511 non-null  float64\n",
            " 7   AMT_CREDIT                   307511 non-null  float64\n",
            " 8   AMT_ANNUITY                  307499 non-null  float64\n",
            " 9   AMT_GOODS_PRICE              307233 non-null  float64\n",
            " 10  NAME_TYPE_SUITE              306219 non-null  object \n",
            " 11  NAME_INCOME_TYPE             307511 non-null  object \n",
            " 12  NAME_EDUCATION_TYPE          307511 non-null  object \n",
            " 13  NAME_FAMILY_STATUS           307511 non-null  object \n",
            " 14  NAME_HOUSING_TYPE            307511 non-null  object \n",
            " 15  REGION_POPULATION_RELATIVE   307511 non-null  float64\n",
            " 16  DAYS_BIRTH                   307511 non-null  int64  \n",
            " 17  DAYS_EMPLOYED                307511 non-null  int64  \n",
            " 18  DAYS_REGISTRATION            307511 non-null  float64\n",
            " 19  DAYS_ID_PUBLISH              307511 non-null  int64  \n",
            " 20  FLAG_MOBIL                   307511 non-null  int64  \n",
            " 21  OCCUPATION_TYPE              211120 non-null  object \n",
            " 22  CNT_FAM_MEMBERS              307509 non-null  float64\n",
            " 23  REGION_RATING_CLIENT         307511 non-null  int64  \n",
            " 24  REGION_RATING_CLIENT_W_CITY  307511 non-null  int64  \n",
            " 25  WEEKDAY_APPR_PROCESS_START   307511 non-null  object \n",
            " 26  HOUR_APPR_PROCESS_START      307511 non-null  int64  \n",
            " 27  REG_REGION_NOT_LIVE_REGION   307511 non-null  int64  \n",
            " 28  REG_REGION_NOT_WORK_REGION   307511 non-null  int64  \n",
            " 29  LIVE_REGION_NOT_WORK_REGION  307511 non-null  int64  \n",
            " 30  REG_CITY_NOT_LIVE_CITY       307511 non-null  int64  \n",
            " 31  REG_CITY_NOT_WORK_CITY       307511 non-null  int64  \n",
            " 32  LIVE_CITY_NOT_WORK_CITY      307511 non-null  int64  \n",
            " 33  ORGANIZATION_TYPE            307511 non-null  object \n",
            " 34  OBS_30_CNT_SOCIAL_CIRCLE     306490 non-null  float64\n",
            " 35  DEF_30_CNT_SOCIAL_CIRCLE     306490 non-null  float64\n",
            " 36  OBS_60_CNT_SOCIAL_CIRCLE     306490 non-null  float64\n",
            " 37  DEF_60_CNT_SOCIAL_CIRCLE     306490 non-null  float64\n",
            " 38  DAYS_LAST_PHONE_CHANGE       307510 non-null  float64\n",
            " 39  FLAG_DOCUMENT_3              307511 non-null  int64  \n",
            " 40  AMT_REQ_CREDIT_BUREAU_HOUR   265992 non-null  float64\n",
            " 41  AMT_REQ_CREDIT_BUREAU_DAY    265992 non-null  float64\n",
            " 42  AMT_REQ_CREDIT_BUREAU_WEEK   265992 non-null  float64\n",
            " 43  AMT_REQ_CREDIT_BUREAU_MON    265992 non-null  float64\n",
            " 44  AMT_REQ_CREDIT_BUREAU_QRT    265992 non-null  float64\n",
            " 45  AMT_REQ_CREDIT_BUREAU_YEAR   265992 non-null  float64\n",
            "dtypes: float64(18), int64(17), object(11)\n",
            "memory usage: 107.9+ MB\n"
          ]
        }
      ]
    },
    {
      "cell_type": "code",
      "source": [
        "#To see all the columns\n",
        "pd.set_option('display.max_columns', None)\n",
        "application_df.head()"
      ],
      "metadata": {
        "colab": {
          "base_uri": "https://localhost:8080/",
          "height": 339
        },
        "id": "PsSoHlMAWXFn",
        "outputId": "8b4a9a36-57bb-49c0-84c1-aa7c6f2ab571"
      },
      "execution_count": 49,
      "outputs": [
        {
          "output_type": "execute_result",
          "data": {
            "text/plain": [
              "   SK_ID_CURR  TARGET NAME_CONTRACT_TYPE CODE_GENDER FLAG_OWN_REALTY  \\\n",
              "0      100002       1         Cash loans           M               Y   \n",
              "1      100003       0         Cash loans           F               N   \n",
              "2      100004       0    Revolving loans           M               Y   \n",
              "3      100006       0         Cash loans           F               Y   \n",
              "4      100007       0         Cash loans           M               Y   \n",
              "\n",
              "   CNT_CHILDREN  AMT_INCOME_TOTAL  AMT_CREDIT  AMT_ANNUITY  AMT_GOODS_PRICE  \\\n",
              "0             0          202500.0    406597.5      24700.5         351000.0   \n",
              "1             0          270000.0   1293502.5      35698.5        1129500.0   \n",
              "2             0           67500.0    135000.0       6750.0         135000.0   \n",
              "3             0          135000.0    312682.5      29686.5         297000.0   \n",
              "4             0          121500.0    513000.0      21865.5         513000.0   \n",
              "\n",
              "  NAME_TYPE_SUITE NAME_INCOME_TYPE            NAME_EDUCATION_TYPE  \\\n",
              "0   Unaccompanied          Working  Secondary / secondary special   \n",
              "1          Family    State servant               Higher education   \n",
              "2   Unaccompanied          Working  Secondary / secondary special   \n",
              "3   Unaccompanied          Working  Secondary / secondary special   \n",
              "4   Unaccompanied          Working  Secondary / secondary special   \n",
              "\n",
              "     NAME_FAMILY_STATUS  NAME_HOUSING_TYPE  REGION_POPULATION_RELATIVE  \\\n",
              "0  Single / not married  House / apartment                    0.018801   \n",
              "1               Married  House / apartment                    0.003541   \n",
              "2  Single / not married  House / apartment                    0.010032   \n",
              "3        Civil marriage  House / apartment                    0.008019   \n",
              "4  Single / not married  House / apartment                    0.028663   \n",
              "\n",
              "   DAYS_BIRTH  DAYS_EMPLOYED  DAYS_REGISTRATION  DAYS_ID_PUBLISH  FLAG_MOBIL  \\\n",
              "0       -9461           -637            -3648.0            -2120           1   \n",
              "1      -16765          -1188            -1186.0             -291           1   \n",
              "2      -19046           -225            -4260.0            -2531           1   \n",
              "3      -19005          -3039            -9833.0            -2437           1   \n",
              "4      -19932          -3038            -4311.0            -3458           1   \n",
              "\n",
              "  OCCUPATION_TYPE  CNT_FAM_MEMBERS  REGION_RATING_CLIENT  \\\n",
              "0        Laborers              1.0                     2   \n",
              "1      Core staff              2.0                     1   \n",
              "2        Laborers              1.0                     2   \n",
              "3        Laborers              2.0                     2   \n",
              "4      Core staff              1.0                     2   \n",
              "\n",
              "   REGION_RATING_CLIENT_W_CITY WEEKDAY_APPR_PROCESS_START  \\\n",
              "0                            2                  WEDNESDAY   \n",
              "1                            1                     MONDAY   \n",
              "2                            2                     MONDAY   \n",
              "3                            2                  WEDNESDAY   \n",
              "4                            2                   THURSDAY   \n",
              "\n",
              "   HOUR_APPR_PROCESS_START  REG_REGION_NOT_LIVE_REGION  \\\n",
              "0                       10                           0   \n",
              "1                       11                           0   \n",
              "2                        9                           0   \n",
              "3                       17                           0   \n",
              "4                       11                           0   \n",
              "\n",
              "   REG_REGION_NOT_WORK_REGION  LIVE_REGION_NOT_WORK_REGION  \\\n",
              "0                           0                            0   \n",
              "1                           0                            0   \n",
              "2                           0                            0   \n",
              "3                           0                            0   \n",
              "4                           0                            0   \n",
              "\n",
              "   REG_CITY_NOT_LIVE_CITY  REG_CITY_NOT_WORK_CITY  LIVE_CITY_NOT_WORK_CITY  \\\n",
              "0                       0                       0                        0   \n",
              "1                       0                       0                        0   \n",
              "2                       0                       0                        0   \n",
              "3                       0                       0                        0   \n",
              "4                       0                       1                        1   \n",
              "\n",
              "        ORGANIZATION_TYPE  OBS_30_CNT_SOCIAL_CIRCLE  DEF_30_CNT_SOCIAL_CIRCLE  \\\n",
              "0  Business Entity Type 3                       2.0                       2.0   \n",
              "1                  School                       1.0                       0.0   \n",
              "2              Government                       0.0                       0.0   \n",
              "3  Business Entity Type 3                       2.0                       0.0   \n",
              "4                Religion                       0.0                       0.0   \n",
              "\n",
              "   OBS_60_CNT_SOCIAL_CIRCLE  DEF_60_CNT_SOCIAL_CIRCLE  DAYS_LAST_PHONE_CHANGE  \\\n",
              "0                       2.0                       2.0                 -1134.0   \n",
              "1                       1.0                       0.0                  -828.0   \n",
              "2                       0.0                       0.0                  -815.0   \n",
              "3                       2.0                       0.0                  -617.0   \n",
              "4                       0.0                       0.0                 -1106.0   \n",
              "\n",
              "   FLAG_DOCUMENT_3  AMT_REQ_CREDIT_BUREAU_HOUR  AMT_REQ_CREDIT_BUREAU_DAY  \\\n",
              "0                1                         0.0                        0.0   \n",
              "1                1                         0.0                        0.0   \n",
              "2                0                         0.0                        0.0   \n",
              "3                1                         NaN                        NaN   \n",
              "4                0                         0.0                        0.0   \n",
              "\n",
              "   AMT_REQ_CREDIT_BUREAU_WEEK  AMT_REQ_CREDIT_BUREAU_MON  \\\n",
              "0                         0.0                        0.0   \n",
              "1                         0.0                        0.0   \n",
              "2                         0.0                        0.0   \n",
              "3                         NaN                        NaN   \n",
              "4                         0.0                        0.0   \n",
              "\n",
              "   AMT_REQ_CREDIT_BUREAU_QRT  AMT_REQ_CREDIT_BUREAU_YEAR  \n",
              "0                        0.0                         1.0  \n",
              "1                        0.0                         0.0  \n",
              "2                        0.0                         0.0  \n",
              "3                        NaN                         NaN  \n",
              "4                        0.0                         0.0  "
            ],
            "text/html": [
              "\n",
              "  <div id=\"df-471f0fc9-12d2-4bfe-8bbd-28f6542266ed\">\n",
              "    <div class=\"colab-df-container\">\n",
              "      <div>\n",
              "<style scoped>\n",
              "    .dataframe tbody tr th:only-of-type {\n",
              "        vertical-align: middle;\n",
              "    }\n",
              "\n",
              "    .dataframe tbody tr th {\n",
              "        vertical-align: top;\n",
              "    }\n",
              "\n",
              "    .dataframe thead th {\n",
              "        text-align: right;\n",
              "    }\n",
              "</style>\n",
              "<table border=\"1\" class=\"dataframe\">\n",
              "  <thead>\n",
              "    <tr style=\"text-align: right;\">\n",
              "      <th></th>\n",
              "      <th>SK_ID_CURR</th>\n",
              "      <th>TARGET</th>\n",
              "      <th>NAME_CONTRACT_TYPE</th>\n",
              "      <th>CODE_GENDER</th>\n",
              "      <th>FLAG_OWN_REALTY</th>\n",
              "      <th>CNT_CHILDREN</th>\n",
              "      <th>AMT_INCOME_TOTAL</th>\n",
              "      <th>AMT_CREDIT</th>\n",
              "      <th>AMT_ANNUITY</th>\n",
              "      <th>AMT_GOODS_PRICE</th>\n",
              "      <th>NAME_TYPE_SUITE</th>\n",
              "      <th>NAME_INCOME_TYPE</th>\n",
              "      <th>NAME_EDUCATION_TYPE</th>\n",
              "      <th>NAME_FAMILY_STATUS</th>\n",
              "      <th>NAME_HOUSING_TYPE</th>\n",
              "      <th>REGION_POPULATION_RELATIVE</th>\n",
              "      <th>DAYS_BIRTH</th>\n",
              "      <th>DAYS_EMPLOYED</th>\n",
              "      <th>DAYS_REGISTRATION</th>\n",
              "      <th>DAYS_ID_PUBLISH</th>\n",
              "      <th>FLAG_MOBIL</th>\n",
              "      <th>OCCUPATION_TYPE</th>\n",
              "      <th>CNT_FAM_MEMBERS</th>\n",
              "      <th>REGION_RATING_CLIENT</th>\n",
              "      <th>REGION_RATING_CLIENT_W_CITY</th>\n",
              "      <th>WEEKDAY_APPR_PROCESS_START</th>\n",
              "      <th>HOUR_APPR_PROCESS_START</th>\n",
              "      <th>REG_REGION_NOT_LIVE_REGION</th>\n",
              "      <th>REG_REGION_NOT_WORK_REGION</th>\n",
              "      <th>LIVE_REGION_NOT_WORK_REGION</th>\n",
              "      <th>REG_CITY_NOT_LIVE_CITY</th>\n",
              "      <th>REG_CITY_NOT_WORK_CITY</th>\n",
              "      <th>LIVE_CITY_NOT_WORK_CITY</th>\n",
              "      <th>ORGANIZATION_TYPE</th>\n",
              "      <th>OBS_30_CNT_SOCIAL_CIRCLE</th>\n",
              "      <th>DEF_30_CNT_SOCIAL_CIRCLE</th>\n",
              "      <th>OBS_60_CNT_SOCIAL_CIRCLE</th>\n",
              "      <th>DEF_60_CNT_SOCIAL_CIRCLE</th>\n",
              "      <th>DAYS_LAST_PHONE_CHANGE</th>\n",
              "      <th>FLAG_DOCUMENT_3</th>\n",
              "      <th>AMT_REQ_CREDIT_BUREAU_HOUR</th>\n",
              "      <th>AMT_REQ_CREDIT_BUREAU_DAY</th>\n",
              "      <th>AMT_REQ_CREDIT_BUREAU_WEEK</th>\n",
              "      <th>AMT_REQ_CREDIT_BUREAU_MON</th>\n",
              "      <th>AMT_REQ_CREDIT_BUREAU_QRT</th>\n",
              "      <th>AMT_REQ_CREDIT_BUREAU_YEAR</th>\n",
              "    </tr>\n",
              "  </thead>\n",
              "  <tbody>\n",
              "    <tr>\n",
              "      <th>0</th>\n",
              "      <td>100002</td>\n",
              "      <td>1</td>\n",
              "      <td>Cash loans</td>\n",
              "      <td>M</td>\n",
              "      <td>Y</td>\n",
              "      <td>0</td>\n",
              "      <td>202500.0</td>\n",
              "      <td>406597.5</td>\n",
              "      <td>24700.5</td>\n",
              "      <td>351000.0</td>\n",
              "      <td>Unaccompanied</td>\n",
              "      <td>Working</td>\n",
              "      <td>Secondary / secondary special</td>\n",
              "      <td>Single / not married</td>\n",
              "      <td>House / apartment</td>\n",
              "      <td>0.018801</td>\n",
              "      <td>-9461</td>\n",
              "      <td>-637</td>\n",
              "      <td>-3648.0</td>\n",
              "      <td>-2120</td>\n",
              "      <td>1</td>\n",
              "      <td>Laborers</td>\n",
              "      <td>1.0</td>\n",
              "      <td>2</td>\n",
              "      <td>2</td>\n",
              "      <td>WEDNESDAY</td>\n",
              "      <td>10</td>\n",
              "      <td>0</td>\n",
              "      <td>0</td>\n",
              "      <td>0</td>\n",
              "      <td>0</td>\n",
              "      <td>0</td>\n",
              "      <td>0</td>\n",
              "      <td>Business Entity Type 3</td>\n",
              "      <td>2.0</td>\n",
              "      <td>2.0</td>\n",
              "      <td>2.0</td>\n",
              "      <td>2.0</td>\n",
              "      <td>-1134.0</td>\n",
              "      <td>1</td>\n",
              "      <td>0.0</td>\n",
              "      <td>0.0</td>\n",
              "      <td>0.0</td>\n",
              "      <td>0.0</td>\n",
              "      <td>0.0</td>\n",
              "      <td>1.0</td>\n",
              "    </tr>\n",
              "    <tr>\n",
              "      <th>1</th>\n",
              "      <td>100003</td>\n",
              "      <td>0</td>\n",
              "      <td>Cash loans</td>\n",
              "      <td>F</td>\n",
              "      <td>N</td>\n",
              "      <td>0</td>\n",
              "      <td>270000.0</td>\n",
              "      <td>1293502.5</td>\n",
              "      <td>35698.5</td>\n",
              "      <td>1129500.0</td>\n",
              "      <td>Family</td>\n",
              "      <td>State servant</td>\n",
              "      <td>Higher education</td>\n",
              "      <td>Married</td>\n",
              "      <td>House / apartment</td>\n",
              "      <td>0.003541</td>\n",
              "      <td>-16765</td>\n",
              "      <td>-1188</td>\n",
              "      <td>-1186.0</td>\n",
              "      <td>-291</td>\n",
              "      <td>1</td>\n",
              "      <td>Core staff</td>\n",
              "      <td>2.0</td>\n",
              "      <td>1</td>\n",
              "      <td>1</td>\n",
              "      <td>MONDAY</td>\n",
              "      <td>11</td>\n",
              "      <td>0</td>\n",
              "      <td>0</td>\n",
              "      <td>0</td>\n",
              "      <td>0</td>\n",
              "      <td>0</td>\n",
              "      <td>0</td>\n",
              "      <td>School</td>\n",
              "      <td>1.0</td>\n",
              "      <td>0.0</td>\n",
              "      <td>1.0</td>\n",
              "      <td>0.0</td>\n",
              "      <td>-828.0</td>\n",
              "      <td>1</td>\n",
              "      <td>0.0</td>\n",
              "      <td>0.0</td>\n",
              "      <td>0.0</td>\n",
              "      <td>0.0</td>\n",
              "      <td>0.0</td>\n",
              "      <td>0.0</td>\n",
              "    </tr>\n",
              "    <tr>\n",
              "      <th>2</th>\n",
              "      <td>100004</td>\n",
              "      <td>0</td>\n",
              "      <td>Revolving loans</td>\n",
              "      <td>M</td>\n",
              "      <td>Y</td>\n",
              "      <td>0</td>\n",
              "      <td>67500.0</td>\n",
              "      <td>135000.0</td>\n",
              "      <td>6750.0</td>\n",
              "      <td>135000.0</td>\n",
              "      <td>Unaccompanied</td>\n",
              "      <td>Working</td>\n",
              "      <td>Secondary / secondary special</td>\n",
              "      <td>Single / not married</td>\n",
              "      <td>House / apartment</td>\n",
              "      <td>0.010032</td>\n",
              "      <td>-19046</td>\n",
              "      <td>-225</td>\n",
              "      <td>-4260.0</td>\n",
              "      <td>-2531</td>\n",
              "      <td>1</td>\n",
              "      <td>Laborers</td>\n",
              "      <td>1.0</td>\n",
              "      <td>2</td>\n",
              "      <td>2</td>\n",
              "      <td>MONDAY</td>\n",
              "      <td>9</td>\n",
              "      <td>0</td>\n",
              "      <td>0</td>\n",
              "      <td>0</td>\n",
              "      <td>0</td>\n",
              "      <td>0</td>\n",
              "      <td>0</td>\n",
              "      <td>Government</td>\n",
              "      <td>0.0</td>\n",
              "      <td>0.0</td>\n",
              "      <td>0.0</td>\n",
              "      <td>0.0</td>\n",
              "      <td>-815.0</td>\n",
              "      <td>0</td>\n",
              "      <td>0.0</td>\n",
              "      <td>0.0</td>\n",
              "      <td>0.0</td>\n",
              "      <td>0.0</td>\n",
              "      <td>0.0</td>\n",
              "      <td>0.0</td>\n",
              "    </tr>\n",
              "    <tr>\n",
              "      <th>3</th>\n",
              "      <td>100006</td>\n",
              "      <td>0</td>\n",
              "      <td>Cash loans</td>\n",
              "      <td>F</td>\n",
              "      <td>Y</td>\n",
              "      <td>0</td>\n",
              "      <td>135000.0</td>\n",
              "      <td>312682.5</td>\n",
              "      <td>29686.5</td>\n",
              "      <td>297000.0</td>\n",
              "      <td>Unaccompanied</td>\n",
              "      <td>Working</td>\n",
              "      <td>Secondary / secondary special</td>\n",
              "      <td>Civil marriage</td>\n",
              "      <td>House / apartment</td>\n",
              "      <td>0.008019</td>\n",
              "      <td>-19005</td>\n",
              "      <td>-3039</td>\n",
              "      <td>-9833.0</td>\n",
              "      <td>-2437</td>\n",
              "      <td>1</td>\n",
              "      <td>Laborers</td>\n",
              "      <td>2.0</td>\n",
              "      <td>2</td>\n",
              "      <td>2</td>\n",
              "      <td>WEDNESDAY</td>\n",
              "      <td>17</td>\n",
              "      <td>0</td>\n",
              "      <td>0</td>\n",
              "      <td>0</td>\n",
              "      <td>0</td>\n",
              "      <td>0</td>\n",
              "      <td>0</td>\n",
              "      <td>Business Entity Type 3</td>\n",
              "      <td>2.0</td>\n",
              "      <td>0.0</td>\n",
              "      <td>2.0</td>\n",
              "      <td>0.0</td>\n",
              "      <td>-617.0</td>\n",
              "      <td>1</td>\n",
              "      <td>NaN</td>\n",
              "      <td>NaN</td>\n",
              "      <td>NaN</td>\n",
              "      <td>NaN</td>\n",
              "      <td>NaN</td>\n",
              "      <td>NaN</td>\n",
              "    </tr>\n",
              "    <tr>\n",
              "      <th>4</th>\n",
              "      <td>100007</td>\n",
              "      <td>0</td>\n",
              "      <td>Cash loans</td>\n",
              "      <td>M</td>\n",
              "      <td>Y</td>\n",
              "      <td>0</td>\n",
              "      <td>121500.0</td>\n",
              "      <td>513000.0</td>\n",
              "      <td>21865.5</td>\n",
              "      <td>513000.0</td>\n",
              "      <td>Unaccompanied</td>\n",
              "      <td>Working</td>\n",
              "      <td>Secondary / secondary special</td>\n",
              "      <td>Single / not married</td>\n",
              "      <td>House / apartment</td>\n",
              "      <td>0.028663</td>\n",
              "      <td>-19932</td>\n",
              "      <td>-3038</td>\n",
              "      <td>-4311.0</td>\n",
              "      <td>-3458</td>\n",
              "      <td>1</td>\n",
              "      <td>Core staff</td>\n",
              "      <td>1.0</td>\n",
              "      <td>2</td>\n",
              "      <td>2</td>\n",
              "      <td>THURSDAY</td>\n",
              "      <td>11</td>\n",
              "      <td>0</td>\n",
              "      <td>0</td>\n",
              "      <td>0</td>\n",
              "      <td>0</td>\n",
              "      <td>1</td>\n",
              "      <td>1</td>\n",
              "      <td>Religion</td>\n",
              "      <td>0.0</td>\n",
              "      <td>0.0</td>\n",
              "      <td>0.0</td>\n",
              "      <td>0.0</td>\n",
              "      <td>-1106.0</td>\n",
              "      <td>0</td>\n",
              "      <td>0.0</td>\n",
              "      <td>0.0</td>\n",
              "      <td>0.0</td>\n",
              "      <td>0.0</td>\n",
              "      <td>0.0</td>\n",
              "      <td>0.0</td>\n",
              "    </tr>\n",
              "  </tbody>\n",
              "</table>\n",
              "</div>\n",
              "      <button class=\"colab-df-convert\" onclick=\"convertToInteractive('df-471f0fc9-12d2-4bfe-8bbd-28f6542266ed')\"\n",
              "              title=\"Convert this dataframe to an interactive table.\"\n",
              "              style=\"display:none;\">\n",
              "        \n",
              "  <svg xmlns=\"http://www.w3.org/2000/svg\" height=\"24px\"viewBox=\"0 0 24 24\"\n",
              "       width=\"24px\">\n",
              "    <path d=\"M0 0h24v24H0V0z\" fill=\"none\"/>\n",
              "    <path d=\"M18.56 5.44l.94 2.06.94-2.06 2.06-.94-2.06-.94-.94-2.06-.94 2.06-2.06.94zm-11 1L8.5 8.5l.94-2.06 2.06-.94-2.06-.94L8.5 2.5l-.94 2.06-2.06.94zm10 10l.94 2.06.94-2.06 2.06-.94-2.06-.94-.94-2.06-.94 2.06-2.06.94z\"/><path d=\"M17.41 7.96l-1.37-1.37c-.4-.4-.92-.59-1.43-.59-.52 0-1.04.2-1.43.59L10.3 9.45l-7.72 7.72c-.78.78-.78 2.05 0 2.83L4 21.41c.39.39.9.59 1.41.59.51 0 1.02-.2 1.41-.59l7.78-7.78 2.81-2.81c.8-.78.8-2.07 0-2.86zM5.41 20L4 18.59l7.72-7.72 1.47 1.35L5.41 20z\"/>\n",
              "  </svg>\n",
              "      </button>\n",
              "      \n",
              "  <style>\n",
              "    .colab-df-container {\n",
              "      display:flex;\n",
              "      flex-wrap:wrap;\n",
              "      gap: 12px;\n",
              "    }\n",
              "\n",
              "    .colab-df-convert {\n",
              "      background-color: #E8F0FE;\n",
              "      border: none;\n",
              "      border-radius: 50%;\n",
              "      cursor: pointer;\n",
              "      display: none;\n",
              "      fill: #1967D2;\n",
              "      height: 32px;\n",
              "      padding: 0 0 0 0;\n",
              "      width: 32px;\n",
              "    }\n",
              "\n",
              "    .colab-df-convert:hover {\n",
              "      background-color: #E2EBFA;\n",
              "      box-shadow: 0px 1px 2px rgba(60, 64, 67, 0.3), 0px 1px 3px 1px rgba(60, 64, 67, 0.15);\n",
              "      fill: #174EA6;\n",
              "    }\n",
              "\n",
              "    [theme=dark] .colab-df-convert {\n",
              "      background-color: #3B4455;\n",
              "      fill: #D2E3FC;\n",
              "    }\n",
              "\n",
              "    [theme=dark] .colab-df-convert:hover {\n",
              "      background-color: #434B5C;\n",
              "      box-shadow: 0px 1px 3px 1px rgba(0, 0, 0, 0.15);\n",
              "      filter: drop-shadow(0px 1px 2px rgba(0, 0, 0, 0.3));\n",
              "      fill: #FFFFFF;\n",
              "    }\n",
              "  </style>\n",
              "\n",
              "      <script>\n",
              "        const buttonEl =\n",
              "          document.querySelector('#df-471f0fc9-12d2-4bfe-8bbd-28f6542266ed button.colab-df-convert');\n",
              "        buttonEl.style.display =\n",
              "          google.colab.kernel.accessAllowed ? 'block' : 'none';\n",
              "\n",
              "        async function convertToInteractive(key) {\n",
              "          const element = document.querySelector('#df-471f0fc9-12d2-4bfe-8bbd-28f6542266ed');\n",
              "          const dataTable =\n",
              "            await google.colab.kernel.invokeFunction('convertToInteractive',\n",
              "                                                     [key], {});\n",
              "          if (!dataTable) return;\n",
              "\n",
              "          const docLinkHtml = 'Like what you see? Visit the ' +\n",
              "            '<a target=\"_blank\" href=https://colab.research.google.com/notebooks/data_table.ipynb>data table notebook</a>'\n",
              "            + ' to learn more about interactive tables.';\n",
              "          element.innerHTML = '';\n",
              "          dataTable['output_type'] = 'display_data';\n",
              "          await google.colab.output.renderOutput(dataTable, element);\n",
              "          const docLink = document.createElement('div');\n",
              "          docLink.innerHTML = docLinkHtml;\n",
              "          element.appendChild(docLink);\n",
              "        }\n",
              "      </script>\n",
              "    </div>\n",
              "  </div>\n",
              "  "
            ]
          },
          "metadata": {},
          "execution_count": 49
        }
      ]
    },
    {
      "cell_type": "markdown",
      "source": [
        "**Observation**\n",
        "\n",
        "In this application dataset there are some colums contains negative values.This columns  `DAYS_BIRTH`,`DAYS_EMPLOYED`,`DAYS_REGISTRATION`,`DAYS_ID_PUBLISH` are contain -ve values do we need to convert it into +ve values"
      ],
      "metadata": {
        "id": "0-LWfposWlHx"
      }
    },
    {
      "cell_type": "markdown",
      "source": [
        "**1.Converting negative values into postive values**"
      ],
      "metadata": {
        "id": "qxqX7CYRccWT"
      }
    },
    {
      "cell_type": "code",
      "source": [
        "#Converting Negative days into Positive Days\n",
        "\n",
        "data_neg_columns=['DAYS_BIRTH','DAYS_EMPLOYED','DAYS_REGISTRATION','DAYS_ID_PUBLISH']\n",
        "\n",
        "for col in data_neg_columns:\n",
        "  application_df[col]=abs(application_df[col])"
      ],
      "metadata": {
        "id": "kFRknMKZXvhU"
      },
      "execution_count": 50,
      "outputs": []
    },
    {
      "cell_type": "code",
      "source": [
        "application_df[['DAYS_BIRTH','DAYS_EMPLOYED','DAYS_REGISTRATION','DAYS_ID_PUBLISH']]\n"
      ],
      "metadata": {
        "colab": {
          "base_uri": "https://localhost:8080/",
          "height": 423
        },
        "id": "QDLktNFlYBPg",
        "outputId": "ed832592-4043-4b9d-de07-bd0113618e80"
      },
      "execution_count": 51,
      "outputs": [
        {
          "output_type": "execute_result",
          "data": {
            "text/plain": [
              "        DAYS_BIRTH  DAYS_EMPLOYED  DAYS_REGISTRATION  DAYS_ID_PUBLISH\n",
              "0             9461            637             3648.0             2120\n",
              "1            16765           1188             1186.0              291\n",
              "2            19046            225             4260.0             2531\n",
              "3            19005           3039             9833.0             2437\n",
              "4            19932           3038             4311.0             3458\n",
              "...            ...            ...                ...              ...\n",
              "307506        9327            236             8456.0             1982\n",
              "307507       20775         365243             4388.0             4090\n",
              "307508       14966           7921             6737.0             5150\n",
              "307509       11961           4786             2562.0              931\n",
              "307510       16856           1262             5128.0              410\n",
              "\n",
              "[307511 rows x 4 columns]"
            ],
            "text/html": [
              "\n",
              "  <div id=\"df-7276a5a0-c41d-4c63-9a38-fd4f1223e495\">\n",
              "    <div class=\"colab-df-container\">\n",
              "      <div>\n",
              "<style scoped>\n",
              "    .dataframe tbody tr th:only-of-type {\n",
              "        vertical-align: middle;\n",
              "    }\n",
              "\n",
              "    .dataframe tbody tr th {\n",
              "        vertical-align: top;\n",
              "    }\n",
              "\n",
              "    .dataframe thead th {\n",
              "        text-align: right;\n",
              "    }\n",
              "</style>\n",
              "<table border=\"1\" class=\"dataframe\">\n",
              "  <thead>\n",
              "    <tr style=\"text-align: right;\">\n",
              "      <th></th>\n",
              "      <th>DAYS_BIRTH</th>\n",
              "      <th>DAYS_EMPLOYED</th>\n",
              "      <th>DAYS_REGISTRATION</th>\n",
              "      <th>DAYS_ID_PUBLISH</th>\n",
              "    </tr>\n",
              "  </thead>\n",
              "  <tbody>\n",
              "    <tr>\n",
              "      <th>0</th>\n",
              "      <td>9461</td>\n",
              "      <td>637</td>\n",
              "      <td>3648.0</td>\n",
              "      <td>2120</td>\n",
              "    </tr>\n",
              "    <tr>\n",
              "      <th>1</th>\n",
              "      <td>16765</td>\n",
              "      <td>1188</td>\n",
              "      <td>1186.0</td>\n",
              "      <td>291</td>\n",
              "    </tr>\n",
              "    <tr>\n",
              "      <th>2</th>\n",
              "      <td>19046</td>\n",
              "      <td>225</td>\n",
              "      <td>4260.0</td>\n",
              "      <td>2531</td>\n",
              "    </tr>\n",
              "    <tr>\n",
              "      <th>3</th>\n",
              "      <td>19005</td>\n",
              "      <td>3039</td>\n",
              "      <td>9833.0</td>\n",
              "      <td>2437</td>\n",
              "    </tr>\n",
              "    <tr>\n",
              "      <th>4</th>\n",
              "      <td>19932</td>\n",
              "      <td>3038</td>\n",
              "      <td>4311.0</td>\n",
              "      <td>3458</td>\n",
              "    </tr>\n",
              "    <tr>\n",
              "      <th>...</th>\n",
              "      <td>...</td>\n",
              "      <td>...</td>\n",
              "      <td>...</td>\n",
              "      <td>...</td>\n",
              "    </tr>\n",
              "    <tr>\n",
              "      <th>307506</th>\n",
              "      <td>9327</td>\n",
              "      <td>236</td>\n",
              "      <td>8456.0</td>\n",
              "      <td>1982</td>\n",
              "    </tr>\n",
              "    <tr>\n",
              "      <th>307507</th>\n",
              "      <td>20775</td>\n",
              "      <td>365243</td>\n",
              "      <td>4388.0</td>\n",
              "      <td>4090</td>\n",
              "    </tr>\n",
              "    <tr>\n",
              "      <th>307508</th>\n",
              "      <td>14966</td>\n",
              "      <td>7921</td>\n",
              "      <td>6737.0</td>\n",
              "      <td>5150</td>\n",
              "    </tr>\n",
              "    <tr>\n",
              "      <th>307509</th>\n",
              "      <td>11961</td>\n",
              "      <td>4786</td>\n",
              "      <td>2562.0</td>\n",
              "      <td>931</td>\n",
              "    </tr>\n",
              "    <tr>\n",
              "      <th>307510</th>\n",
              "      <td>16856</td>\n",
              "      <td>1262</td>\n",
              "      <td>5128.0</td>\n",
              "      <td>410</td>\n",
              "    </tr>\n",
              "  </tbody>\n",
              "</table>\n",
              "<p>307511 rows × 4 columns</p>\n",
              "</div>\n",
              "      <button class=\"colab-df-convert\" onclick=\"convertToInteractive('df-7276a5a0-c41d-4c63-9a38-fd4f1223e495')\"\n",
              "              title=\"Convert this dataframe to an interactive table.\"\n",
              "              style=\"display:none;\">\n",
              "        \n",
              "  <svg xmlns=\"http://www.w3.org/2000/svg\" height=\"24px\"viewBox=\"0 0 24 24\"\n",
              "       width=\"24px\">\n",
              "    <path d=\"M0 0h24v24H0V0z\" fill=\"none\"/>\n",
              "    <path d=\"M18.56 5.44l.94 2.06.94-2.06 2.06-.94-2.06-.94-.94-2.06-.94 2.06-2.06.94zm-11 1L8.5 8.5l.94-2.06 2.06-.94-2.06-.94L8.5 2.5l-.94 2.06-2.06.94zm10 10l.94 2.06.94-2.06 2.06-.94-2.06-.94-.94-2.06-.94 2.06-2.06.94z\"/><path d=\"M17.41 7.96l-1.37-1.37c-.4-.4-.92-.59-1.43-.59-.52 0-1.04.2-1.43.59L10.3 9.45l-7.72 7.72c-.78.78-.78 2.05 0 2.83L4 21.41c.39.39.9.59 1.41.59.51 0 1.02-.2 1.41-.59l7.78-7.78 2.81-2.81c.8-.78.8-2.07 0-2.86zM5.41 20L4 18.59l7.72-7.72 1.47 1.35L5.41 20z\"/>\n",
              "  </svg>\n",
              "      </button>\n",
              "      \n",
              "  <style>\n",
              "    .colab-df-container {\n",
              "      display:flex;\n",
              "      flex-wrap:wrap;\n",
              "      gap: 12px;\n",
              "    }\n",
              "\n",
              "    .colab-df-convert {\n",
              "      background-color: #E8F0FE;\n",
              "      border: none;\n",
              "      border-radius: 50%;\n",
              "      cursor: pointer;\n",
              "      display: none;\n",
              "      fill: #1967D2;\n",
              "      height: 32px;\n",
              "      padding: 0 0 0 0;\n",
              "      width: 32px;\n",
              "    }\n",
              "\n",
              "    .colab-df-convert:hover {\n",
              "      background-color: #E2EBFA;\n",
              "      box-shadow: 0px 1px 2px rgba(60, 64, 67, 0.3), 0px 1px 3px 1px rgba(60, 64, 67, 0.15);\n",
              "      fill: #174EA6;\n",
              "    }\n",
              "\n",
              "    [theme=dark] .colab-df-convert {\n",
              "      background-color: #3B4455;\n",
              "      fill: #D2E3FC;\n",
              "    }\n",
              "\n",
              "    [theme=dark] .colab-df-convert:hover {\n",
              "      background-color: #434B5C;\n",
              "      box-shadow: 0px 1px 3px 1px rgba(0, 0, 0, 0.15);\n",
              "      filter: drop-shadow(0px 1px 2px rgba(0, 0, 0, 0.3));\n",
              "      fill: #FFFFFF;\n",
              "    }\n",
              "  </style>\n",
              "\n",
              "      <script>\n",
              "        const buttonEl =\n",
              "          document.querySelector('#df-7276a5a0-c41d-4c63-9a38-fd4f1223e495 button.colab-df-convert');\n",
              "        buttonEl.style.display =\n",
              "          google.colab.kernel.accessAllowed ? 'block' : 'none';\n",
              "\n",
              "        async function convertToInteractive(key) {\n",
              "          const element = document.querySelector('#df-7276a5a0-c41d-4c63-9a38-fd4f1223e495');\n",
              "          const dataTable =\n",
              "            await google.colab.kernel.invokeFunction('convertToInteractive',\n",
              "                                                     [key], {});\n",
              "          if (!dataTable) return;\n",
              "\n",
              "          const docLinkHtml = 'Like what you see? Visit the ' +\n",
              "            '<a target=\"_blank\" href=https://colab.research.google.com/notebooks/data_table.ipynb>data table notebook</a>'\n",
              "            + ' to learn more about interactive tables.';\n",
              "          element.innerHTML = '';\n",
              "          dataTable['output_type'] = 'display_data';\n",
              "          await google.colab.output.renderOutput(dataTable, element);\n",
              "          const docLink = document.createElement('div');\n",
              "          docLink.innerHTML = docLinkHtml;\n",
              "          element.appendChild(docLink);\n",
              "        }\n",
              "      </script>\n",
              "    </div>\n",
              "  </div>\n",
              "  "
            ]
          },
          "metadata": {},
          "execution_count": 51
        }
      ]
    },
    {
      "cell_type": "markdown",
      "source": [
        "**Observation**\n",
        "\n",
        "Converted the negative values into postive values"
      ],
      "metadata": {
        "id": "caIEimkgYMXo"
      }
    },
    {
      "cell_type": "markdown",
      "source": [
        "**2.Convert `AMT_CREDIT` columns into category range of column**"
      ],
      "metadata": {
        "id": "9iEjQZ4IcJMh"
      }
    },
    {
      "cell_type": "code",
      "source": [
        "# 2.Binning\n",
        "\n",
        "#Creating bins for Credit amount\n",
        "\n",
        "application_df['AMT_CREDIT']=application_df['AMT_CREDIT']/100000\n",
        "\n",
        "bins=[0,1,2,3,4,5,6,7,8,9,10,100]\n",
        "slots = ['0-100K','100K-200K', '200k-300k','300k-400k','400k-500k','500k-600k','600k-700k','700k-800k',\n",
        "       '800k-900k','900k-1M', '1M Above']\n",
        "\n",
        "application_df['AMT_CREDIT_RANGE']=pd.cut(application_df['AMT_CREDIT'],bins=bins,labels=slots)"
      ],
      "metadata": {
        "id": "FRY2qmMbaZN6"
      },
      "execution_count": 52,
      "outputs": []
    },
    {
      "cell_type": "code",
      "source": [
        "#checking the binning of data and % of data in each category\n",
        "application_df['AMT_CREDIT_RANGE'].value_counts(normalize=True)*100"
      ],
      "metadata": {
        "colab": {
          "base_uri": "https://localhost:8080/"
        },
        "id": "po2-YabUa3zQ",
        "outputId": "bb9630d7-da7a-42c7-fcfb-4a46ff689d63"
      },
      "execution_count": 53,
      "outputs": [
        {
          "output_type": "execute_result",
          "data": {
            "text/plain": [
              "200k-300k    17.824728\n",
              "1M Above     16.254703\n",
              "500k-600k    11.131960\n",
              "400k-500k    10.418489\n",
              "100K-200K     9.801275\n",
              "300k-400k     8.564897\n",
              "600k-700k     7.820533\n",
              "800k-900k     7.086576\n",
              "700k-800k     6.241403\n",
              "900k-1M       2.902986\n",
              "0-100K        1.952450\n",
              "Name: AMT_CREDIT_RANGE, dtype: float64"
            ]
          },
          "metadata": {},
          "execution_count": 53
        }
      ]
    },
    {
      "cell_type": "markdown",
      "source": [
        "**Observation**\n",
        "\n",
        "More than 16% loan applicants have taken loan which amount more than 1M and only 1.9% of loan applicant have taken only below 100k that was the least percentage of loan taken"
      ],
      "metadata": {
        "id": "gfYbmpYLa_oE"
      }
    },
    {
      "cell_type": "markdown",
      "source": [
        "**3.Creating a AGE columns**"
      ],
      "metadata": {
        "id": "pdTYzGyIcIfP"
      }
    },
    {
      "cell_type": "code",
      "source": [
        "#Creating bins for Age\n",
        "application_df['AGE']=application_df['DAYS_BIRTH']//365\n",
        "bins=[0,20,30,40,50,100]\n",
        "slots = ['0-20','20-30','30-40','40-50','50 above']\n",
        "\n",
        "application_df['AGE_GROUP']=pd.cut(application_df['AGE'],bins=bins,labels=slots)"
      ],
      "metadata": {
        "id": "P7wqnF57cpbT"
      },
      "execution_count": 54,
      "outputs": []
    },
    {
      "cell_type": "code",
      "source": [
        "#checking the binning of data and % of data in each category\n",
        "application_df['AGE_GROUP'].value_counts(normalize=True)*100"
      ],
      "metadata": {
        "colab": {
          "base_uri": "https://localhost:8080/"
        },
        "id": "sG1EA-4OcH0v",
        "outputId": "e300bcb9-ae89-4b34-d492-a87be68281bc"
      },
      "execution_count": 55,
      "outputs": [
        {
          "output_type": "execute_result",
          "data": {
            "text/plain": [
              "50 above    31.604398\n",
              "30-40       27.028952\n",
              "40-50       24.194582\n",
              "20-30       17.171743\n",
              "0-20         0.000325\n",
              "Name: AGE_GROUP, dtype: float64"
            ]
          },
          "metadata": {},
          "execution_count": 55
        }
      ]
    },
    {
      "cell_type": "markdown",
      "source": [
        "**Observation**\n",
        "\n",
        "In 31% of loan applicant have age above 50 years.The 51 % of loan applicant have age between 30 to 50"
      ],
      "metadata": {
        "id": "Vv2zD7F-dNuR"
      }
    },
    {
      "cell_type": "code",
      "source": [
        "#Creating bins for Emplopyment time\n",
        "application_df['YEARS_EMPLOYED']=application_df['DAYS_EMPLOYED']//365\n",
        "bins=[0,5,10,20,30,40,50,60,150]\n",
        "slots=['0-5','5-10','10-20','20-30','30-40','40-50','50-60','60 above']\n",
        "\n",
        "application_df['EMPLOYMENT_YEAR']=pd.cut(application_df['YEARS_EMPLOYED'],bins=bins,labels=slots)"
      ],
      "metadata": {
        "id": "F5NVR3K8DCC8"
      },
      "execution_count": 60,
      "outputs": []
    },
    {
      "cell_type": "code",
      "source": [
        "#checking the binning of data and % of data in each category\n",
        "\n",
        "application_df['EMPLOYMENT_YEAR'].value_counts(normalize=True)*100"
      ],
      "metadata": {
        "colab": {
          "base_uri": "https://localhost:8080/"
        },
        "id": "x61hVaQOEKyx",
        "outputId": "e0c3beac-6ee5-4792-83b9-17b819b76962"
      },
      "execution_count": 61,
      "outputs": [
        {
          "output_type": "execute_result",
          "data": {
            "text/plain": [
              "0-5         55.582363\n",
              "5-10        24.966441\n",
              "10-20       14.564315\n",
              "20-30        3.750117\n",
              "30-40        1.058720\n",
              "40-50        0.078044\n",
              "50-60        0.000000\n",
              "60 above     0.000000\n",
              "Name: EMPLOYMENT_YEAR, dtype: float64"
            ]
          },
          "metadata": {},
          "execution_count": 61
        }
      ]
    },
    {
      "cell_type": "markdown",
      "source": [
        "**Observation**\n",
        "\n",
        "More than 55% of the loan applicants have  0-5 years work exprience"
      ],
      "metadata": {
        "id": "OfrE5T70EctZ"
      }
    },
    {
      "cell_type": "code",
      "source": [
        "#Checking the number of unique values each column possess to identify categorical columns\n",
        "application_df.nunique().sort_values()"
      ],
      "metadata": {
        "colab": {
          "base_uri": "https://localhost:8080/"
        },
        "id": "rV--dPrDEwIC",
        "outputId": "5fd2ea5c-a2e8-40b9-94a4-736d97990d97"
      },
      "execution_count": 62,
      "outputs": [
        {
          "output_type": "execute_result",
          "data": {
            "text/plain": [
              "REG_CITY_NOT_WORK_CITY              2\n",
              "REG_REGION_NOT_LIVE_REGION          2\n",
              "REG_REGION_NOT_WORK_REGION          2\n",
              "LIVE_REGION_NOT_WORK_REGION         2\n",
              "REG_CITY_NOT_LIVE_CITY              2\n",
              "LIVE_CITY_NOT_WORK_CITY             2\n",
              "FLAG_DOCUMENT_3                     2\n",
              "FLAG_MOBIL                          2\n",
              "FLAG_OWN_REALTY                     2\n",
              "NAME_CONTRACT_TYPE                  2\n",
              "TARGET                              2\n",
              "REGION_RATING_CLIENT                3\n",
              "CODE_GENDER                         3\n",
              "REGION_RATING_CLIENT_W_CITY         3\n",
              "AGE_GROUP                           5\n",
              "NAME_EDUCATION_TYPE                 5\n",
              "AMT_REQ_CREDIT_BUREAU_HOUR          5\n",
              "NAME_FAMILY_STATUS                  6\n",
              "NAME_HOUSING_TYPE                   6\n",
              "EMPLOYMENT_YEAR                     6\n",
              "WEEKDAY_APPR_PROCESS_START          7\n",
              "NAME_TYPE_SUITE                     7\n",
              "NAME_INCOME_TYPE                    8\n",
              "AMT_REQ_CREDIT_BUREAU_WEEK          9\n",
              "AMT_REQ_CREDIT_BUREAU_DAY           9\n",
              "DEF_60_CNT_SOCIAL_CIRCLE            9\n",
              "DEF_30_CNT_SOCIAL_CIRCLE           10\n",
              "AMT_CREDIT_RANGE                   11\n",
              "AMT_REQ_CREDIT_BUREAU_QRT          11\n",
              "CNT_CHILDREN                       15\n",
              "CNT_FAM_MEMBERS                    17\n",
              "OCCUPATION_TYPE                    18\n",
              "HOUR_APPR_PROCESS_START            24\n",
              "AMT_REQ_CREDIT_BUREAU_MON          24\n",
              "AMT_REQ_CREDIT_BUREAU_YEAR         25\n",
              "OBS_30_CNT_SOCIAL_CIRCLE           33\n",
              "OBS_60_CNT_SOCIAL_CIRCLE           33\n",
              "AGE                                50\n",
              "YEARS_EMPLOYED                     51\n",
              "ORGANIZATION_TYPE                  58\n",
              "REGION_POPULATION_RELATIVE         81\n",
              "AMT_GOODS_PRICE                  1002\n",
              "AMT_INCOME_TOTAL                 2548\n",
              "DAYS_LAST_PHONE_CHANGE           3773\n",
              "AMT_CREDIT                       5603\n",
              "DAYS_ID_PUBLISH                  6168\n",
              "DAYS_EMPLOYED                   12574\n",
              "AMT_ANNUITY                     13672\n",
              "DAYS_REGISTRATION               15688\n",
              "DAYS_BIRTH                      17460\n",
              "SK_ID_CURR                     307511\n",
              "dtype: int64"
            ]
          },
          "metadata": {},
          "execution_count": 62
        }
      ]
    },
    {
      "cell_type": "markdown",
      "source": [
        "###Data type Conversion"
      ],
      "metadata": {
        "id": "hQ6jOK3IFIQN"
      }
    },
    {
      "cell_type": "code",
      "source": [
        "application_df['AMT_INCOME_TOTAL']"
      ],
      "metadata": {
        "colab": {
          "base_uri": "https://localhost:8080/"
        },
        "id": "A4eBHEmlFg1A",
        "outputId": "b94de624-2054-4d61-cbe0-520755cd3660"
      },
      "execution_count": 67,
      "outputs": [
        {
          "output_type": "execute_result",
          "data": {
            "text/plain": [
              "0         202500.0\n",
              "1         270000.0\n",
              "2          67500.0\n",
              "3         135000.0\n",
              "4         121500.0\n",
              "            ...   \n",
              "307506    157500.0\n",
              "307507     72000.0\n",
              "307508    153000.0\n",
              "307509    171000.0\n",
              "307510    157500.0\n",
              "Name: AMT_INCOME_TOTAL, Length: 307511, dtype: float64"
            ]
          },
          "metadata": {},
          "execution_count": 67
        }
      ]
    },
    {
      "cell_type": "code",
      "source": [
        "# Inspecting the column types if they are in correct data type using the above result\n",
        "\n",
        "application_df.info()"
      ],
      "metadata": {
        "colab": {
          "base_uri": "https://localhost:8080/"
        },
        "id": "5S9yqOCVFL5h",
        "outputId": "f097e3dc-ed58-4fe5-e78d-e552d34badd6"
      },
      "execution_count": 65,
      "outputs": [
        {
          "output_type": "stream",
          "name": "stdout",
          "text": [
            "<class 'pandas.core.frame.DataFrame'>\n",
            "RangeIndex: 307511 entries, 0 to 307510\n",
            "Data columns (total 51 columns):\n",
            " #   Column                       Non-Null Count   Dtype   \n",
            "---  ------                       --------------   -----   \n",
            " 0   SK_ID_CURR                   307511 non-null  int64   \n",
            " 1   TARGET                       307511 non-null  int64   \n",
            " 2   NAME_CONTRACT_TYPE           307511 non-null  object  \n",
            " 3   CODE_GENDER                  307511 non-null  object  \n",
            " 4   FLAG_OWN_REALTY              307511 non-null  object  \n",
            " 5   CNT_CHILDREN                 307511 non-null  int64   \n",
            " 6   AMT_INCOME_TOTAL             307511 non-null  float64 \n",
            " 7   AMT_CREDIT                   307511 non-null  float64 \n",
            " 8   AMT_ANNUITY                  307499 non-null  float64 \n",
            " 9   AMT_GOODS_PRICE              307233 non-null  float64 \n",
            " 10  NAME_TYPE_SUITE              306219 non-null  object  \n",
            " 11  NAME_INCOME_TYPE             307511 non-null  object  \n",
            " 12  NAME_EDUCATION_TYPE          307511 non-null  object  \n",
            " 13  NAME_FAMILY_STATUS           307511 non-null  object  \n",
            " 14  NAME_HOUSING_TYPE            307511 non-null  object  \n",
            " 15  REGION_POPULATION_RELATIVE   307511 non-null  float64 \n",
            " 16  DAYS_BIRTH                   307511 non-null  int64   \n",
            " 17  DAYS_EMPLOYED                307511 non-null  int64   \n",
            " 18  DAYS_REGISTRATION            307511 non-null  float64 \n",
            " 19  DAYS_ID_PUBLISH              307511 non-null  int64   \n",
            " 20  FLAG_MOBIL                   307511 non-null  int64   \n",
            " 21  OCCUPATION_TYPE              211120 non-null  object  \n",
            " 22  CNT_FAM_MEMBERS              307509 non-null  float64 \n",
            " 23  REGION_RATING_CLIENT         307511 non-null  int64   \n",
            " 24  REGION_RATING_CLIENT_W_CITY  307511 non-null  int64   \n",
            " 25  WEEKDAY_APPR_PROCESS_START   307511 non-null  object  \n",
            " 26  HOUR_APPR_PROCESS_START      307511 non-null  int64   \n",
            " 27  REG_REGION_NOT_LIVE_REGION   307511 non-null  int64   \n",
            " 28  REG_REGION_NOT_WORK_REGION   307511 non-null  int64   \n",
            " 29  LIVE_REGION_NOT_WORK_REGION  307511 non-null  int64   \n",
            " 30  REG_CITY_NOT_LIVE_CITY       307511 non-null  int64   \n",
            " 31  REG_CITY_NOT_WORK_CITY       307511 non-null  int64   \n",
            " 32  LIVE_CITY_NOT_WORK_CITY      307511 non-null  int64   \n",
            " 33  ORGANIZATION_TYPE            307511 non-null  object  \n",
            " 34  OBS_30_CNT_SOCIAL_CIRCLE     306490 non-null  float64 \n",
            " 35  DEF_30_CNT_SOCIAL_CIRCLE     306490 non-null  float64 \n",
            " 36  OBS_60_CNT_SOCIAL_CIRCLE     306490 non-null  float64 \n",
            " 37  DEF_60_CNT_SOCIAL_CIRCLE     306490 non-null  float64 \n",
            " 38  DAYS_LAST_PHONE_CHANGE       307510 non-null  float64 \n",
            " 39  FLAG_DOCUMENT_3              307511 non-null  int64   \n",
            " 40  AMT_REQ_CREDIT_BUREAU_HOUR   265992 non-null  float64 \n",
            " 41  AMT_REQ_CREDIT_BUREAU_DAY    265992 non-null  float64 \n",
            " 42  AMT_REQ_CREDIT_BUREAU_WEEK   265992 non-null  float64 \n",
            " 43  AMT_REQ_CREDIT_BUREAU_MON    265992 non-null  float64 \n",
            " 44  AMT_REQ_CREDIT_BUREAU_QRT    265992 non-null  float64 \n",
            " 45  AMT_REQ_CREDIT_BUREAU_YEAR   265992 non-null  float64 \n",
            " 46  AMT_CREDIT_RANGE             307511 non-null  category\n",
            " 47  AGE                          307511 non-null  int64   \n",
            " 48  AGE_GROUP                    307511 non-null  category\n",
            " 49  YEARS_EMPLOYED               307511 non-null  int64   \n",
            " 50  EMPLOYMENT_YEAR              224233 non-null  category\n",
            "dtypes: category(3), float64(18), int64(19), object(11)\n",
            "memory usage: 113.5+ MB\n"
          ]
        }
      ]
    },
    {
      "cell_type": "code",
      "source": [
        "#Conversion of Object and Numerical columns to Categorical Columns\n",
        "categorical_columns = ['NAME_CONTRACT_TYPE','CODE_GENDER','NAME_TYPE_SUITE','NAME_INCOME_TYPE','NAME_EDUCATION_TYPE',\n",
        "                       'NAME_FAMILY_STATUS','NAME_HOUSING_TYPE','OCCUPATION_TYPE','WEEKDAY_APPR_PROCESS_START',\n",
        "                       'ORGANIZATION_TYPE','FLAG_OWN_REALTY','LIVE_CITY_NOT_WORK_CITY',\n",
        "                       'REG_CITY_NOT_LIVE_CITY','REG_CITY_NOT_WORK_CITY','REG_REGION_NOT_WORK_REGION',\n",
        "                       'LIVE_REGION_NOT_WORK_REGION','REGION_RATING_CLIENT','WEEKDAY_APPR_PROCESS_START',\n",
        "                       'REGION_RATING_CLIENT_W_CITY'\n",
        "                      ]\n",
        "for col in categorical_columns:\n",
        "    application_df[col] =pd.Categorical(application_df[col])"
      ],
      "metadata": {
        "id": "TuFK66ruF0lI"
      },
      "execution_count": 75,
      "outputs": []
    },
    {
      "cell_type": "code",
      "source": [
        "application_df.info()"
      ],
      "metadata": {
        "colab": {
          "base_uri": "https://localhost:8080/"
        },
        "id": "oL_rusLPGdCh",
        "outputId": "f1e70090-3a93-4681-880e-ea6f9167c1e8"
      },
      "execution_count": 76,
      "outputs": [
        {
          "output_type": "stream",
          "name": "stdout",
          "text": [
            "<class 'pandas.core.frame.DataFrame'>\n",
            "RangeIndex: 307511 entries, 0 to 307510\n",
            "Data columns (total 51 columns):\n",
            " #   Column                       Non-Null Count   Dtype   \n",
            "---  ------                       --------------   -----   \n",
            " 0   SK_ID_CURR                   307511 non-null  int64   \n",
            " 1   TARGET                       307511 non-null  int64   \n",
            " 2   NAME_CONTRACT_TYPE           307511 non-null  category\n",
            " 3   CODE_GENDER                  307511 non-null  category\n",
            " 4   FLAG_OWN_REALTY              307511 non-null  category\n",
            " 5   CNT_CHILDREN                 307511 non-null  int64   \n",
            " 6   AMT_INCOME_TOTAL             307511 non-null  float64 \n",
            " 7   AMT_CREDIT                   307511 non-null  float64 \n",
            " 8   AMT_ANNUITY                  307499 non-null  float64 \n",
            " 9   AMT_GOODS_PRICE              307233 non-null  float64 \n",
            " 10  NAME_TYPE_SUITE              306219 non-null  category\n",
            " 11  NAME_INCOME_TYPE             307511 non-null  category\n",
            " 12  NAME_EDUCATION_TYPE          307511 non-null  category\n",
            " 13  NAME_FAMILY_STATUS           307511 non-null  category\n",
            " 14  NAME_HOUSING_TYPE            307511 non-null  category\n",
            " 15  REGION_POPULATION_RELATIVE   307511 non-null  float64 \n",
            " 16  DAYS_BIRTH                   307511 non-null  int64   \n",
            " 17  DAYS_EMPLOYED                307511 non-null  int64   \n",
            " 18  DAYS_REGISTRATION            307511 non-null  float64 \n",
            " 19  DAYS_ID_PUBLISH              307511 non-null  int64   \n",
            " 20  FLAG_MOBIL                   307511 non-null  int64   \n",
            " 21  OCCUPATION_TYPE              211120 non-null  category\n",
            " 22  CNT_FAM_MEMBERS              307509 non-null  float64 \n",
            " 23  REGION_RATING_CLIENT         307511 non-null  category\n",
            " 24  REGION_RATING_CLIENT_W_CITY  307511 non-null  category\n",
            " 25  WEEKDAY_APPR_PROCESS_START   307511 non-null  category\n",
            " 26  HOUR_APPR_PROCESS_START      307511 non-null  int64   \n",
            " 27  REG_REGION_NOT_LIVE_REGION   307511 non-null  int64   \n",
            " 28  REG_REGION_NOT_WORK_REGION   307511 non-null  category\n",
            " 29  LIVE_REGION_NOT_WORK_REGION  307511 non-null  category\n",
            " 30  REG_CITY_NOT_LIVE_CITY       307511 non-null  category\n",
            " 31  REG_CITY_NOT_WORK_CITY       307511 non-null  category\n",
            " 32  LIVE_CITY_NOT_WORK_CITY      307511 non-null  category\n",
            " 33  ORGANIZATION_TYPE            307511 non-null  category\n",
            " 34  OBS_30_CNT_SOCIAL_CIRCLE     306490 non-null  float64 \n",
            " 35  DEF_30_CNT_SOCIAL_CIRCLE     306490 non-null  float64 \n",
            " 36  OBS_60_CNT_SOCIAL_CIRCLE     306490 non-null  float64 \n",
            " 37  DEF_60_CNT_SOCIAL_CIRCLE     306490 non-null  float64 \n",
            " 38  DAYS_LAST_PHONE_CHANGE       307510 non-null  float64 \n",
            " 39  FLAG_DOCUMENT_3              307511 non-null  int64   \n",
            " 40  AMT_REQ_CREDIT_BUREAU_HOUR   265992 non-null  float64 \n",
            " 41  AMT_REQ_CREDIT_BUREAU_DAY    265992 non-null  float64 \n",
            " 42  AMT_REQ_CREDIT_BUREAU_WEEK   265992 non-null  float64 \n",
            " 43  AMT_REQ_CREDIT_BUREAU_MON    265992 non-null  float64 \n",
            " 44  AMT_REQ_CREDIT_BUREAU_QRT    265992 non-null  float64 \n",
            " 45  AMT_REQ_CREDIT_BUREAU_YEAR   265992 non-null  float64 \n",
            " 46  AMT_CREDIT_RANGE             307511 non-null  category\n",
            " 47  AGE                          307511 non-null  int64   \n",
            " 48  AGE_GROUP                    307511 non-null  category\n",
            " 49  YEARS_EMPLOYED               307511 non-null  int64   \n",
            " 50  EMPLOYMENT_YEAR              224233 non-null  category\n",
            "dtypes: category(21), float64(18), int64(12)\n",
            "memory usage: 76.5 MB\n"
          ]
        }
      ]
    },
    {
      "cell_type": "markdown",
      "source": [
        "##**Standardize Values of application dataset**"
      ],
      "metadata": {
        "id": "Jfrt5Z00G_RK"
      }
    },
    {
      "cell_type": "code",
      "source": [
        "#Checking the number of unique values each column posses to identify categorical columns\n",
        "\n",
        "previous_app_df.nunique().sort_values()"
      ],
      "metadata": {
        "colab": {
          "base_uri": "https://localhost:8080/"
        },
        "id": "G6FlIc33HCxg",
        "outputId": "cfcb6ca0-ce13-4d4e-ce1e-ae98c303e666"
      },
      "execution_count": 78,
      "outputs": [
        {
          "output_type": "execute_result",
          "data": {
            "text/plain": [
              "NAME_PRODUCT_TYPE               3\n",
              "NAME_PAYMENT_TYPE               4\n",
              "NAME_CONTRACT_TYPE              4\n",
              "NAME_CLIENT_TYPE                4\n",
              "NAME_CONTRACT_STATUS            4\n",
              "NAME_PORTFOLIO                  5\n",
              "NAME_YIELD_GROUP                5\n",
              "CHANNEL_TYPE                    8\n",
              "CODE_REJECT_REASON              9\n",
              "NAME_SELLER_INDUSTRY           11\n",
              "PRODUCT_COMBINATION            17\n",
              "NAME_CASH_LOAN_PURPOSE         25\n",
              "NAME_GOODS_CATEGORY            28\n",
              "CNT_PAYMENT                    49\n",
              "SELLERPLACE_AREA             2097\n",
              "DAYS_DECISION                2922\n",
              "AMT_CREDIT                  86803\n",
              "AMT_GOODS_PRICE             93885\n",
              "AMT_APPLICATION             93885\n",
              "SK_ID_CURR                 338857\n",
              "AMT_ANNUITY                357959\n",
              "SK_ID_PREV                1670214\n",
              "dtype: int64"
            ]
          },
          "metadata": {},
          "execution_count": 78
        }
      ]
    },
    {
      "cell_type": "code",
      "source": [
        "#Checking the column datatypes\n",
        "previous_app_df.info()"
      ],
      "metadata": {
        "colab": {
          "base_uri": "https://localhost:8080/"
        },
        "id": "3LoBRxyVHsYp",
        "outputId": "cdc40c15-5a96-48df-f57a-a9b34342a51f"
      },
      "execution_count": 79,
      "outputs": [
        {
          "output_type": "stream",
          "name": "stdout",
          "text": [
            "<class 'pandas.core.frame.DataFrame'>\n",
            "RangeIndex: 1670214 entries, 0 to 1670213\n",
            "Data columns (total 22 columns):\n",
            " #   Column                  Non-Null Count    Dtype  \n",
            "---  ------                  --------------    -----  \n",
            " 0   SK_ID_PREV              1670214 non-null  int64  \n",
            " 1   SK_ID_CURR              1670214 non-null  int64  \n",
            " 2   NAME_CONTRACT_TYPE      1670214 non-null  object \n",
            " 3   AMT_ANNUITY             1297979 non-null  float64\n",
            " 4   AMT_APPLICATION         1670214 non-null  float64\n",
            " 5   AMT_CREDIT              1670213 non-null  float64\n",
            " 6   AMT_GOODS_PRICE         1284699 non-null  float64\n",
            " 7   NAME_CASH_LOAN_PURPOSE  1670214 non-null  object \n",
            " 8   NAME_CONTRACT_STATUS    1670214 non-null  object \n",
            " 9   DAYS_DECISION           1670214 non-null  int64  \n",
            " 10  NAME_PAYMENT_TYPE       1670214 non-null  object \n",
            " 11  CODE_REJECT_REASON      1670214 non-null  object \n",
            " 12  NAME_CLIENT_TYPE        1670214 non-null  object \n",
            " 13  NAME_GOODS_CATEGORY     1670214 non-null  object \n",
            " 14  NAME_PORTFOLIO          1670214 non-null  object \n",
            " 15  NAME_PRODUCT_TYPE       1670214 non-null  object \n",
            " 16  CHANNEL_TYPE            1670214 non-null  object \n",
            " 17  SELLERPLACE_AREA        1670214 non-null  int64  \n",
            " 18  NAME_SELLER_INDUSTRY    1670214 non-null  object \n",
            " 19  CNT_PAYMENT             1297984 non-null  float64\n",
            " 20  NAME_YIELD_GROUP        1670214 non-null  object \n",
            " 21  PRODUCT_COMBINATION     1669868 non-null  object \n",
            "dtypes: float64(5), int64(4), object(13)\n",
            "memory usage: 280.3+ MB\n"
          ]
        }
      ]
    },
    {
      "cell_type": "code",
      "source": [
        "# converting negative days to positive days\n",
        "previous_app_df['DAYS_DECISION']=abs(previous_app_df['DAYS_DECISION'])\n",
        "previous_app_df['DAYS_DECISION']"
      ],
      "metadata": {
        "colab": {
          "base_uri": "https://localhost:8080/"
        },
        "id": "o9BfgjqtH7_I",
        "outputId": "ce010fc7-a5dd-49d3-c518-a380aa09c540"
      },
      "execution_count": 83,
      "outputs": [
        {
          "output_type": "execute_result",
          "data": {
            "text/plain": [
              "0            73\n",
              "1           164\n",
              "2           301\n",
              "3           512\n",
              "4           781\n",
              "           ... \n",
              "1670209     544\n",
              "1670210    1694\n",
              "1670211    1488\n",
              "1670212    1185\n",
              "1670213    1193\n",
              "Name: DAYS_DECISION, Length: 1670214, dtype: int64"
            ]
          },
          "metadata": {},
          "execution_count": 83
        }
      ]
    },
    {
      "cell_type": "code",
      "source": [
        "#age group calculation e.g. 388 will be grouped as 300-400\n",
        "previous_app_df['DAYS_DECISION_GROUP'] = (previous_app_df['DAYS_DECISION']-(previous_app_df['DAYS_DECISION'] % 400)).astype(str)+'-'+ ((previous_app_df['DAYS_DECISION'] - (previous_app_df['DAYS_DECISION'] % 400)) + (previous_app_df['DAYS_DECISION'] % 400) + (400 - (previous_app_df['DAYS_DECISION'] % 400))).astype(str)"
      ],
      "metadata": {
        "id": "2gGpgus3IWyA"
      },
      "execution_count": 85,
      "outputs": []
    },
    {
      "cell_type": "code",
      "source": [
        "previous_app_df['DAYS_DECISION_GROUP']"
      ],
      "metadata": {
        "colab": {
          "base_uri": "https://localhost:8080/"
        },
        "id": "KtxJxp38J2dA",
        "outputId": "6ab2324f-9cbf-4b9d-c7bf-01db1f661f8f"
      },
      "execution_count": 86,
      "outputs": [
        {
          "output_type": "execute_result",
          "data": {
            "text/plain": [
              "0              0-400\n",
              "1              0-400\n",
              "2              0-400\n",
              "3            400-800\n",
              "4            400-800\n",
              "             ...    \n",
              "1670209      400-800\n",
              "1670210    1600-2000\n",
              "1670211    1200-1600\n",
              "1670212     800-1200\n",
              "1670213     800-1200\n",
              "Name: DAYS_DECISION_GROUP, Length: 1670214, dtype: object"
            ]
          },
          "metadata": {},
          "execution_count": 86
        }
      ]
    },
    {
      "cell_type": "code",
      "source": [
        "previous_app_df['DAYS_DECISION_GROUP'].value_counts(normalize=True)*100"
      ],
      "metadata": {
        "colab": {
          "base_uri": "https://localhost:8080/"
        },
        "id": "17CLJ56lJ8vJ",
        "outputId": "92f6c889-cdf5-4f35-b14d-def26ecdfe83"
      },
      "execution_count": 88,
      "outputs": [
        {
          "output_type": "execute_result",
          "data": {
            "text/plain": [
              "0-400        37.490525\n",
              "400-800      22.944724\n",
              "800-1200     12.444753\n",
              "1200-1600     7.904556\n",
              "2400-2800     6.297456\n",
              "1600-2000     5.795784\n",
              "2000-2400     5.684960\n",
              "2800-3200     1.437241\n",
              "Name: DAYS_DECISION_GROUP, dtype: float64"
            ]
          },
          "metadata": {},
          "execution_count": 88
        }
      ]
    },
    {
      "cell_type": "markdown",
      "source": [
        "**Observation**\n",
        "\n",
        "Almost 37% loan applicatants have applied for a new loan within 0-400 days of previous loan decision"
      ],
      "metadata": {
        "id": "GaFIu0CyKMsV"
      }
    }
  ]
}